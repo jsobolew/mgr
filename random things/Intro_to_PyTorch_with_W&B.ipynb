{
  "cells": [
    {
      "cell_type": "markdown",
      "metadata": {
        "id": "FCbmQrWI9dku"
      },
      "source": [
        "# Welcome!\n",
        "In this tutorial we'll walk through a simple convolutional neural network to classify the images in [CIFAR10](https://www.cs.toronto.edu/~kriz/cifar.html) using PyTorch.\n",
        "\n",
        "We’ll also set up Weights & Biases to log models metrics, inspect performance and share findings about the best architecture for the network. In this example we're using Google Colab as a convenient hosted environment, but you can run your own training scripts from anywhere and visualize metrics with W&B's experiment tracking tool.\n",
        "\n",
        "## Getting Started\n",
        "\n",
        "1. Click \"Open in playground\" to create a copy of this notebook for yourself.\n",
        "1. Save a copy in Google Drive for yourself.\n",
        "1. Step through each section below, pressing play on the code blocks to run the cells.\n",
        "\n",
        "Results will be logged to a [shared W&B project page](https://app.wandb.ai/wandb/pytorch-intro).\n",
        "\n",
        "![alt text](https://i.imgur.com/8SPcpvn.png)"
      ]
    },
    {
      "cell_type": "markdown",
      "metadata": {
        "id": "ukX2ptqLfgOj"
      },
      "source": [
        "## Setup"
      ]
    },
    {
      "cell_type": "markdown",
      "metadata": {
        "id": "haJFhFkjyzkq"
      },
      "source": [
        "Here we add a few lines of code to:\n",
        "\n",
        "\n",
        "*   **pip install wandb** – Install the W&B library\n",
        "*   **import wandb** – Import the wandb library\n",
        "*   **wandb login** – Login to your W&B account so you can log all your metrics in one place\n",
        "\n"
      ]
    },
    {
      "cell_type": "code",
      "execution_count": 1,
      "metadata": {
        "colab": {
          "base_uri": "https://localhost:8080/",
          "height": 238
        },
        "id": "ZsueEW0Zdovz",
        "outputId": "8965c075-ec0a-4156-a70c-ffca739425c6"
      },
      "outputs": [],
      "source": [
        "# WandB – Install the W&B library\n",
        "!pip install wandb -q"
      ]
    },
    {
      "cell_type": "code",
      "execution_count": 2,
      "metadata": {
        "id": "oewlztOSe5n4"
      },
      "outputs": [],
      "source": [
        "from __future__ import print_function\n",
        "import argparse\n",
        "import random # to set the python random seed\n",
        "import numpy # to set the numpy random seed\n",
        "import torch\n",
        "import torch.nn as nn\n",
        "import torch.nn.functional as F\n",
        "import torch.optim as optim\n",
        "from torchvision import datasets, transforms\n",
        "# Ignore excessive warnings\n",
        "import logging\n",
        "logging.propagate = False \n",
        "logging.getLogger().setLevel(logging.ERROR)\n",
        "\n",
        "# WandB – Import the wandb library\n",
        "import wandb"
      ]
    },
    {
      "cell_type": "markdown",
      "metadata": {
        "id": "yEVU__kI9rwN"
      },
      "source": [
        "The script will prompt you to create a free W&B account to track your model metrics and save your progress."
      ]
    },
    {
      "cell_type": "code",
      "execution_count": 3,
      "metadata": {
        "colab": {
          "base_uri": "https://localhost:8080/",
          "height": 95
        },
        "id": "rsSGtmAVfMZk",
        "outputId": "cd09f9c1-59d0-478b-8520-1534e0e6d036"
      },
      "outputs": [
        {
          "name": "stderr",
          "output_type": "stream",
          "text": [
            "wandb: ERROR Find detailed error logs at: C:\\Users\\QbaSo\\AppData\\Local\\Temp\\debug-cli.QbaSo.log\n",
            "Error: api_key not configured (no-tty). call wandb login [your_api_key]\n"
          ]
        }
      ],
      "source": [
        "# WandB – Login to your wandb account so you can log all your metrics\n",
        "!wandb login"
      ]
    },
    {
      "cell_type": "markdown",
      "metadata": {
        "id": "JklaxjJ-f0dl"
      },
      "source": [
        "## Define the Neural Network"
      ]
    },
    {
      "cell_type": "code",
      "execution_count": 4,
      "metadata": {
        "id": "axH9Vd7igjO3"
      },
      "outputs": [],
      "source": [
        "class Net(nn.Module):\n",
        "    def __init__(self):\n",
        "        super(Net, self).__init__()\n",
        "        \n",
        "        # In our constructor, we define our neural network architecture that we'll use in the forward pass.\n",
        "        # Conv2d() adds a convolution layer that generates 2 dimensional feature maps to learn different aspects of our image\n",
        "        self.conv1 = nn.Conv2d(3, 6, kernel_size=5)\n",
        "        self.conv2 = nn.Conv2d(6, 16, kernel_size=5)\n",
        "        \n",
        "        # Linear(x,y) creates dense, fully connected layers with x inputs and y outputs\n",
        "        # Linear layers simply output the dot product of our inputs and weights.\n",
        "        self.fc1 = nn.Linear(16 * 5 * 5, 120)\n",
        "        self.fc2 = nn.Linear(120, 84)\n",
        "        self.fc3 = nn.Linear(84, 10)\n",
        "\n",
        "    def forward(self, x):\n",
        "        # Here we feed the feature maps from the convolutional layers into a max_pool2d layer.\n",
        "        # The max_pool2d layer reduces the size of the image representation our convolutional layers learnt,\n",
        "        # and in doing so it reduces the number of parameters and computations the network needs to perform.\n",
        "        # Finally we apply the relu activation function which gives us max(0, max_pool2d_output)\n",
        "        x = F.relu(F.max_pool2d(self.conv1(x), 2))\n",
        "        x = F.relu(F.max_pool2d(self.conv2(x), 2))\n",
        "        \n",
        "        # Reshapes x into size (-1, 16 * 5 * 5) so we can feed the convolution layer outputs into our fully connected layer\n",
        "        x = x.view(-1, 16 * 5 * 5)\n",
        "        \n",
        "        # We apply the relu activation function and dropout to the output of our fully connected layers\n",
        "        x = F.relu(self.fc1(x))\n",
        "        x = F.relu(self.fc2(x))\n",
        "        x = self.fc3(x)\n",
        "        \n",
        "        # Finally we apply the softmax function to squash the probabilities of each class (0-9) and ensure they add to 1.\n",
        "        return F.log_softmax(x, dim=1)"
      ]
    },
    {
      "cell_type": "markdown",
      "metadata": {
        "id": "JhwLCOvOf5AO"
      },
      "source": [
        "## Define the Training Loop"
      ]
    },
    {
      "cell_type": "code",
      "execution_count": 5,
      "metadata": {
        "id": "GesC-mYBNt1e"
      },
      "outputs": [],
      "source": [
        "def train(args, model, device, train_loader, optimizer, epoch):\n",
        "    # Switch model to training mode. This is necessary for layers like dropout, batchnorm etc which behave differently in training and evaluation mode\n",
        "    model.train()\n",
        "    \n",
        "    # We loop over the data iterator, and feed the inputs to the network and adjust the weights.\n",
        "    for batch_idx, (data, target) in enumerate(train_loader):\n",
        "        if batch_idx > 20:\n",
        "          break\n",
        "        # Load the input features and labels from the training dataset\n",
        "        data, target = data.to(device), target.to(device)\n",
        "        \n",
        "        # Reset the gradients to 0 for all learnable weight parameters\n",
        "        optimizer.zero_grad()\n",
        "        \n",
        "        # Forward pass: Pass image data from training dataset, make predictions about class image belongs to (0-9 in this case)\n",
        "        output = model(data)\n",
        "        \n",
        "        # Define our loss function, and compute the loss\n",
        "        loss = F.nll_loss(output, target)\n",
        "        \n",
        "        # Backward pass: compute the gradients of the loss w.r.t. the model's parameters\n",
        "        loss.backward()\n",
        "        \n",
        "        # Update the neural network weights\n",
        "        optimizer.step()"
      ]
    },
    {
      "cell_type": "markdown",
      "metadata": {
        "id": "JZgbzo6IgAZK"
      },
      "source": [
        "## Define the Evaluation Step\n",
        "\n",
        "Here we add a line of code to:\n",
        "\n",
        "*   **wandb.log()** – Log your metrics (accuracy, loss and epoch) and examples of images along with the predicted and true labels. This allows you to visualize your neural network's performance over time."
      ]
    },
    {
      "cell_type": "code",
      "execution_count": 6,
      "metadata": {
        "id": "nrpuF3ZQNt5W"
      },
      "outputs": [],
      "source": [
        "def test(args, model, device, test_loader, classes):\n",
        "    # Switch model to evaluation mode. This is necessary for layers like dropout, batchnorm etc which behave differently in training and evaluation mode\n",
        "    model.eval()\n",
        "    test_loss = 0\n",
        "    correct = 0\n",
        "\n",
        "    example_images = []\n",
        "    with torch.no_grad():\n",
        "        for data, target in test_loader:\n",
        "            # Load the input features and labels from the test dataset\n",
        "            data, target = data.to(device), target.to(device)\n",
        "            \n",
        "            # Make predictions: Pass image data from test dataset, make predictions about class image belongs to (0-9 in this case)\n",
        "            output = model(data)\n",
        "            \n",
        "            # Compute the loss sum up batch loss\n",
        "            test_loss += F.nll_loss(output, target, reduction='sum').item()\n",
        "            \n",
        "            # Get the index of the max log-probability\n",
        "            pred = output.max(1, keepdim=True)[1]\n",
        "            correct += pred.eq(target.view_as(pred)).sum().item()\n",
        "            \n",
        "            # WandB – Log images in your test dataset automatically, along with predicted and true labels by passing pytorch tensors with image data into wandb.Image\n",
        "            example_images.append(wandb.Image(\n",
        "                data[0], caption=\"Pred: {} Truth: {}\".format(classes[pred[0].item()], classes[target[0]])))\n",
        "    \n",
        "    # WandB – wandb.log(a_dict) logs the keys and values of the dictionary passed in and associates the values with a step.\n",
        "    # You can log anything by passing it to wandb.log, including histograms, custom matplotlib objects, images, video, text, tables, html, pointclouds and other 3D objects.\n",
        "    # Here we use it to log test accuracy, loss and some test images (along with their true and predicted labels).\n",
        "    wandb.log({\n",
        "        \"Examples\": example_images,\n",
        "        \"Test Accuracy\": 100. * correct / len(test_loader.dataset),\n",
        "        \"Test Loss\": test_loss})"
      ]
    },
    {
      "cell_type": "markdown",
      "metadata": {
        "id": "7Ghqog6WHupx"
      },
      "source": []
    },
    {
      "cell_type": "markdown",
      "metadata": {
        "id": "jH8yXrpKhDip"
      },
      "source": [
        "# Train, Edit, and Retrain\n",
        "Run wandb.init() each time you start a new run. For this tutorial we're logging results to an open, shared project called \"[pytorch-intro](https://app.wandb.ai/wandb/pytorch-intro/)\" so everyone's results go into the same project. (The entity refers to the team name this project is under. In this case I've set it up as my own team, \"wandb\").\n",
        "\n",
        "You can see other runs on the [project page](https://app.wandb.ai/wandb/pytorch-intro/).\n",
        "\n",
        "## Initialize Hyperparameters\n",
        "\n",
        "Here we add a few lines of code to:\n",
        "*   **wandb.init()** – Initialize a new W&B run. Each run is single execution of the training script.\n",
        "*   **wandb.config** – Save all your hyperparameters in a config object. This lets you use our app to sort and compare your runs by hyperparameter values.\n",
        "\n",
        "We encourage you to tweak these and run this cell again to see if you can achieve improved model performance!\n",
        "\n",
        "## Track Results\n",
        "*   **wandb.watch()** – Fetch all layer dimensions, gradients, model parameters and log them automatically to your dashboard.\n",
        "*   **wandb.save()** – Save the model checkpoint."
      ]
    },
    {
      "cell_type": "code",
      "execution_count": 7,
      "metadata": {
        "colab": {
          "base_uri": "https://localhost:8080/",
          "height": 102
        },
        "id": "bZpt5W2NNl6S",
        "outputId": "0e5213fb-7d69-4424-8267-de21762fa2bb"
      },
      "outputs": [
        {
          "name": "stderr",
          "output_type": "stream",
          "text": [
            "Failed to detect the name of this notebook, you can set it manually with the WANDB_NOTEBOOK_NAME environment variable to enable code saving.\n",
            "\u001b[34m\u001b[1mwandb\u001b[0m: Logging into wandb.ai. (Learn how to deploy a W&B server locally: https://wandb.me/wandb-server)\n",
            "\u001b[34m\u001b[1mwandb\u001b[0m: You can find your API key in your browser here: https://wandb.ai/authorize\n",
            "\u001b[34m\u001b[1mwandb\u001b[0m: Paste an API key from your profile and hit enter, or press ctrl+c to quit:\u001b[34m\u001b[1mwandb\u001b[0m: Paste an API key from your profile and hit enter, or press ctrl+c to quit:\u001b[34m\u001b[1mwandb\u001b[0m: Paste an API key from your profile and hit enter, or press ctrl+c to quit:\u001b[34m\u001b[1mwandb\u001b[0m: Paste an API key from your profile and hit enter, or press ctrl+c to quit:"
          ]
        }
      ],
      "source": [
        "# WandB – Initialize a new run\n",
        "wandb.init(entity=\"wandb\", project=\"pytorch-intro\")\n",
        "wandb.watch_called = False # Re-run the model without restarting the runtime, unnecessary after our next release\n",
        "\n",
        "# WandB – Config is a variable that holds and saves hyperparameters and inputs\n",
        "config = wandb.config          # Initialize config\n",
        "config.batch_size = 4          # input batch size for training (default: 64)\n",
        "config.test_batch_size = 10    # input batch size for testing (default: 1000)\n",
        "config.epochs = 50             # number of epochs to train (default: 10)\n",
        "config.lr = 0.1               # learning rate (default: 0.01)\n",
        "config.momentum = 0.1          # SGD momentum (default: 0.5) \n",
        "config.no_cuda = False         # disables CUDA training\n",
        "config.seed = 42               # random seed (default: 42)\n",
        "config.log_interval = 10     # how many batches to wait before logging training status\n",
        "\n",
        "def main():\n",
        "    use_cuda = not config.no_cuda and torch.cuda.is_available()\n",
        "    device = torch.device(\"cuda\" if use_cuda else \"cpu\")\n",
        "    kwargs = {'num_workers': 1, 'pin_memory': True} if use_cuda else {}\n",
        "    \n",
        "    # Set random seeds and deterministic pytorch for reproducibility\n",
        "    # random.seed(config.seed)       # python random seed\n",
        "    torch.manual_seed(config.seed) # pytorch random seed\n",
        "    # numpy.random.seed(config.seed) # numpy random seed\n",
        "    torch.backends.cudnn.deterministic = True\n",
        "\n",
        "    # Load the dataset: We're training our CNN on CIFAR10 (https://www.cs.toronto.edu/~kriz/cifar.html)\n",
        "    # First we define the tranformations to apply to our images\n",
        "    transform = transforms.Compose(\n",
        "    [transforms.ToTensor(),\n",
        "     transforms.Normalize((0.5, 0.5, 0.5), (0.5, 0.5, 0.5))])\n",
        "    \n",
        "    # Now we load our training and test datasets and apply the transformations defined above\n",
        "    train_loader = torch.utils.data.DataLoader(datasets.CIFAR10(root='./data', train=True,\n",
        "                                              download=True, transform=transform), batch_size=config.batch_size,\n",
        "                                              shuffle=True, **kwargs)\n",
        "    test_loader = torch.utils.data.DataLoader(datasets.CIFAR10(root='./data', train=False,\n",
        "                                             download=True, transform=transform), batch_size=config.test_batch_size,\n",
        "                                             shuffle=False, **kwargs)\n",
        "\n",
        "    classes = ('plane', 'car', 'bird', 'cat',\n",
        "               'deer', 'dog', 'frog', 'horse', 'ship', 'truck')\n",
        "\n",
        "    # Initialize our model, recursively go over all modules and convert their parameters and buffers to CUDA tensors (if device is set to cuda)\n",
        "    model = Net().to(device)\n",
        "    optimizer = optim.SGD(model.parameters(), lr=config.lr,\n",
        "                          momentum=config.momentum)\n",
        "    \n",
        "    # WandB – wandb.watch() automatically fetches all layer dimensions, gradients, model parameters and logs them automatically to your dashboard.\n",
        "    # Using log=\"all\" log histograms of parameter values in addition to gradients\n",
        "    wandb.watch(model, log=\"all\")\n",
        "\n",
        "    for epoch in range(1, config.epochs + 1):\n",
        "        train(config, model, device, train_loader, optimizer, epoch)\n",
        "        test(config, model, device, test_loader, classes)\n",
        "        \n",
        "    # WandB – Save the model checkpoint. This automatically saves a file to the cloud and associates it with the current run.\n",
        "    torch.save(model.state_dict(), \"model.h5\")\n",
        "    wandb.save('model.h5')\n",
        "\n",
        "if __name__ == '__main__':\n",
        "    main()"
      ]
    },
    {
      "cell_type": "markdown",
      "metadata": {
        "id": "I7sKQuBBgFZ_"
      },
      "source": [
        "# See Live Results\n",
        "1. Check out the [project page](https://app.wandb.ai/wandb/pytorch-intro/) to see your results in the shared project. \n",
        "1. Press 'option+space' to expand the runs table, comparing all the results from everyone who has tried this script. \n",
        "1. Click on the name of a run to dive in deeper to that single run on its own run page.\n",
        "\n",
        "![project page](https://i.imgur.com/I1PM9YJ.png)\n",
        "\n",
        "\n",
        "## Visualize Gradients\n",
        "Click through to a single run to see more details about that run. For example, on [this run page](https://app.wandb.ai/wandb/pytorch-intro/runs/f8mmkoxt) you can see the gradients I logged when I ran this script.\n",
        "\n",
        "![gradients](https://i.imgur.com/za8S6Xv.png)\n",
        "\n",
        "\n",
        "## Visualize Predictions\n",
        "You can visualize predictions made at everystep by clicking on the Media tab. Here we can see an example of true labels and predictions made by our model on the CIFAR dataset.\n",
        "\n",
        "![predictions](https://i.imgur.com/vzye9ei.png)\n",
        "\n",
        "\n",
        "## Review Code\n",
        "The overview tab picks up a link to the code. In this case, it's a link to the Google Colab. If you're running a script from a git repo, we'll pick up the SHA of the latest git commit and give you a link to that version of the code in your own GitHub repo.\n",
        "\n",
        "![overview](https://i.imgur.com/FEBNXcI.png)\n",
        "\n",
        "## Visualize Relationships\n",
        "Use a parallel coordinates chart to see the relationship between hyperparameters and output metrics. Here, I'm looking at how the learning rate and other metrics I saved in \"config\" affect my loss and accuracy.\n",
        "\n",
        "![parallel coordinates plot](https://i.imgur.com/cg1uodx.png)\n",
        "\n",
        "\n",
        "## Next Steps\n",
        "\n",
        "We encourage you to fork this colab notebook, tweak some hyperparameters and see if you can beat the leading model! Your goal is to maximize Test Accuracy. Good luck!"
      ]
    },
    {
      "cell_type": "markdown",
      "metadata": {
        "id": "43mWDdCzZZeH"
      },
      "source": [
        "## More about Weights & Biases\n",
        "We're always free for academics and open source projects. Email carey@wandb.com with any questions or feature suggestions. Here are some more resources:\n",
        "\n",
        "1. [Documentation](http://docs.wandb.com) - Python docs\n",
        "2. [Gallery](https://app.wandb.ai/gallery) - example reports in W&B\n",
        "3. [Articles](https://www.wandb.com/articles) - blog posts and tutorials\n",
        "4. [Community](bit.ly/wandb-forum) - join our Slack community forum"
      ]
    },
    {
      "cell_type": "code",
      "execution_count": null,
      "metadata": {
        "id": "Azsi2QytL7we"
      },
      "outputs": [],
      "source": []
    }
  ],
  "metadata": {
    "colab": {
      "provenance": []
    },
    "kernelspec": {
      "display_name": "bootcamp_env",
      "language": "python",
      "name": "bootcamp_env"
    },
    "language_info": {
      "codemirror_mode": {
        "name": "ipython",
        "version": 3
      },
      "file_extension": ".py",
      "mimetype": "text/x-python",
      "name": "python",
      "nbconvert_exporter": "python",
      "pygments_lexer": "ipython3",
      "version": "3.9.10"
    }
  },
  "nbformat": 4,
  "nbformat_minor": 0
}
