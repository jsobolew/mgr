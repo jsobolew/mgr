{
 "cells": [
  {
   "cell_type": "code",
   "execution_count": 7,
   "metadata": {},
   "outputs": [],
   "source": [
    "import torch\n",
    "from Nets import Net\n",
    "from functions import test, train, save_pruned_model\n",
    "from dataloaders.noise import dataloader_pretraining_gray\n",
    "from dataloaders.mnist import MNIST\n",
    "import numpy as np\n",
    "import torch.optim as optim\n",
    "import matplotlib.pyplot as plt\n",
    "import wandb\n",
    "\n",
    "torch.cuda.is_available()\n",
    "device = 'cuda'"
   ]
  },
  {
   "cell_type": "code",
   "execution_count": 22,
   "metadata": {},
   "outputs": [],
   "source": [
    "import torch.nn.functional as F\n",
    "\n",
    "def train(model, optimizer, train_loader, val_loader = [], epoch = 1, log_interval = 100):\n",
    "    train_losses = []\n",
    "    val_losses = []\n",
    "    exemplers = []\n",
    "    model.train()\n",
    "    for e in range(epoch):\n",
    "        for batch_idx, (data, target) in enumerate(train_loader):\n",
    "            exemplers.append(train_loader.batch_size * batch_idx)\n",
    "            optimizer.zero_grad()\n",
    "            output = model(data)\n",
    "            loss = F.cross_entropy(output, target)\n",
    "            loss.backward()\n",
    "            optimizer.step()\n",
    "            if batch_idx % log_interval == 0:\n",
    "                print(f\"Epoch {e+1} [{batch_idx * len(data)} / {len(train_loader.dataset)}]       loss: {loss.item()}\")\n",
    "                wandb.log({'train_loss': loss.item()})\n",
    "            if val_loader and batch_idx % log_interval == 0:\n",
    "                acc  = test(model, val_loader, print_accuracy=False)\n",
    "                val_losses.append(acc)\n",
    "                wandb.log({'val_acc': acc})\n",
    "            train_losses.append(loss.item())\n",
    "    return train_losses, val_losses, exemplers"
   ]
  },
  {
   "cell_type": "code",
   "execution_count": 3,
   "metadata": {},
   "outputs": [],
   "source": [
    "dataset_names = ['dead_leaves-mixed',\n",
    " 'dead_leaves-oriented',\n",
    " 'dead_leaves-squares',\n",
    " 'dead_leaves-textures',\n",
    " 'stat-spectrum',\n",
    " 'stat-spectrum_color',\n",
    " 'stat-spectrum_color_wmm',\n",
    " 'stat-wmm',\n",
    " 'stylegan-highfreq',\n",
    " 'stylegan-random']"
   ]
  },
  {
   "cell_type": "code",
   "execution_count": 23,
   "metadata": {},
   "outputs": [
    {
     "data": {
      "text/html": [
       "Finishing last run (ID:w6hfc1z2) before initializing another..."
      ],
      "text/plain": [
       "<IPython.core.display.HTML object>"
      ]
     },
     "metadata": {},
     "output_type": "display_data"
    },
    {
     "data": {
      "text/html": [
       "Waiting for W&B process to finish... <strong style=\"color:green\">(success).</strong>"
      ],
      "text/plain": [
       "<IPython.core.display.HTML object>"
      ]
     },
     "metadata": {},
     "output_type": "display_data"
    },
    {
     "data": {
      "text/html": [
       "<style>\n",
       "    table.wandb td:nth-child(1) { padding: 0 10px; text-align: left ; width: auto;} td:nth-child(2) {text-align: left ; width: 100%}\n",
       "    .wandb-row { display: flex; flex-direction: row; flex-wrap: wrap; justify-content: flex-start; width: 100% }\n",
       "    .wandb-col { display: flex; flex-direction: column; flex-basis: 100%; flex: 1; padding: 10px; }\n",
       "    </style>\n",
       "<div class=\"wandb-row\"><div class=\"wandb-col\"><h3>Run history:</h3><br/><table class=\"wandb\"><tr><td>accuracy</td><td>▁</td></tr></table><br/></div><div class=\"wandb-col\"><h3>Run summary:</h3><br/><table class=\"wandb\"><tr><td>accuracy</td><td>52.96</td></tr><tr><td>piwo</td><td>test</td></tr></table><br/></div></div>"
      ],
      "text/plain": [
       "<IPython.core.display.HTML object>"
      ]
     },
     "metadata": {},
     "output_type": "display_data"
    },
    {
     "data": {
      "text/html": [
       " View run <strong style=\"color:#cdcd00\">rare-dragon-4</strong> at: <a href='https://wandb.ai/qba/pretraining%20and%20mnist/runs/w6hfc1z2' target=\"_blank\">https://wandb.ai/qba/pretraining%20and%20mnist/runs/w6hfc1z2</a><br/>Synced 5 W&B file(s), 0 media file(s), 0 artifact file(s) and 0 other file(s)"
      ],
      "text/plain": [
       "<IPython.core.display.HTML object>"
      ]
     },
     "metadata": {},
     "output_type": "display_data"
    },
    {
     "data": {
      "text/html": [
       "Find logs at: <code>.\\wandb\\run-20230307_144515-w6hfc1z2\\logs</code>"
      ],
      "text/plain": [
       "<IPython.core.display.HTML object>"
      ]
     },
     "metadata": {},
     "output_type": "display_data"
    },
    {
     "data": {
      "text/html": [
       "Successfully finished last run (ID:w6hfc1z2). Initializing new run:<br/>"
      ],
      "text/plain": [
       "<IPython.core.display.HTML object>"
      ]
     },
     "metadata": {},
     "output_type": "display_data"
    },
    {
     "data": {
      "application/vnd.jupyter.widget-view+json": {
       "model_id": "67f0fde9cdc14ef0b278e92aeb554891",
       "version_major": 2,
       "version_minor": 0
      },
      "text/plain": [
       "VBox(children=(Label(value='Waiting for wandb.init()...\\r'), FloatProgress(value=0.016666666666666666, max=1.0…"
      ]
     },
     "metadata": {},
     "output_type": "display_data"
    },
    {
     "data": {
      "text/html": [
       "Tracking run with wandb version 0.13.10"
      ],
      "text/plain": [
       "<IPython.core.display.HTML object>"
      ]
     },
     "metadata": {},
     "output_type": "display_data"
    },
    {
     "data": {
      "text/html": [
       "Run data is saved locally in <code>c:\\Users\\QbaSo\\Desktop\\praca magisterska\\myCode\\wandb\\run-20230307_152018-cw0xa8gy</code>"
      ],
      "text/plain": [
       "<IPython.core.display.HTML object>"
      ]
     },
     "metadata": {},
     "output_type": "display_data"
    },
    {
     "data": {
      "text/html": [
       "Syncing run <strong><a href='https://wandb.ai/qba/pretraining%20and%20mnist/runs/cw0xa8gy' target=\"_blank\">proud-wave-5</a></strong> to <a href='https://wandb.ai/qba/pretraining%20and%20mnist' target=\"_blank\">Weights & Biases</a> (<a href='https://wandb.me/run' target=\"_blank\">docs</a>)<br/>"
      ],
      "text/plain": [
       "<IPython.core.display.HTML object>"
      ]
     },
     "metadata": {},
     "output_type": "display_data"
    },
    {
     "data": {
      "text/html": [
       " View project at <a href='https://wandb.ai/qba/pretraining%20and%20mnist' target=\"_blank\">https://wandb.ai/qba/pretraining%20and%20mnist</a>"
      ],
      "text/plain": [
       "<IPython.core.display.HTML object>"
      ]
     },
     "metadata": {},
     "output_type": "display_data"
    },
    {
     "data": {
      "text/html": [
       " View run at <a href='https://wandb.ai/qba/pretraining%20and%20mnist/runs/cw0xa8gy' target=\"_blank\">https://wandb.ai/qba/pretraining%20and%20mnist/runs/cw0xa8gy</a>"
      ],
      "text/plain": [
       "<IPython.core.display.HTML object>"
      ]
     },
     "metadata": {},
     "output_type": "display_data"
    },
    {
     "name": "stdout",
     "output_type": "stream",
     "text": [
      "-------------------------------------------------- training only last layer --------------------------------------------------\n",
      "Epoch 1 [0 / 50000]       loss: 2.3167812824249268\n",
      "Epoch 1 [6400 / 50000]       loss: 2.2777657508850098\n",
      "Epoch 1 [12800 / 50000]       loss: 2.225616455078125\n",
      "Epoch 1 [19200 / 50000]       loss: 2.2408158779144287\n",
      "Epoch 1 [25600 / 50000]       loss: 2.1911001205444336\n",
      "Epoch 1 [32000 / 50000]       loss: 2.210360527038574\n",
      "Epoch 1 [38400 / 50000]       loss: 2.2284998893737793\n",
      "Epoch 1 [44800 / 50000]       loss: 2.137115001678467\n"
     ]
    },
    {
     "name": "stderr",
     "output_type": "stream",
     "text": [
      "c:\\Users\\QbaSo\\AppData\\Local\\Programs\\Python\\Python39\\lib\\site-packages\\torch\\nn\\_reduction.py:42: UserWarning: size_average and reduce args will be deprecated, please use reduction='sum' instead.\n",
      "  warnings.warn(warning.format(ret))\n"
     ]
    },
    {
     "name": "stdout",
     "output_type": "stream",
     "text": [
      "\n",
      "Test set: Avg. loss: 2.1299, Accuracy: 4695/10000 (47%)\n",
      "\n"
     ]
    },
    {
     "data": {
      "image/png": "[encoded data removed]",
      "text/plain": [
       "<Figure size 432x288 with 1 Axes>"
      ]
     },
     "metadata": {
      "needs_background": "light"
     },
     "output_type": "display_data"
    }
   ],
   "source": [
    "wandb.init(\n",
    "    # set the wandb project where this run will be logged\n",
    "    project=\"pretraining and mnist\",\n",
    "    \n",
    "    # track hyperparameters and run metadata\n",
    "    config={\n",
    "    \"setup\": \"benchmark random weights\",\n",
    "    \"learning_rate\": 0.1,\n",
    "    \"architecture\": \"CNN\",\n",
    "    \"dataset\": \"MNIST\",\n",
    "    \"epochs\": 1,\n",
    "    }\n",
    ")\n",
    "\n",
    "newModel = Net(10)\n",
    "optimizer = optim.SGD(newModel.parameters(), lr=wandb.config.learning_rate)\n",
    "\n",
    "for idx, child in enumerate(newModel.children()):\n",
    "    if idx == len(list(newModel.children())) - 1:\n",
    "        break\n",
    "    for param in child.parameters():\n",
    "        param.requires_grad = False\n",
    "\n",
    "print('-'*50, 'training only last layer', '-'*50)\n",
    "train_loader, val_loader, test_loader = MNIST()\n",
    "\n",
    "train_losses, val_losses, exemplars = train(newModel, optimizer, train_loader)\n",
    "\n",
    "plt.plot(exemplars, train_losses)\n",
    "acc = test(newModel, test_loader)\n",
    "\n",
    "wandb.log({\"accuracy\": acc})"
   ]
  },
  {
   "cell_type": "code",
   "execution_count": 48,
   "metadata": {},
   "outputs": [
    {
     "name": "stdout",
     "output_type": "stream",
     "text": [
      "-------------------------------------------------- pretraining --------------------------------------------------\n",
      "Loading data from data/dead_leaves-mixed/ as imagefolder\n",
      "Epoch 1 [0 / 105000]       loss: 4.660567760467529\n",
      "Epoch 1 [12800 / 105000]       loss: 4.660248279571533\n",
      "Epoch 1 [25600 / 105000]       loss: 4.6565351486206055\n",
      "Epoch 1 [38400 / 105000]       loss: 4.649333477020264\n",
      "Epoch 1 [51200 / 105000]       loss: 4.657840728759766\n",
      "Epoch 1 [64000 / 105000]       loss: 4.663512229919434\n",
      "Epoch 1 [76800 / 105000]       loss: 4.649752616882324\n",
      "Epoch 1 [89600 / 105000]       loss: 4.649597644805908\n",
      "Epoch 1 [102400 / 105000]       loss: 4.654770851135254\n",
      "-------------------------------------------------- training only last layer --------------------------------------------------\n",
      "Epoch 1 [0 / 50000]       loss: 2.428586721420288\n",
      "Epoch 1 [6400 / 50000]       loss: 2.226384162902832\n",
      "Epoch 1 [12800 / 50000]       loss: 2.173027515411377\n",
      "Epoch 1 [19200 / 50000]       loss: 2.153341054916382\n",
      "Epoch 1 [25600 / 50000]       loss: 2.155034065246582\n",
      "Epoch 1 [32000 / 50000]       loss: 2.0844383239746094\n",
      "Epoch 1 [38400 / 50000]       loss: 2.131012439727783\n",
      "Epoch 1 [44800 / 50000]       loss: 2.098768711090088\n"
     ]
    },
    {
     "name": "stderr",
     "output_type": "stream",
     "text": [
      "c:\\Users\\QbaSo\\AppData\\Local\\Programs\\Python\\Python39\\lib\\site-packages\\torch\\nn\\_reduction.py:42: UserWarning: size_average and reduce args will be deprecated, please use reduction='sum' instead.\n",
      "  warnings.warn(warning.format(ret))\n"
     ]
    },
    {
     "name": "stdout",
     "output_type": "stream",
     "text": [
      "\n",
      "Test set: Avg. loss: 1.9190, Accuracy: 6457/10000 (65%)\n",
      "\n",
      "-------------------------------------------------- pretraining --------------------------------------------------\n",
      "Loading data from data/dead_leaves-oriented/ as imagefolder\n",
      "Epoch 1 [0 / 105000]       loss: 4.670243263244629\n",
      "Epoch 1 [12800 / 105000]       loss: 4.667972087860107\n",
      "Epoch 1 [25600 / 105000]       loss: 4.658581733703613\n",
      "Epoch 1 [38400 / 105000]       loss: 4.656957626342773\n",
      "Epoch 1 [51200 / 105000]       loss: 4.643174648284912\n",
      "Epoch 1 [64000 / 105000]       loss: 4.64860725402832\n",
      "Epoch 1 [76800 / 105000]       loss: 4.650651931762695\n",
      "Epoch 1 [89600 / 105000]       loss: 4.66061544418335\n",
      "Epoch 1 [102400 / 105000]       loss: 4.653348445892334\n",
      "-------------------------------------------------- training only last layer --------------------------------------------------\n",
      "Epoch 1 [0 / 50000]       loss: 2.2962028980255127\n",
      "Epoch 1 [6400 / 50000]       loss: 2.2301297187805176\n",
      "Epoch 1 [12800 / 50000]       loss: 2.280522108078003\n",
      "Epoch 1 [19200 / 50000]       loss: 2.2387406826019287\n",
      "Epoch 1 [25600 / 50000]       loss: 2.189211845397949\n",
      "Epoch 1 [32000 / 50000]       loss: 2.1891684532165527\n",
      "Epoch 1 [38400 / 50000]       loss: 2.133950710296631\n",
      "Epoch 1 [44800 / 50000]       loss: 2.1944544315338135\n",
      "\n",
      "Test set: Avg. loss: 2.0932, Accuracy: 5871/10000 (59%)\n",
      "\n",
      "-------------------------------------------------- pretraining --------------------------------------------------\n",
      "Loading data from data/dead_leaves-squares/ as imagefolder\n",
      "Epoch 1 [0 / 105000]       loss: 4.654603958129883\n",
      "Epoch 1 [12800 / 105000]       loss: 4.651900768280029\n",
      "Epoch 1 [25600 / 105000]       loss: 4.6653056144714355\n",
      "Epoch 1 [38400 / 105000]       loss: 4.656655788421631\n",
      "Epoch 1 [51200 / 105000]       loss: 4.6525068283081055\n",
      "Epoch 1 [64000 / 105000]       loss: 4.652122497558594\n",
      "Epoch 1 [76800 / 105000]       loss: 4.645806789398193\n",
      "Epoch 1 [89600 / 105000]       loss: 4.656466484069824\n",
      "Epoch 1 [102400 / 105000]       loss: 4.649868965148926\n",
      "-------------------------------------------------- training only last layer --------------------------------------------------\n",
      "Epoch 1 [0 / 50000]       loss: 2.344841480255127\n",
      "Epoch 1 [6400 / 50000]       loss: 2.3091299533843994\n",
      "Epoch 1 [12800 / 50000]       loss: 2.254398822784424\n",
      "Epoch 1 [19200 / 50000]       loss: 2.166201591491699\n",
      "Epoch 1 [25600 / 50000]       loss: 2.203944444656372\n",
      "Epoch 1 [32000 / 50000]       loss: 2.1961090564727783\n",
      "Epoch 1 [38400 / 50000]       loss: 2.2388415336608887\n",
      "Epoch 1 [44800 / 50000]       loss: 2.1640374660491943\n",
      "\n",
      "Test set: Avg. loss: 2.0277, Accuracy: 5748/10000 (57%)\n",
      "\n",
      "-------------------------------------------------- pretraining --------------------------------------------------\n",
      "Loading data from data/dead_leaves-textures/ as imagefolder\n",
      "Epoch 1 [0 / 105000]       loss: 4.649369239807129\n",
      "Epoch 1 [12800 / 105000]       loss: 4.651395320892334\n",
      "Epoch 1 [25600 / 105000]       loss: 4.649641513824463\n",
      "Epoch 1 [38400 / 105000]       loss: 4.660247325897217\n",
      "Epoch 1 [51200 / 105000]       loss: 4.658000946044922\n",
      "Epoch 1 [64000 / 105000]       loss: 4.6576104164123535\n",
      "Epoch 1 [76800 / 105000]       loss: 4.6597161293029785\n",
      "Epoch 1 [89600 / 105000]       loss: 4.658654689788818\n",
      "Epoch 1 [102400 / 105000]       loss: 4.656940460205078\n",
      "-------------------------------------------------- training only last layer --------------------------------------------------\n",
      "Epoch 1 [0 / 50000]       loss: 2.316810369491577\n",
      "Epoch 1 [6400 / 50000]       loss: 2.229074239730835\n",
      "Epoch 1 [12800 / 50000]       loss: 2.269559621810913\n",
      "Epoch 1 [19200 / 50000]       loss: 2.2027347087860107\n",
      "Epoch 1 [25600 / 50000]       loss: 2.164050340652466\n",
      "Epoch 1 [32000 / 50000]       loss: 2.106107234954834\n",
      "Epoch 1 [38400 / 50000]       loss: 2.1302058696746826\n",
      "Epoch 1 [44800 / 50000]       loss: 2.148484706878662\n",
      "\n",
      "Test set: Avg. loss: 2.0108, Accuracy: 5433/10000 (54%)\n",
      "\n",
      "-------------------------------------------------- pretraining --------------------------------------------------\n",
      "Loading data from data/stat-spectrum/ as imagefolder\n",
      "Epoch 1 [0 / 105000]       loss: 4.654632091522217\n",
      "Epoch 1 [12800 / 105000]       loss: 4.662034034729004\n",
      "Epoch 1 [25600 / 105000]       loss: 4.663264751434326\n",
      "Epoch 1 [38400 / 105000]       loss: 4.650155067443848\n",
      "Epoch 1 [51200 / 105000]       loss: 4.6628098487854\n",
      "Epoch 1 [64000 / 105000]       loss: 4.6623687744140625\n",
      "Epoch 1 [76800 / 105000]       loss: 4.65944766998291\n",
      "Epoch 1 [89600 / 105000]       loss: 4.659145355224609\n",
      "Epoch 1 [102400 / 105000]       loss: 4.65699577331543\n",
      "-------------------------------------------------- training only last layer --------------------------------------------------\n",
      "Epoch 1 [0 / 50000]       loss: 2.3245368003845215\n",
      "Epoch 1 [6400 / 50000]       loss: 2.267096757888794\n",
      "Epoch 1 [12800 / 50000]       loss: 2.217895269393921\n",
      "Epoch 1 [19200 / 50000]       loss: 2.132070541381836\n",
      "Epoch 1 [25600 / 50000]       loss: 2.186365842819214\n",
      "Epoch 1 [32000 / 50000]       loss: 2.1431632041931152\n",
      "Epoch 1 [38400 / 50000]       loss: 2.1512112617492676\n",
      "Epoch 1 [44800 / 50000]       loss: 2.0862491130828857\n",
      "\n",
      "Test set: Avg. loss: 2.0011, Accuracy: 5967/10000 (60%)\n",
      "\n",
      "-------------------------------------------------- pretraining --------------------------------------------------\n",
      "Loading data from data/stat-spectrum_color/ as imagefolder\n",
      "Epoch 1 [0 / 105000]       loss: 4.660719871520996\n",
      "Epoch 1 [12800 / 105000]       loss: 4.655518054962158\n",
      "Epoch 1 [25600 / 105000]       loss: 4.661454677581787\n",
      "Epoch 1 [38400 / 105000]       loss: 4.653067111968994\n",
      "Epoch 1 [51200 / 105000]       loss: 4.657694339752197\n",
      "Epoch 1 [64000 / 105000]       loss: 4.652912139892578\n",
      "Epoch 1 [76800 / 105000]       loss: 4.659605503082275\n",
      "Epoch 1 [89600 / 105000]       loss: 4.654237747192383\n",
      "Epoch 1 [102400 / 105000]       loss: 4.648866176605225\n",
      "-------------------------------------------------- training only last layer --------------------------------------------------\n",
      "Epoch 1 [0 / 50000]       loss: 2.316371202468872\n",
      "Epoch 1 [6400 / 50000]       loss: 2.2242913246154785\n",
      "Epoch 1 [12800 / 50000]       loss: 2.2207181453704834\n",
      "Epoch 1 [19200 / 50000]       loss: 2.2035751342773438\n",
      "Epoch 1 [25600 / 50000]       loss: 2.232228994369507\n",
      "Epoch 1 [32000 / 50000]       loss: 2.1771609783172607\n",
      "Epoch 1 [38400 / 50000]       loss: 2.135326862335205\n",
      "Epoch 1 [44800 / 50000]       loss: 2.090902805328369\n",
      "\n",
      "Test set: Avg. loss: 2.0729, Accuracy: 5555/10000 (56%)\n",
      "\n",
      "-------------------------------------------------- pretraining --------------------------------------------------\n",
      "Loading data from data/stat-spectrum_color_wmm/ as imagefolder\n",
      "Epoch 1 [0 / 105000]       loss: 4.656823635101318\n",
      "Epoch 1 [12800 / 105000]       loss: 4.653207302093506\n",
      "Epoch 1 [25600 / 105000]       loss: 4.663216590881348\n",
      "Epoch 1 [38400 / 105000]       loss: 4.659621715545654\n"
     ]
    },
    {
     "ename": "KeyboardInterrupt",
     "evalue": "",
     "output_type": "error",
     "traceback": [
      "\u001b[1;31m---------------------------------------------------------------------------\u001b[0m",
      "\u001b[1;31mKeyboardInterrupt\u001b[0m                         Traceback (most recent call last)",
      "\u001b[1;32mc:\\Users\\QbaSo\\Desktop\\praca magisterska\\myCode\\smallNetExperiments pretraining and mnist.ipynb Cell 5\u001b[0m in \u001b[0;36m<cell line: 2>\u001b[1;34m()\u001b[0m\n\u001b[0;32m      <a href='vscode-notebook-cell:/c%3A/Users/QbaSo/Desktop/praca%20magisterska/myCode/smallNetExperiments%20pretraining%20and%20mnist.ipynb#W2sZmlsZQ%3D%3D?line=5'>6</a>\u001b[0m model \u001b[39m=\u001b[39m Net(\u001b[39m105\u001b[39m)\n\u001b[0;32m      <a href='vscode-notebook-cell:/c%3A/Users/QbaSo/Desktop/praca%20magisterska/myCode/smallNetExperiments%20pretraining%20and%20mnist.ipynb#W2sZmlsZQ%3D%3D?line=6'>7</a>\u001b[0m optimizer \u001b[39m=\u001b[39m optim\u001b[39m.\u001b[39mSGD(model\u001b[39m.\u001b[39mparameters(), lr\u001b[39m=\u001b[39mwandb\u001b[39m.\u001b[39mconfig\u001b[39m.\u001b[39mlearning_rate)\n\u001b[1;32m----> <a href='vscode-notebook-cell:/c%3A/Users/QbaSo/Desktop/praca%20magisterska/myCode/smallNetExperiments%20pretraining%20and%20mnist.ipynb#W2sZmlsZQ%3D%3D?line=7'>8</a>\u001b[0m train_losses, val_losses, exemplars \u001b[39m=\u001b[39m train(model, optimizer, train_loader_random_lebels)\n\u001b[0;32m      <a href='vscode-notebook-cell:/c%3A/Users/QbaSo/Desktop/praca%20magisterska/myCode/smallNetExperiments%20pretraining%20and%20mnist.ipynb#W2sZmlsZQ%3D%3D?line=8'>9</a>\u001b[0m plt\u001b[39m.\u001b[39mplot(exemplars, train_losses)\n\u001b[0;32m     <a href='vscode-notebook-cell:/c%3A/Users/QbaSo/Desktop/praca%20magisterska/myCode/smallNetExperiments%20pretraining%20and%20mnist.ipynb#W2sZmlsZQ%3D%3D?line=10'>11</a>\u001b[0m save_pruned_model(model, \u001b[39mf\u001b[39m\u001b[39m\"\u001b[39m\u001b[39mmodels/pretrained_gray_\u001b[39m\u001b[39m{\u001b[39;00mdataset_name\u001b[39m}\u001b[39;00m\u001b[39m_withoutlast.pt\u001b[39m\u001b[39m\"\u001b[39m)\n",
      "\u001b[1;32mc:\\Users\\QbaSo\\Desktop\\praca magisterska\\myCode\\smallNetExperiments pretraining and mnist.ipynb Cell 5\u001b[0m in \u001b[0;36mtrain\u001b[1;34m(model, optimizer, train_loader, val_loader, epoch, log_interval)\u001b[0m\n\u001b[0;32m      <a href='vscode-notebook-cell:/c%3A/Users/QbaSo/Desktop/praca%20magisterska/myCode/smallNetExperiments%20pretraining%20and%20mnist.ipynb#W2sZmlsZQ%3D%3D?line=6'>7</a>\u001b[0m model\u001b[39m.\u001b[39mtrain()\n\u001b[0;32m      <a href='vscode-notebook-cell:/c%3A/Users/QbaSo/Desktop/praca%20magisterska/myCode/smallNetExperiments%20pretraining%20and%20mnist.ipynb#W2sZmlsZQ%3D%3D?line=7'>8</a>\u001b[0m \u001b[39mfor\u001b[39;00m e \u001b[39min\u001b[39;00m \u001b[39mrange\u001b[39m(epoch):\n\u001b[1;32m----> <a href='vscode-notebook-cell:/c%3A/Users/QbaSo/Desktop/praca%20magisterska/myCode/smallNetExperiments%20pretraining%20and%20mnist.ipynb#W2sZmlsZQ%3D%3D?line=8'>9</a>\u001b[0m     \u001b[39mfor\u001b[39;00m batch_idx, (data, target) \u001b[39min\u001b[39;00m \u001b[39menumerate\u001b[39m(train_loader):\n\u001b[0;32m     <a href='vscode-notebook-cell:/c%3A/Users/QbaSo/Desktop/praca%20magisterska/myCode/smallNetExperiments%20pretraining%20and%20mnist.ipynb#W2sZmlsZQ%3D%3D?line=9'>10</a>\u001b[0m         exemplers\u001b[39m.\u001b[39mappend(train_loader\u001b[39m.\u001b[39mbatch_size \u001b[39m*\u001b[39m batch_idx)\n\u001b[0;32m     <a href='vscode-notebook-cell:/c%3A/Users/QbaSo/Desktop/praca%20magisterska/myCode/smallNetExperiments%20pretraining%20and%20mnist.ipynb#W2sZmlsZQ%3D%3D?line=10'>11</a>\u001b[0m         optimizer\u001b[39m.\u001b[39mzero_grad()\n",
      "File \u001b[1;32mc:\\Users\\QbaSo\\AppData\\Local\\Programs\\Python\\Python39\\lib\\site-packages\\torch\\utils\\data\\dataloader.py:628\u001b[0m, in \u001b[0;36m_BaseDataLoaderIter.__next__\u001b[1;34m(self)\u001b[0m\n\u001b[0;32m    625\u001b[0m \u001b[39mif\u001b[39;00m \u001b[39mself\u001b[39m\u001b[39m.\u001b[39m_sampler_iter \u001b[39mis\u001b[39;00m \u001b[39mNone\u001b[39;00m:\n\u001b[0;32m    626\u001b[0m     \u001b[39m# TODO(https://github.com/pytorch/pytorch/issues/76750)\u001b[39;00m\n\u001b[0;32m    627\u001b[0m     \u001b[39mself\u001b[39m\u001b[39m.\u001b[39m_reset()  \u001b[39m# type: ignore[call-arg]\u001b[39;00m\n\u001b[1;32m--> 628\u001b[0m data \u001b[39m=\u001b[39m \u001b[39mself\u001b[39;49m\u001b[39m.\u001b[39;49m_next_data()\n\u001b[0;32m    629\u001b[0m \u001b[39mself\u001b[39m\u001b[39m.\u001b[39m_num_yielded \u001b[39m+\u001b[39m\u001b[39m=\u001b[39m \u001b[39m1\u001b[39m\n\u001b[0;32m    630\u001b[0m \u001b[39mif\u001b[39;00m \u001b[39mself\u001b[39m\u001b[39m.\u001b[39m_dataset_kind \u001b[39m==\u001b[39m _DatasetKind\u001b[39m.\u001b[39mIterable \u001b[39mand\u001b[39;00m \\\n\u001b[0;32m    631\u001b[0m         \u001b[39mself\u001b[39m\u001b[39m.\u001b[39m_IterableDataset_len_called \u001b[39mis\u001b[39;00m \u001b[39mnot\u001b[39;00m \u001b[39mNone\u001b[39;00m \u001b[39mand\u001b[39;00m \\\n\u001b[0;32m    632\u001b[0m         \u001b[39mself\u001b[39m\u001b[39m.\u001b[39m_num_yielded \u001b[39m>\u001b[39m \u001b[39mself\u001b[39m\u001b[39m.\u001b[39m_IterableDataset_len_called:\n",
      "File \u001b[1;32mc:\\Users\\QbaSo\\AppData\\Local\\Programs\\Python\\Python39\\lib\\site-packages\\torch\\utils\\data\\dataloader.py:1316\u001b[0m, in \u001b[0;36m_MultiProcessingDataLoaderIter._next_data\u001b[1;34m(self)\u001b[0m\n\u001b[0;32m   1313\u001b[0m     \u001b[39mreturn\u001b[39;00m \u001b[39mself\u001b[39m\u001b[39m.\u001b[39m_process_data(data)\n\u001b[0;32m   1315\u001b[0m \u001b[39massert\u001b[39;00m \u001b[39mnot\u001b[39;00m \u001b[39mself\u001b[39m\u001b[39m.\u001b[39m_shutdown \u001b[39mand\u001b[39;00m \u001b[39mself\u001b[39m\u001b[39m.\u001b[39m_tasks_outstanding \u001b[39m>\u001b[39m \u001b[39m0\u001b[39m\n\u001b[1;32m-> 1316\u001b[0m idx, data \u001b[39m=\u001b[39m \u001b[39mself\u001b[39;49m\u001b[39m.\u001b[39;49m_get_data()\n\u001b[0;32m   1317\u001b[0m \u001b[39mself\u001b[39m\u001b[39m.\u001b[39m_tasks_outstanding \u001b[39m-\u001b[39m\u001b[39m=\u001b[39m \u001b[39m1\u001b[39m\n\u001b[0;32m   1318\u001b[0m \u001b[39mif\u001b[39;00m \u001b[39mself\u001b[39m\u001b[39m.\u001b[39m_dataset_kind \u001b[39m==\u001b[39m _DatasetKind\u001b[39m.\u001b[39mIterable:\n\u001b[0;32m   1319\u001b[0m     \u001b[39m# Check for _IterableDatasetStopIteration\u001b[39;00m\n",
      "File \u001b[1;32mc:\\Users\\QbaSo\\AppData\\Local\\Programs\\Python\\Python39\\lib\\site-packages\\torch\\utils\\data\\dataloader.py:1272\u001b[0m, in \u001b[0;36m_MultiProcessingDataLoaderIter._get_data\u001b[1;34m(self)\u001b[0m\n\u001b[0;32m   1270\u001b[0m \u001b[39melif\u001b[39;00m \u001b[39mself\u001b[39m\u001b[39m.\u001b[39m_pin_memory:\n\u001b[0;32m   1271\u001b[0m     \u001b[39mwhile\u001b[39;00m \u001b[39mself\u001b[39m\u001b[39m.\u001b[39m_pin_memory_thread\u001b[39m.\u001b[39mis_alive():\n\u001b[1;32m-> 1272\u001b[0m         success, data \u001b[39m=\u001b[39m \u001b[39mself\u001b[39;49m\u001b[39m.\u001b[39;49m_try_get_data()\n\u001b[0;32m   1273\u001b[0m         \u001b[39mif\u001b[39;00m success:\n\u001b[0;32m   1274\u001b[0m             \u001b[39mreturn\u001b[39;00m data\n",
      "File \u001b[1;32mc:\\Users\\QbaSo\\AppData\\Local\\Programs\\Python\\Python39\\lib\\site-packages\\torch\\utils\\data\\dataloader.py:1120\u001b[0m, in \u001b[0;36m_MultiProcessingDataLoaderIter._try_get_data\u001b[1;34m(self, timeout)\u001b[0m\n\u001b[0;32m   1107\u001b[0m \u001b[39mdef\u001b[39;00m \u001b[39m_try_get_data\u001b[39m(\u001b[39mself\u001b[39m, timeout\u001b[39m=\u001b[39m_utils\u001b[39m.\u001b[39mMP_STATUS_CHECK_INTERVAL):\n\u001b[0;32m   1108\u001b[0m     \u001b[39m# Tries to fetch data from `self._data_queue` once for a given timeout.\u001b[39;00m\n\u001b[0;32m   1109\u001b[0m     \u001b[39m# This can also be used as inner loop of fetching without timeout, with\u001b[39;00m\n\u001b[1;32m   (...)\u001b[0m\n\u001b[0;32m   1117\u001b[0m     \u001b[39m# Returns a 2-tuple:\u001b[39;00m\n\u001b[0;32m   1118\u001b[0m     \u001b[39m#   (bool: whether successfully get data, any: data if successful else None)\u001b[39;00m\n\u001b[0;32m   1119\u001b[0m     \u001b[39mtry\u001b[39;00m:\n\u001b[1;32m-> 1120\u001b[0m         data \u001b[39m=\u001b[39m \u001b[39mself\u001b[39;49m\u001b[39m.\u001b[39;49m_data_queue\u001b[39m.\u001b[39;49mget(timeout\u001b[39m=\u001b[39;49mtimeout)\n\u001b[0;32m   1121\u001b[0m         \u001b[39mreturn\u001b[39;00m (\u001b[39mTrue\u001b[39;00m, data)\n\u001b[0;32m   1122\u001b[0m     \u001b[39mexcept\u001b[39;00m \u001b[39mException\u001b[39;00m \u001b[39mas\u001b[39;00m e:\n\u001b[0;32m   1123\u001b[0m         \u001b[39m# At timeout and error, we manually check whether any worker has\u001b[39;00m\n\u001b[0;32m   1124\u001b[0m         \u001b[39m# failed. Note that this is the only mechanism for Windows to detect\u001b[39;00m\n\u001b[0;32m   1125\u001b[0m         \u001b[39m# worker failures.\u001b[39;00m\n",
      "File \u001b[1;32mc:\\Users\\QbaSo\\AppData\\Local\\Programs\\Python\\Python39\\lib\\queue.py:180\u001b[0m, in \u001b[0;36mQueue.get\u001b[1;34m(self, block, timeout)\u001b[0m\n\u001b[0;32m    178\u001b[0m         \u001b[39mif\u001b[39;00m remaining \u001b[39m<\u001b[39m\u001b[39m=\u001b[39m \u001b[39m0.0\u001b[39m:\n\u001b[0;32m    179\u001b[0m             \u001b[39mraise\u001b[39;00m Empty\n\u001b[1;32m--> 180\u001b[0m         \u001b[39mself\u001b[39;49m\u001b[39m.\u001b[39;49mnot_empty\u001b[39m.\u001b[39;49mwait(remaining)\n\u001b[0;32m    181\u001b[0m item \u001b[39m=\u001b[39m \u001b[39mself\u001b[39m\u001b[39m.\u001b[39m_get()\n\u001b[0;32m    182\u001b[0m \u001b[39mself\u001b[39m\u001b[39m.\u001b[39mnot_full\u001b[39m.\u001b[39mnotify()\n",
      "File \u001b[1;32mc:\\Users\\QbaSo\\AppData\\Local\\Programs\\Python\\Python39\\lib\\threading.py:316\u001b[0m, in \u001b[0;36mCondition.wait\u001b[1;34m(self, timeout)\u001b[0m\n\u001b[0;32m    314\u001b[0m \u001b[39melse\u001b[39;00m:\n\u001b[0;32m    315\u001b[0m     \u001b[39mif\u001b[39;00m timeout \u001b[39m>\u001b[39m \u001b[39m0\u001b[39m:\n\u001b[1;32m--> 316\u001b[0m         gotit \u001b[39m=\u001b[39m waiter\u001b[39m.\u001b[39;49macquire(\u001b[39mTrue\u001b[39;49;00m, timeout)\n\u001b[0;32m    317\u001b[0m     \u001b[39melse\u001b[39;00m:\n\u001b[0;32m    318\u001b[0m         gotit \u001b[39m=\u001b[39m waiter\u001b[39m.\u001b[39macquire(\u001b[39mFalse\u001b[39;00m)\n",
      "\u001b[1;31mKeyboardInterrupt\u001b[0m: "
     ]
    },
    {
     "data": {
      "image/png": "[encoded data removed]",
      "text/plain": [
       "<Figure size 432x288 with 1 Axes>"
      ]
     },
     "metadata": {
      "needs_background": "light"
     },
     "output_type": "display_data"
    }
   ],
   "source": [
    "results = []\n",
    "for dataset_name in dataset_names:\n",
    "    print('-'*50, 'pretraining', '-'*50)\n",
    "    train_loader_random_lebels = dataloader_pretraining_gray(dataset_name)\n",
    "\n",
    "    model = Net(105)\n",
    "    optimizer = optim.SGD(model.parameters(), lr=wandb.config.learning_rate)\n",
    "    train_losses, val_losses, exemplars = train(model, optimizer, train_loader_random_lebels)\n",
    "    plt.plot(exemplars, train_losses)\n",
    "\n",
    "    save_pruned_model(model, f\"models/pretrained_gray_{dataset_name}_withoutlast.pt\")\n",
    "\n",
    "    newModel = Net(10)\n",
    "    optimizer = optim.SGD(newModel.parameters(), lr=0.1)\n",
    "    newModel.load_state_dict(torch.load(f\"models/pretrained_gray_{dataset_name}_withoutlast.pt\"), strict=False)\n",
    "\n",
    "    for idx, child in enumerate(newModel.children()):\n",
    "        if idx == len(list(newModel.children())) - 1:\n",
    "            break\n",
    "        for param in child.parameters():\n",
    "            param.requires_grad = False\n",
    "\n",
    "    print('-'*50, 'training only last layer', '-'*50)\n",
    "    train_loader, val_loader, test_loader = MNIST()\n",
    "\n",
    "    train_losses, val_losses, exemplars = train(newModel, optimizer, train_loader)\n",
    "    plt.plot(exemplars, train_losses)\n",
    "    acc = test(newModel, test_loader)\n",
    "    results.append({\"dataset_name\": dataset_name, \"accuracy\": acc})"
   ]
  },
  {
   "cell_type": "code",
   "execution_count": null,
   "metadata": {},
   "outputs": [],
   "source": [
    "import pandas as pd\n",
    "df = pd.DataFrame(results)\n",
    "vals = []\n",
    "\n",
    "for ac in df['accuracy']:\n",
    "    vals.append(ac.numpy())\n",
    "\n",
    "df['accuracy'] = np.array(vals)\n",
    "\n",
    "df.sort_values('accuracy')"
   ]
  },
  {
   "cell_type": "code",
   "execution_count": 47,
   "metadata": {},
   "outputs": [
    {
     "data": {
      "text/html": [
       "<div>\n",
       "<style scoped>\n",
       "    .dataframe tbody tr th:only-of-type {\n",
       "        vertical-align: middle;\n",
       "    }\n",
       "\n",
       "    .dataframe tbody tr th {\n",
       "        vertical-align: top;\n",
       "    }\n",
       "\n",
       "    .dataframe thead th {\n",
       "        text-align: right;\n",
       "    }\n",
       "</style>\n",
       "<table border=\"1\" class=\"dataframe\">\n",
       "  <thead>\n",
       "    <tr style=\"text-align: right;\">\n",
       "      <th></th>\n",
       "      <th>dataset_name</th>\n",
       "      <th>accuracy</th>\n",
       "    </tr>\n",
       "  </thead>\n",
       "  <tbody>\n",
       "    <tr>\n",
       "      <th>0</th>\n",
       "      <td>dead_leaves-mixed</td>\n",
       "      <td>31.910000</td>\n",
       "    </tr>\n",
       "    <tr>\n",
       "      <th>6</th>\n",
       "      <td>stat-spectrum_color_wmm</td>\n",
       "      <td>43.740002</td>\n",
       "    </tr>\n",
       "    <tr>\n",
       "      <th>9</th>\n",
       "      <td>stylegan-random</td>\n",
       "      <td>50.240002</td>\n",
       "    </tr>\n",
       "    <tr>\n",
       "      <th>7</th>\n",
       "      <td>stat-wmm</td>\n",
       "      <td>51.130001</td>\n",
       "    </tr>\n",
       "    <tr>\n",
       "      <th>4</th>\n",
       "      <td>stat-spectrum</td>\n",
       "      <td>53.930000</td>\n",
       "    </tr>\n",
       "    <tr>\n",
       "      <th>5</th>\n",
       "      <td>stat-spectrum_color</td>\n",
       "      <td>55.040001</td>\n",
       "    </tr>\n",
       "    <tr>\n",
       "      <th>1</th>\n",
       "      <td>dead_leaves-oriented</td>\n",
       "      <td>55.560001</td>\n",
       "    </tr>\n",
       "    <tr>\n",
       "      <th>8</th>\n",
       "      <td>stylegan-highfreq</td>\n",
       "      <td>56.520000</td>\n",
       "    </tr>\n",
       "    <tr>\n",
       "      <th>2</th>\n",
       "      <td>dead_leaves-squares</td>\n",
       "      <td>59.580002</td>\n",
       "    </tr>\n",
       "    <tr>\n",
       "      <th>3</th>\n",
       "      <td>dead_leaves-textures</td>\n",
       "      <td>64.720001</td>\n",
       "    </tr>\n",
       "  </tbody>\n",
       "</table>\n",
       "</div>"
      ],
      "text/plain": [
       "              dataset_name   accuracy\n",
       "0        dead_leaves-mixed  31.910000\n",
       "6  stat-spectrum_color_wmm  43.740002\n",
       "9          stylegan-random  50.240002\n",
       "7                 stat-wmm  51.130001\n",
       "4            stat-spectrum  53.930000\n",
       "5      stat-spectrum_color  55.040001\n",
       "1     dead_leaves-oriented  55.560001\n",
       "8        stylegan-highfreq  56.520000\n",
       "2      dead_leaves-squares  59.580002\n",
       "3     dead_leaves-textures  64.720001"
      ]
     },
     "execution_count": 47,
     "metadata": {},
     "output_type": "execute_result"
    }
   ],
   "source": [
    "import pandas as pd\n",
    "df = pd.DataFrame(results)\n",
    "vals = []\n",
    "\n",
    "for ac in df['accuracy']:\n",
    "    vals.append(ac.numpy())\n",
    "\n",
    "df['accuracy'] = np.array(vals)\n",
    "\n",
    "df.sort_values('accuracy')\n"
   ]
  }
 ],
 "metadata": {
  "kernelspec": {
   "display_name": "bootcamp_env",
   "language": "python",
   "name": "bootcamp_env"
  },
  "language_info": {
   "codemirror_mode": {
    "name": "ipython",
    "version": 3
   },
   "file_extension": ".py",
   "mimetype": "text/x-python",
   "name": "python",
   "nbconvert_exporter": "python",
   "pygments_lexer": "ipython3",
   "version": "3.9.10"
  },
  "orig_nbformat": 4,
  "vscode": {
   "interpreter": {
    "hash": "4249f8e087ad731f5e338836e2eb79540285f90ed1dfcc5ccaf8d5c2082bb200"
   }
  }
 },
 "nbformat": 4,
 "nbformat_minor": 2
}
