{
 "cells": [
  {
   "cell_type": "code",
   "execution_count": 1,
   "metadata": {},
   "outputs": [
    {
     "name": "stderr",
     "output_type": "stream",
     "text": [
      "c:\\Users\\QbaSo\\AppData\\Local\\Programs\\Python\\Python39\\lib\\site-packages\\requests\\__init__.py:102: RequestsDependencyWarning: urllib3 (1.26.9) or chardet (5.1.0)/charset_normalizer (2.0.12) doesn't match a supported version!\n",
      "  warnings.warn(\"urllib3 ({}) or chardet ({})/charset_normalizer ({}) doesn't match a supported \"\n"
     ]
    },
    {
     "data": {
      "text/plain": [
       "True"
      ]
     },
     "execution_count": 1,
     "metadata": {},
     "output_type": "execute_result"
    }
   ],
   "source": [
    "import torch\n",
    "import torchvision\n",
    "import torch.nn as nn\n",
    "import torchvision.datasets as datasets\n",
    "import torchvision.transforms as transforms\n",
    "import torch.optim as optim\n",
    "import torch.nn.functional as F\n",
    "import numpy as np\n",
    "import matplotlib.pyplot as plt\n",
    "import os\n",
    "from sklearn.model_selection import train_test_split\n",
    "from torch.utils.data import Subset\n",
    "\n",
    "torch.cuda.is_available()"
   ]
  },
  {
   "cell_type": "code",
   "execution_count": 2,
   "metadata": {},
   "outputs": [],
   "source": [
    "batch_size_train = 64\n",
    "batch_size_test = 1000\n",
    "\n",
    "log_interval = 10"
   ]
  },
  {
   "cell_type": "code",
   "execution_count": 3,
   "metadata": {},
   "outputs": [],
   "source": [
    "def MNIST():\n",
    "  MNIST_train = torchvision.datasets.MNIST('/files/', train=True, download=True,\n",
    "                              transform=torchvision.transforms.Compose([\n",
    "                                torchvision.transforms.ToTensor(),\n",
    "                                torchvision.transforms.Normalize(\n",
    "                                  (0.1307,), (0.3081,))\n",
    "                              ]))\n",
    "  MNIST_test = torchvision.datasets.MNIST('/files/', train=False, download=True,\n",
    "                              transform=torchvision.transforms.Compose([\n",
    "                                torchvision.transforms.ToTensor(),\n",
    "                                torchvision.transforms.Normalize(\n",
    "                                  (0.1307,), (0.3081,))\n",
    "                              ]))\n",
    "\n",
    "  train_loader = torch.utils.data.DataLoader(MNIST_train, batch_size=batch_size_train, shuffle=True)\n",
    "  test_loader = torch.utils.data.DataLoader(MNIST_test, batch_size=batch_size_test, shuffle=True)\n",
    "  return train_loader, test_loader\n",
    "\n",
    "def permute_mnist(mnist, seed):\n",
    "    \"\"\" Given the training set, permute pixels of each img the same way. \"\"\"\n",
    "\n",
    "    np.random.seed(seed)\n",
    "    print(\"starting permutation...\")\n",
    "    perm_inds = list(range(28*28))\n",
    "    np.random.shuffle(perm_inds)\n",
    "    for i in range(len(mnist.data)):\n",
    "        mnist.data[i] = mnist.data[i].flatten()[perm_inds].reshape(28,28)\n",
    "    print(\"done.\")\n",
    "\n",
    "class Net(nn.Module):\n",
    "    def __init__(self):\n",
    "        super(Net, self).__init__()\n",
    "        self.conv1 = nn.Conv2d(1, 10, kernel_size=5)\n",
    "        self.conv2 = nn.Conv2d(10, 20, kernel_size=5)\n",
    "        self.conv2_drop = nn.Dropout2d()\n",
    "        self.fc1 = nn.Linear(320, 50)\n",
    "        self.fc2 = nn.Linear(50, 10)\n",
    "\n",
    "    def forward(self, x):\n",
    "        x = F.relu(F.max_pool2d(self.conv1(x), 2))\n",
    "        x = F.relu(F.max_pool2d(self.conv2_drop(self.conv2(x)), 2))\n",
    "        x = x.view(-1, 320)\n",
    "        x = F.relu(self.fc1(x))\n",
    "        x = F.dropout(x, training=self.training)\n",
    "        x = self.fc2(x)\n",
    "        return x\n",
    "\n",
    "def train(model, optimizer, train_loader, epoch=1):\n",
    "  train_losses = []\n",
    "  model.train()\n",
    "  for e in range(epoch):\n",
    "      for batch_idx, (data, target) in enumerate(train_loader):\n",
    "          optimizer.zero_grad()\n",
    "          output = model(data)\n",
    "          loss = F.cross_entropy(output, target)\n",
    "          loss.backward()\n",
    "          optimizer.step()\n",
    "          if batch_idx % log_interval == 0:\n",
    "              print(f\"Epoch {e+1} [{batch_idx * len(data)} / {len(train_loader.dataset)}]       loss: {loss.item()}\")\n",
    "          train_losses.append(loss.item())\n",
    "  return train_losses\n",
    "\n",
    "def test(model, test_loader):\n",
    "  model.eval()\n",
    "  test_loss = 0\n",
    "  correct = 0\n",
    "  with torch.no_grad():\n",
    "      for data, target in test_loader:\n",
    "          output = model(data)\n",
    "          test_loss += F.cross_entropy(output, target, size_average=False).item()\n",
    "          pred = output.data.max(1, keepdim=True)[1]\n",
    "          correct += pred.eq(target.data.view_as(pred)).sum()\n",
    "  test_loss /= len(test_loader.dataset)\n",
    "  print('\\nTest set: Avg. loss: {:.4f}, Accuracy: {}/{} ({:.0f}%)\\n'.format(\n",
    "      test_loss, correct, len(test_loader.dataset),\n",
    "      100. * correct / len(test_loader.dataset)))"
   ]
  },
  {
   "cell_type": "markdown",
   "metadata": {},
   "source": [
    "# Normal learning"
   ]
  },
  {
   "cell_type": "code",
   "execution_count": 5,
   "metadata": {},
   "outputs": [
    {
     "name": "stdout",
     "output_type": "stream",
     "text": [
      "Epoch 1 [0 / 60000]       loss: 2.3178062438964844\n",
      "Epoch 1 [640 / 60000]       loss: 2.2610607147216797\n",
      "Epoch 1 [1280 / 60000]       loss: 2.1018764972686768\n",
      "Epoch 1 [1920 / 60000]       loss: 1.7736568450927734\n",
      "Epoch 1 [2560 / 60000]       loss: 1.379608392715454\n",
      "Epoch 1 [3200 / 60000]       loss: 1.475439429283142\n",
      "Epoch 1 [3840 / 60000]       loss: 0.860030472278595\n",
      "Epoch 1 [4480 / 60000]       loss: 0.8178694248199463\n",
      "Epoch 1 [5120 / 60000]       loss: 1.227351188659668\n",
      "Epoch 1 [5760 / 60000]       loss: 1.095969319343567\n",
      "Epoch 1 [6400 / 60000]       loss: 0.626713216304779\n",
      "Epoch 1 [7040 / 60000]       loss: 0.900736391544342\n",
      "Epoch 1 [7680 / 60000]       loss: 0.7219827771186829\n",
      "Epoch 1 [8320 / 60000]       loss: 0.7742299437522888\n",
      "Epoch 1 [8960 / 60000]       loss: 0.46004411578178406\n",
      "Epoch 1 [9600 / 60000]       loss: 0.6083566546440125\n",
      "Epoch 1 [10240 / 60000]       loss: 0.5683521628379822\n",
      "Epoch 1 [10880 / 60000]       loss: 0.9639973640441895\n",
      "Epoch 1 [11520 / 60000]       loss: 0.5356281995773315\n",
      "Epoch 1 [12160 / 60000]       loss: 0.6559843420982361\n",
      "Epoch 1 [12800 / 60000]       loss: 0.7422606945037842\n",
      "Epoch 1 [13440 / 60000]       loss: 0.47094279527664185\n",
      "Epoch 1 [14080 / 60000]       loss: 0.6822866797447205\n",
      "Epoch 1 [14720 / 60000]       loss: 0.4729415476322174\n",
      "Epoch 1 [15360 / 60000]       loss: 0.3934904634952545\n",
      "Epoch 1 [16000 / 60000]       loss: 0.5534666180610657\n",
      "Epoch 1 [16640 / 60000]       loss: 0.6788586974143982\n",
      "Epoch 1 [17280 / 60000]       loss: 0.5874312520027161\n",
      "Epoch 1 [17920 / 60000]       loss: 0.3960237503051758\n",
      "Epoch 1 [18560 / 60000]       loss: 0.5237492918968201\n",
      "Epoch 1 [19200 / 60000]       loss: 0.5921810865402222\n",
      "Epoch 1 [19840 / 60000]       loss: 0.3747132420539856\n",
      "Epoch 1 [20480 / 60000]       loss: 0.5541332960128784\n",
      "Epoch 1 [21120 / 60000]       loss: 0.7883895039558411\n",
      "Epoch 1 [21760 / 60000]       loss: 0.4834451675415039\n",
      "Epoch 1 [22400 / 60000]       loss: 0.31102752685546875\n",
      "Epoch 1 [23040 / 60000]       loss: 0.4049806296825409\n",
      "Epoch 1 [23680 / 60000]       loss: 0.34643638134002686\n",
      "Epoch 1 [24320 / 60000]       loss: 0.2944265305995941\n",
      "Epoch 1 [24960 / 60000]       loss: 0.3421507477760315\n",
      "Epoch 1 [25600 / 60000]       loss: 0.2867375910282135\n",
      "Epoch 1 [26240 / 60000]       loss: 0.22630442678928375\n",
      "Epoch 1 [26880 / 60000]       loss: 0.5056772828102112\n",
      "Epoch 1 [27520 / 60000]       loss: 0.48376893997192383\n",
      "Epoch 1 [28160 / 60000]       loss: 0.579193115234375\n",
      "Epoch 1 [28800 / 60000]       loss: 0.40761399269104004\n",
      "Epoch 1 [29440 / 60000]       loss: 0.3075413405895233\n",
      "Epoch 1 [30080 / 60000]       loss: 0.32275500893592834\n",
      "Epoch 1 [30720 / 60000]       loss: 0.4255838394165039\n",
      "Epoch 1 [31360 / 60000]       loss: 0.37186649441719055\n",
      "Epoch 1 [32000 / 60000]       loss: 0.38799870014190674\n",
      "Epoch 1 [32640 / 60000]       loss: 0.3524530231952667\n",
      "Epoch 1 [33280 / 60000]       loss: 0.275871217250824\n",
      "Epoch 1 [33920 / 60000]       loss: 0.3742389380931854\n",
      "Epoch 1 [34560 / 60000]       loss: 0.2812591791152954\n",
      "Epoch 1 [35200 / 60000]       loss: 0.33932819962501526\n",
      "Epoch 1 [35840 / 60000]       loss: 0.3670662045478821\n",
      "Epoch 1 [36480 / 60000]       loss: 0.17194971442222595\n",
      "Epoch 1 [37120 / 60000]       loss: 0.4666792154312134\n",
      "Epoch 1 [37760 / 60000]       loss: 0.3403424024581909\n",
      "Epoch 1 [38400 / 60000]       loss: 0.13536973297595978\n",
      "Epoch 1 [39040 / 60000]       loss: 0.26204419136047363\n",
      "Epoch 1 [39680 / 60000]       loss: 0.3287210166454315\n",
      "Epoch 1 [40320 / 60000]       loss: 0.2770233154296875\n",
      "Epoch 1 [40960 / 60000]       loss: 0.20775559544563293\n",
      "Epoch 1 [41600 / 60000]       loss: 0.5816736221313477\n",
      "Epoch 1 [42240 / 60000]       loss: 0.31290706992149353\n",
      "Epoch 1 [42880 / 60000]       loss: 0.19217059016227722\n",
      "Epoch 1 [43520 / 60000]       loss: 0.23393991589546204\n",
      "Epoch 1 [44160 / 60000]       loss: 0.3534610867500305\n",
      "Epoch 1 [44800 / 60000]       loss: 0.4581730365753174\n",
      "Epoch 1 [45440 / 60000]       loss: 0.2371060997247696\n",
      "Epoch 1 [46080 / 60000]       loss: 0.43506690859794617\n",
      "Epoch 1 [46720 / 60000]       loss: 0.21859636902809143\n",
      "Epoch 1 [47360 / 60000]       loss: 0.29483669996261597\n",
      "Epoch 1 [48000 / 60000]       loss: 0.22472232580184937\n",
      "Epoch 1 [48640 / 60000]       loss: 0.2787627577781677\n",
      "Epoch 1 [49280 / 60000]       loss: 0.2293485552072525\n",
      "Epoch 1 [49920 / 60000]       loss: 0.20010392367839813\n",
      "Epoch 1 [50560 / 60000]       loss: 0.2957797050476074\n",
      "Epoch 1 [51200 / 60000]       loss: 0.27633872628211975\n",
      "Epoch 1 [51840 / 60000]       loss: 0.24385124444961548\n",
      "Epoch 1 [52480 / 60000]       loss: 0.4287203252315521\n",
      "Epoch 1 [53120 / 60000]       loss: 0.31845390796661377\n",
      "Epoch 1 [53760 / 60000]       loss: 0.3315345346927643\n",
      "Epoch 1 [54400 / 60000]       loss: 0.2840348780155182\n",
      "Epoch 1 [55040 / 60000]       loss: 0.19017042219638824\n",
      "Epoch 1 [55680 / 60000]       loss: 0.29034584760665894\n",
      "Epoch 1 [56320 / 60000]       loss: 0.4336925745010376\n",
      "Epoch 1 [56960 / 60000]       loss: 0.15789192914962769\n",
      "Epoch 1 [57600 / 60000]       loss: 0.3090275824069977\n",
      "Epoch 1 [58240 / 60000]       loss: 0.3322189152240753\n",
      "Epoch 1 [58880 / 60000]       loss: 0.3333803415298462\n",
      "Epoch 1 [59520 / 60000]       loss: 0.3761397898197174\n"
     ]
    },
    {
     "name": "stderr",
     "output_type": "stream",
     "text": [
      "C:\\Users\\QbaSo\\AppData\\Roaming\\Python\\Python39\\site-packages\\torch\\nn\\_reduction.py:42: UserWarning: size_average and reduce args will be deprecated, please use reduction='sum' instead.\n",
      "  warnings.warn(warning.format(ret))\n"
     ]
    },
    {
     "name": "stdout",
     "output_type": "stream",
     "text": [
      "\n",
      "Test set: Avg. loss: 0.0924, Accuracy: 9719/10000 (97%)\n",
      "\n"
     ]
    },
    {
     "data": {
      "image/png": "[encoded data removed]",
      "text/plain": [
       "<Figure size 432x288 with 1 Axes>"
      ]
     },
     "metadata": {
      "needs_background": "light"
     },
     "output_type": "display_data"
    }
   ],
   "source": [
    "train_loader, test_loader = MNIST()\n",
    "\n",
    "model = Net()\n",
    "optimizer = optim.SGD(model.parameters(), lr=0.1)\n",
    "train_losses = train(model, optimizer, train_loader)\n",
    "plt.plot(train_losses)\n",
    "test(model, test_loader)"
   ]
  },
  {
   "cell_type": "markdown",
   "metadata": {},
   "source": [
    "# Learning Permuted Mnist"
   ]
  },
  {
   "cell_type": "code",
   "execution_count": 20,
   "metadata": {},
   "outputs": [
    {
     "name": "stdout",
     "output_type": "stream",
     "text": [
      "starting permutation...\n"
     ]
    },
    {
     "ename": "KeyboardInterrupt",
     "evalue": "",
     "output_type": "error",
     "traceback": [
      "\u001b[1;31m---------------------------------------------------------------------------\u001b[0m",
      "\u001b[1;31mKeyboardInterrupt\u001b[0m                         Traceback (most recent call last)",
      "\u001b[1;32mc:\\Users\\QbaSo\\Desktop\\praca magisterska\\myCode\\scenarios.ipynb Cell 8\u001b[0m in \u001b[0;36m<cell line: 3>\u001b[1;34m()\u001b[0m\n\u001b[0;32m      <a href='vscode-notebook-cell:/c%3A/Users/QbaSo/Desktop/praca%20magisterska/myCode/scenarios.ipynb#X12sZmlsZQ%3D%3D?line=0'>1</a>\u001b[0m train_loader, test_loader \u001b[39m=\u001b[39m MNIST()\n\u001b[1;32m----> <a href='vscode-notebook-cell:/c%3A/Users/QbaSo/Desktop/praca%20magisterska/myCode/scenarios.ipynb#X12sZmlsZQ%3D%3D?line=2'>3</a>\u001b[0m permute_mnist(train_loader\u001b[39m.\u001b[39;49mdataset, \u001b[39m2137\u001b[39;49m)\n\u001b[0;32m      <a href='vscode-notebook-cell:/c%3A/Users/QbaSo/Desktop/praca%20magisterska/myCode/scenarios.ipynb#X12sZmlsZQ%3D%3D?line=3'>4</a>\u001b[0m model \u001b[39m=\u001b[39m Net()\n\u001b[0;32m      <a href='vscode-notebook-cell:/c%3A/Users/QbaSo/Desktop/praca%20magisterska/myCode/scenarios.ipynb#X12sZmlsZQ%3D%3D?line=4'>5</a>\u001b[0m optimizer \u001b[39m=\u001b[39m optim\u001b[39m.\u001b[39mSGD(model\u001b[39m.\u001b[39mparameters(), lr\u001b[39m=\u001b[39m\u001b[39m0.1\u001b[39m)\n",
      "\u001b[1;32mc:\\Users\\QbaSo\\Desktop\\praca magisterska\\myCode\\scenarios.ipynb Cell 8\u001b[0m in \u001b[0;36mpermute_mnist\u001b[1;34m(mnist, seed)\u001b[0m\n\u001b[0;32m     <a href='vscode-notebook-cell:/c%3A/Users/QbaSo/Desktop/praca%20magisterska/myCode/scenarios.ipynb#X12sZmlsZQ%3D%3D?line=24'>25</a>\u001b[0m np\u001b[39m.\u001b[39mrandom\u001b[39m.\u001b[39mshuffle(perm_inds)\n\u001b[0;32m     <a href='vscode-notebook-cell:/c%3A/Users/QbaSo/Desktop/praca%20magisterska/myCode/scenarios.ipynb#X12sZmlsZQ%3D%3D?line=25'>26</a>\u001b[0m \u001b[39mfor\u001b[39;00m i \u001b[39min\u001b[39;00m \u001b[39mrange\u001b[39m(\u001b[39mlen\u001b[39m(mnist\u001b[39m.\u001b[39mdata)):\n\u001b[1;32m---> <a href='vscode-notebook-cell:/c%3A/Users/QbaSo/Desktop/praca%20magisterska/myCode/scenarios.ipynb#X12sZmlsZQ%3D%3D?line=26'>27</a>\u001b[0m     mnist\u001b[39m.\u001b[39mdata[i] \u001b[39m=\u001b[39m mnist\u001b[39m.\u001b[39;49mdata[i]\u001b[39m.\u001b[39;49mflatten()[perm_inds]\u001b[39m.\u001b[39mreshape(\u001b[39m28\u001b[39m,\u001b[39m28\u001b[39m)\n\u001b[0;32m     <a href='vscode-notebook-cell:/c%3A/Users/QbaSo/Desktop/praca%20magisterska/myCode/scenarios.ipynb#X12sZmlsZQ%3D%3D?line=27'>28</a>\u001b[0m \u001b[39mprint\u001b[39m(\u001b[39m\"\u001b[39m\u001b[39mdone.\u001b[39m\u001b[39m\"\u001b[39m)\n",
      "\u001b[1;31mKeyboardInterrupt\u001b[0m: "
     ]
    }
   ],
   "source": [
    "train_loader, test_loader = MNIST()\n",
    "\n",
    "permute_mnist(train_loader.dataset, 2137)\n",
    "model = Net()\n",
    "optimizer = optim.SGD(model.parameters(), lr=0.1)\n",
    "train_losses = train(model, optimizer)\n",
    "plt.plot(train_losses)\n",
    "test(model)"
   ]
  },
  {
   "attachments": {},
   "cell_type": "markdown",
   "metadata": {},
   "source": [
    "# Pretraining on noise data"
   ]
  },
  {
   "cell_type": "code",
   "execution_count": 5,
   "metadata": {},
   "outputs": [],
   "source": [
    "import os\n",
    "from sklearn.model_selection import train_test_split\n",
    "from torch.utils.data import Subset\n",
    "\n",
    "def dead_leaves_squares():\n",
    "    imagefolder = \"data/dead_leaves-squares/\"\n",
    "    batch_size = 128\n",
    "    resize_image = True\n",
    "\n",
    "    class TwoCropsTransform:\n",
    "        \"\"\"Take two random crops of one image as the query and key.\"\"\"\n",
    "\n",
    "        def __init__(self, base_transform):\n",
    "            self.base_transform = base_transform\n",
    "\n",
    "        def __call__(self, x):\n",
    "            q = self.base_transform(x)\n",
    "            k = self.base_transform(x)\n",
    "            return [q, k]\n",
    "\n",
    "    transform_array = []\n",
    "    if resize_image:\n",
    "        transform_array.append(\n",
    "            torchvision.transforms.Resize((96,96))\n",
    "        )\n",
    "\n",
    "    transform_array += [\n",
    "        torchvision.transforms.RandomResizedCrop(64, scale=(0.08, 1)),\n",
    "        torchvision.transforms.RandomHorizontalFlip(),\n",
    "        torchvision.transforms.ColorJitter(0.4, 0.4, 0.4, 0.4),\n",
    "        torchvision.transforms.RandomGrayscale(p=0.2),\n",
    "        torchvision.transforms.ToTensor(),\n",
    "        torchvision.transforms.Normalize(\n",
    "            (0.44087801806139126, 0.42790631331699347, 0.3867879370752931),\n",
    "            (0.26826768628079806, 0.2610450402318512, 0.26866836876860795),\n",
    "        ),\n",
    "    ]\n",
    "\n",
    "    transform = torchvision.transforms.Compose(transform_array)\n",
    "    transform = TwoCropsTransform(transform)\n",
    "\n",
    "\n",
    "    train_path = os.path.join(imagefolder, 'train')\n",
    "    print(f'Loading data from {imagefolder} as imagefolder')\n",
    "    dataset = torchvision.datasets.ImageFolder(\n",
    "        train_path,\n",
    "        transform=transform)\n",
    "\n",
    "    val_split = 0.3\n",
    "    train_idx, test_idx = train_test_split(list(range(len(dataset))), test_size=val_split)\n",
    "    train_dataset = Subset(dataset, train_idx).dataset\n",
    "    test_dataset = Subset(dataset, test_idx).dataset\n",
    "\n",
    "    # loader = torch.utils.data.DataLoader(dataset, batch_size=batch_size, num_workers=2, shuffle=True, pin_memory=True)\n",
    "    train_loader = torch.utils.data.DataLoader(train_dataset, batch_size=batch_size, num_workers=2, shuffle=True, pin_memory=True)\n",
    "    test_loader = torch.utils.data.DataLoader(test_dataset, batch_size=batch_size, num_workers=2, shuffle=True, pin_memory=True)\n",
    "    return train_loader, test_loader"
   ]
  },
  {
   "cell_type": "code",
   "execution_count": 5,
   "metadata": {},
   "outputs": [
    {
     "name": "stdout",
     "output_type": "stream",
     "text": [
      "Loading data from data as imagefolder\n"
     ]
    }
   ],
   "source": [
    "imagefolder = \"data\"#/dead_leaves-squares\"\n",
    "batch_size = 128\n",
    "resize_image = True\n",
    "\n",
    "class TwoCropsTransform:\n",
    "    \"\"\"Take two random crops of one image as the query and key.\"\"\"\n",
    "\n",
    "    def __init__(self, base_transform):\n",
    "        self.base_transform = base_transform\n",
    "\n",
    "    def __call__(self, x):\n",
    "        q = self.base_transform(x)\n",
    "        k = self.base_transform(x)\n",
    "        return [q, k]\n",
    "\n",
    "transform_array = []\n",
    "if resize_image:\n",
    "    transform_array.append(\n",
    "        torchvision.transforms.Resize((96,96))\n",
    "    )\n",
    "\n",
    "transform_array += [\n",
    "    torchvision.transforms.RandomResizedCrop(64, scale=(0.08, 1)),\n",
    "    torchvision.transforms.RandomHorizontalFlip(),\n",
    "    torchvision.transforms.ColorJitter(0.4, 0.4, 0.4, 0.4),\n",
    "    torchvision.transforms.RandomGrayscale(p=0.2),\n",
    "    torchvision.transforms.ToTensor(),\n",
    "    torchvision.transforms.Normalize(\n",
    "        (0.44087801806139126, 0.42790631331699347, 0.3867879370752931),\n",
    "        (0.26826768628079806, 0.2610450402318512, 0.26866836876860795),\n",
    "    ),\n",
    "]\n",
    "\n",
    "transform = torchvision.transforms.Compose(transform_array)\n",
    "transform = TwoCropsTransform(transform)\n",
    "\n",
    "\n",
    "train_path = os.path.join(imagefolder, 'train')\n",
    "print(f'Loading data from {imagefolder} as imagefolder')\n",
    "dataset = torchvision.datasets.ImageFolder(\n",
    "    train_path,\n",
    "    transform=transform)\n",
    "\n",
    "val_split = 0.3\n",
    "train_idx, test_idx = train_test_split(list(range(len(dataset))), test_size=val_split)\n",
    "# train_dataset = Subset(dataset, train_idx).dataset\n",
    "# test_dataset = Subset(dataset, test_idx).dataset\n",
    "\n",
    "# loader = torch.utils.data.DataLoader(dataset, batch_size=batch_size, num_workers=2, shuffle=True, pin_memory=True)\n",
    "train_loader = torch.utils.data.DataLoader(dataset, batch_size=batch_size, num_workers=2, shuffle=True, pin_memory=True)\n",
    "# test_loader = torch.utils.data.DataLoader(test_dataset, batch_size=batch_size, num_workers=2, shuffle=True, pin_memory=True)"
   ]
  },
  {
   "cell_type": "code",
   "execution_count": 6,
   "metadata": {},
   "outputs": [],
   "source": [
    "# train_loader, test_loader = dead_leaves_squares()\n",
    "\n",
    "model = Net()\n",
    "optimizer = optim.SGD(model.parameters(), lr=0.1)\n",
    "train_losses = train(model, optimizer, train_loader)\n",
    "# plt.plot(train_loader)\n",
    "# test(model, test_loader)"
   ]
  },
  {
   "attachments": {},
   "cell_type": "markdown",
   "metadata": {},
   "source": [
    "# freeze and train on MNIST"
   ]
  },
  {
   "cell_type": "code",
   "execution_count": 6,
   "metadata": {},
   "outputs": [
    {
     "data": {
      "text/plain": [
       "Linear(in_features=50, out_features=10, bias=True)"
      ]
     },
     "execution_count": 6,
     "metadata": {},
     "output_type": "execute_result"
    }
   ],
   "source": [
    "model.conv1.requires_grad_(False)\n",
    "model.conv2.requires_grad_(False)\n",
    "model.conv2_drop.requires_grad_(False)\n",
    "model.fc1.requires_grad_(False)\n",
    "model.fc2.requires_grad_(False)"
   ]
  }
 ],
 "metadata": {
  "kernelspec": {
   "display_name": "Python 3.9.10 64-bit",
   "language": "python",
   "name": "python3"
  },
  "language_info": {
   "codemirror_mode": {
    "name": "ipython",
    "version": 3
   },
   "file_extension": ".py",
   "mimetype": "text/x-python",
   "name": "python",
   "nbconvert_exporter": "python",
   "pygments_lexer": "ipython3",
   "version": "3.9.10"
  },
  "orig_nbformat": 4,
  "vscode": {
   "interpreter": {
    "hash": "4249f8e087ad731f5e338836e2eb79540285f90ed1dfcc5ccaf8d5c2082bb200"
   }
  }
 },
 "nbformat": 4,
 "nbformat_minor": 2
}
