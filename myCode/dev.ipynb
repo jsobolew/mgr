{
 "cells": [
  {
   "cell_type": "code",
   "execution_count": 5,
   "metadata": {
    "collapsed": true
   },
   "outputs": [],
   "source": [
    "import torch\n",
    "import torchvision\n",
    "import numpy as np"
   ]
  },
  {
   "cell_type": "code",
   "execution_count": 42,
   "outputs": [
    {
     "name": "stdout",
     "output_type": "stream",
     "text": [
      "Files already downloaded and verified\n"
     ]
    }
   ],
   "source": [
    "dataset = torchvision.datasets.CIFAR10\n",
    "train = True\n",
    "global_classes = [0,1,2]\n",
    "batch_size_train = 32\n",
    "\n",
    "dataset = dataset('files/', train=train, download=True,\n",
    "                                transform=torchvision.transforms.Compose([\n",
    "                                torchvision.transforms.ToTensor(),\n",
    "                                torchvision.transforms.Normalize(\n",
    "                                (0.4924, 0.4739, 0.4198),\n",
    "                                (0.1891, 0.1865, 0.1885))\n",
    "                            ]),)\n",
    "\n",
    "dataset.data = np.concatenate([dataset.data[np.array(dataset.targets) == i] for i in global_classes])\n",
    "\n",
    "dataset.targets = torch.tensor(np.concatenate(\n",
    "    [np.array(dataset.targets)[np.array(dataset.targets) == i] for i in global_classes]\n",
    ")).to(torch.int64)\n",
    "\n",
    "for i in range(len(global_classes)):\n",
    "    dataset.targets[np.array(dataset.targets) == global_classes[i]] = i\n",
    "\n",
    "train_loader = torch.utils.data.DataLoader(dataset, batch_size=batch_size_train, shuffle=True)"
   ],
   "metadata": {
    "collapsed": false
   }
  },
  {
   "cell_type": "code",
   "execution_count": 43,
   "outputs": [
    {
     "data": {
      "text/plain": "Dataset CIFAR10\n    Number of datapoints: 15000\n    Root location: files/\n    Split: Train\n    StandardTransform\nTransform: Compose(\n               ToTensor()\n               Normalize(mean=(0.4924, 0.4739, 0.4198), std=(0.1891, 0.1865, 0.1885))\n           )"
     },
     "execution_count": 43,
     "metadata": {},
     "output_type": "execute_result"
    }
   ],
   "source": [
    "train_loader.dataset"
   ],
   "metadata": {
    "collapsed": false
   }
  },
  {
   "cell_type": "code",
   "execution_count": 19,
   "outputs": [],
   "source": [
    "dataset.data = np.concatenate(\n",
    "    (dataset.data[np.array(dataset.targets) == 0], dataset.data[np.array(dataset.targets) == 1], dataset.data[np.array(dataset.targets) == 2])\n",
    ")"
   ],
   "metadata": {
    "collapsed": false
   }
  },
  {
   "cell_type": "code",
   "execution_count": 25,
   "outputs": [
    {
     "name": "stdout",
     "output_type": "stream",
     "text": [
      "(50000, 32, 32, 3)\n"
     ]
    }
   ],
   "source": [
    "print(dataset.data.shape)"
   ],
   "metadata": {
    "collapsed": false
   }
  },
  {
   "cell_type": "code",
   "execution_count": 31,
   "outputs": [],
   "source": [
    "dataset.data = np.concatenate([dataset.data[np.array(dataset.targets) == i] for i in range(3)])"
   ],
   "metadata": {
    "collapsed": false
   }
  },
  {
   "cell_type": "code",
   "execution_count": 38,
   "outputs": [
    {
     "name": "stdout",
     "output_type": "stream",
     "text": [
      "(50000, 32, 32, 3)\n"
     ]
    }
   ],
   "source": [
    "print(dataset.data.shape)"
   ],
   "metadata": {
    "collapsed": false
   }
  },
  {
   "cell_type": "code",
   "execution_count": 35,
   "outputs": [],
   "source": [
    "dataset.targets = torch.tensor(np.concatenate(\n",
    "    [np.array(dataset.targets)[np.array(dataset.targets) == i] for i in global_classes]\n",
    ")).to(torch.int64)"
   ],
   "metadata": {
    "collapsed": false
   }
  },
  {
   "cell_type": "code",
   "execution_count": 36,
   "outputs": [
    {
     "data": {
      "text/plain": "torch.Size([10000])"
     },
     "execution_count": 36,
     "metadata": {},
     "output_type": "execute_result"
    }
   ],
   "source": [
    "dataset.targets.shape"
   ],
   "metadata": {
    "collapsed": false
   }
  },
  {
   "cell_type": "code",
   "execution_count": null,
   "outputs": [],
   "source": [
    "def dataset_for_classes_TaskIL(global_classes, dataset, batch_size_train=128, train=True):\n",
    "    dataset = dataset('files/', train=train, download=True,\n",
    "                                    transform=torchvision.transforms.Compose([\n",
    "                                    torchvision.transforms.ToTensor(),\n",
    "                                    torchvision.transforms.Normalize(\n",
    "                                    (0.4924, 0.4739, 0.4198),\n",
    "                                    (0.1891, 0.1865, 0.1885))\n",
    "                                ]),)\n",
    "\n",
    "    dataset.data = np.concatenate([dataset.data[np.array(dataset.targets) == i] for i in global_classes])\n",
    "\n",
    "    dataset.targets = torch.tensor(np.concatenate(\n",
    "        [np.array(dataset.targets)[np.array(dataset.targets) == i] for i in global_classes]\n",
    "    )).to(torch.int64)\n",
    "\n",
    "    for i in range(len(global_classes)):\n",
    "        dataset.targets[np.array(dataset.targets) == global_classes[i]] = i\n",
    "\n",
    "    train_loader = torch.utils.data.DataLoader(dataset, batch_size=batch_size_train, shuffle=True)\n",
    "    return train_loader"
   ],
   "metadata": {
    "collapsed": false
   }
  }
 ],
 "metadata": {
  "kernelspec": {
   "display_name": "Python 3",
   "language": "python",
   "name": "python3"
  },
  "language_info": {
   "codemirror_mode": {
    "name": "ipython",
    "version": 2
   },
   "file_extension": ".py",
   "mimetype": "text/x-python",
   "name": "python",
   "nbconvert_exporter": "python",
   "pygments_lexer": "ipython2",
   "version": "2.7.6"
  }
 },
 "nbformat": 4,
 "nbformat_minor": 0
}
