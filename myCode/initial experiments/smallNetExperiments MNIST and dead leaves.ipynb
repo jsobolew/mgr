{
 "cells": [
  {
   "cell_type": "code",
   "execution_count": 1,
   "metadata": {},
   "outputs": [
    {
     "name": "stderr",
     "output_type": "stream",
     "text": [
      "c:\\Users\\QbaSo\\AppData\\Local\\Programs\\Python\\Python39\\lib\\site-packages\\requests\\__init__.py:102: RequestsDependencyWarning: urllib3 (1.26.9) or chardet (5.1.0)/charset_normalizer (2.0.12) doesn't match a supported version!\n",
      "  warnings.warn(\"urllib3 ({}) or chardet ({})/charset_normalizer ({}) doesn't match a supported \"\n"
     ]
    }
   ],
   "source": [
    "import torch\n",
    "from Nets import Net, NetNoise\n",
    "from functions import test, train, save_pruned_model\n",
    "from dataloaders import MNIST, dead_leaves_squares_pretraining_gray\n",
    "import numpy as np\n",
    "import torch.optim as optim\n",
    "import matplotlib.pyplot as plt\n",
    "\n",
    "torch.cuda.is_available()\n",
    "device = 'cuda'"
   ]
  },
  {
   "cell_type": "code",
   "execution_count": 3,
   "metadata": {},
   "outputs": [
    {
     "name": "stdout",
     "output_type": "stream",
     "text": [
      "-------------------------------------------------- pretraining --------------------------------------------------\n",
      "Loading data from data/dead_leaves-squares/ as imagefolder\n",
      "Epoch 1 [0 / 105000]       loss: 4.647898197174072\n",
      "Epoch 1 [12800 / 105000]       loss: 4.662369728088379\n",
      "Epoch 1 [25600 / 105000]       loss: 4.655643939971924\n",
      "Epoch 1 [38400 / 105000]       loss: 4.653311252593994\n",
      "Epoch 1 [51200 / 105000]       loss: 4.647488594055176\n",
      "Epoch 1 [64000 / 105000]       loss: 4.661376476287842\n",
      "Epoch 1 [76800 / 105000]       loss: 4.656686782836914\n",
      "Epoch 1 [89600 / 105000]       loss: 4.6593780517578125\n",
      "Epoch 1 [102400 / 105000]       loss: 4.6533894538879395\n",
      "-------------------------------------------------- training only last layer --------------------------------------------------\n",
      "Epoch 1 [0 / 50000]       loss: 2.3397626876831055\n",
      "Epoch 1 [6400 / 50000]       loss: 0.6342592835426331\n",
      "Epoch 1 [12800 / 50000]       loss: 0.4375220835208893\n",
      "Epoch 1 [19200 / 50000]       loss: 0.4703138768672943\n",
      "Epoch 1 [25600 / 50000]       loss: 0.23417949676513672\n",
      "Epoch 1 [32000 / 50000]       loss: 0.34494543075561523\n",
      "Epoch 1 [38400 / 50000]       loss: 0.2236197590827942\n",
      "Epoch 1 [44800 / 50000]       loss: 0.3582727611064911\n"
     ]
    },
    {
     "name": "stderr",
     "output_type": "stream",
     "text": [
      "c:\\Users\\QbaSo\\AppData\\Local\\Programs\\Python\\Python39\\lib\\site-packages\\torch\\nn\\_reduction.py:42: UserWarning: size_average and reduce args will be deprecated, please use reduction='sum' instead.\n",
      "  warnings.warn(warning.format(ret))\n"
     ]
    },
    {
     "name": "stdout",
     "output_type": "stream",
     "text": [
      "\n",
      "Test set: Avg. loss: 0.1144, Accuracy: 9627/10000 (96%)\n",
      "\n"
     ]
    },
    {
     "data": {
      "text/plain": [
       "tensor(96.2700)"
      ]
     },
     "execution_count": 3,
     "metadata": {},
     "output_type": "execute_result"
    },
    {
     "data": {
      "image/png": "[encoded data removed]",
      "text/plain": [
       "<Figure size 432x288 with 1 Axes>"
      ]
     },
     "metadata": {
      "needs_background": "light"
     },
     "output_type": "display_data"
    }
   ],
   "source": [
    "print('-'*50, 'pretraining', '-'*50)\n",
    "train_loader_random_lebels = dead_leaves_squares_pretraining_gray()\n",
    "\n",
    "model = Net(105)\n",
    "optimizer = optim.SGD(model.parameters(), lr=0.1)\n",
    "train_losses, val_losses, exemplers = train(model, optimizer, train_loader_random_lebels)\n",
    "plt.plot(exemplers, train_losses)\n",
    "\n",
    "save_pruned_model(model, \"pretrained_dead_leaves_squares_gray_withoutlast.pt\")\n",
    "\n",
    "newModel = Net(10)\n",
    "optimizer = optim.SGD(newModel.parameters(), lr=0.1)\n",
    "newModel.load_state_dict(torch.load(\"pretrained_dead_leaves_squares_gray_withoutlast.pt\"), strict=False)\n",
    "\n",
    "print('-'*50, 'training only last layer', '-'*50)\n",
    "train_loader, val_loader, test_loader = MNIST()\n",
    "\n",
    "train_losses, val_losses, exemplers = train(newModel, optimizer, train_loader)\n",
    "plt.plot(exemplers, train_losses)\n",
    "test(newModel, test_loader)"
   ]
  },
  {
   "cell_type": "code",
   "execution_count": 4,
   "metadata": {},
   "outputs": [
    {
     "name": "stdout",
     "output_type": "stream",
     "text": [
      "-------------------------------------------------- pretraining --------------------------------------------------\n",
      "Loading data from data/dead_leaves-squares/ as imagefolder\n",
      "Epoch 1 [0 / 105000]       loss: 4.663735866546631\n",
      "Epoch 1 [12800 / 105000]       loss: 4.6532883644104\n",
      "Epoch 1 [25600 / 105000]       loss: 4.651196002960205\n",
      "Epoch 1 [38400 / 105000]       loss: 4.652601718902588\n",
      "Epoch 1 [51200 / 105000]       loss: 4.648440361022949\n",
      "Epoch 1 [64000 / 105000]       loss: 4.649972438812256\n",
      "Epoch 1 [76800 / 105000]       loss: 4.655980110168457\n",
      "Epoch 1 [89600 / 105000]       loss: 4.657352924346924\n",
      "Epoch 1 [102400 / 105000]       loss: 4.658249855041504\n",
      "-------------------------------------------------- training only last layer --------------------------------------------------\n",
      "Epoch 1 [0 / 50000]       loss: 2.236365556716919\n",
      "Epoch 1 [6400 / 50000]       loss: 2.2201805114746094\n",
      "Epoch 1 [12800 / 50000]       loss: 2.1824119091033936\n",
      "Epoch 1 [19200 / 50000]       loss: 2.1963047981262207\n",
      "Epoch 1 [25600 / 50000]       loss: 2.2029497623443604\n",
      "Epoch 1 [32000 / 50000]       loss: 2.167621612548828\n",
      "Epoch 1 [38400 / 50000]       loss: 2.129917860031128\n",
      "Epoch 1 [44800 / 50000]       loss: 2.1067090034484863\n",
      "\n",
      "Test set: Avg. loss: 1.9854, Accuracy: 5329/10000 (53%)\n",
      "\n"
     ]
    },
    {
     "data": {
      "text/plain": [
       "tensor(53.2900)"
      ]
     },
     "execution_count": 4,
     "metadata": {},
     "output_type": "execute_result"
    },
    {
     "data": {
      "image/png": "[encoded data removed]",
      "text/plain": [
       "<Figure size 432x288 with 1 Axes>"
      ]
     },
     "metadata": {
      "needs_background": "light"
     },
     "output_type": "display_data"
    }
   ],
   "source": [
    "print('-'*50, 'pretraining', '-'*50)\n",
    "train_loader_random_lebels = dead_leaves_squares_pretraining_gray()\n",
    "\n",
    "model = Net(105)\n",
    "optimizer = optim.SGD(model.parameters(), lr=0.1)\n",
    "train_losses, val_losses, exemplers = train(model, optimizer, train_loader_random_lebels)\n",
    "plt.plot(exemplers, train_losses)\n",
    "\n",
    "save_pruned_model(model, \"pretrained_dead_leaves_squares_gray_withoutlast.pt\")\n",
    "\n",
    "newModel = Net(10)\n",
    "optimizer = optim.SGD(newModel.parameters(), lr=0.1)\n",
    "newModel.load_state_dict(torch.load(\"pretrained_dead_leaves_squares_gray_withoutlast.pt\"), strict=False)\n",
    "\n",
    "for idx, child in enumerate(newModel.children()):\n",
    "    if idx == len(list(newModel.children())) - 1:\n",
    "        break\n",
    "    for param in child.parameters():\n",
    "        param.requires_grad = False\n",
    "\n",
    "print('-'*50, 'training only last layer', '-'*50)\n",
    "train_loader, val_loader, test_loader = MNIST()\n",
    "\n",
    "train_losses, val_losses, exemplers = train(newModel, optimizer, train_loader)\n",
    "plt.plot(exemplers, train_losses)\n",
    "test(newModel, test_loader)"
   ]
  }
 ],
 "metadata": {
  "kernelspec": {
   "display_name": "Python 3",
   "language": "python",
   "name": "python3"
  },
  "language_info": {
   "codemirror_mode": {
    "name": "ipython",
    "version": 3
   },
   "file_extension": ".py",
   "mimetype": "text/x-python",
   "name": "python",
   "nbconvert_exporter": "python",
   "pygments_lexer": "ipython3",
   "version": "3.9.10"
  },
  "orig_nbformat": 4,
  "vscode": {
   "interpreter": {
    "hash": "4249f8e087ad731f5e338836e2eb79540285f90ed1dfcc5ccaf8d5c2082bb200"
   }
  }
 },
 "nbformat": 4,
 "nbformat_minor": 2
}
