{
 "cells": [
  {
   "cell_type": "code",
   "execution_count": 1,
   "metadata": {},
   "outputs": [
    {
     "name": "stderr",
     "output_type": "stream",
     "text": [
      "c:\\Users\\QbaSo\\AppData\\Local\\Programs\\Python\\Python39\\lib\\site-packages\\requests\\__init__.py:102: RequestsDependencyWarning: urllib3 (1.26.9) or chardet (5.1.0)/charset_normalizer (2.0.12) doesn't match a supported version!\n",
      "  warnings.warn(\"urllib3 ({}) or chardet ({})/charset_normalizer ({}) doesn't match a supported \"\n"
     ]
    },
    {
     "data": {
      "text/plain": [
       "True"
      ]
     },
     "execution_count": 1,
     "metadata": {},
     "output_type": "execute_result"
    }
   ],
   "source": [
    "import torch\n",
    "from Nets import Net, NetNoise\n",
    "from functions import train, test\n",
    "from dataloaders import MNIST, MNIST_train_random_lebels, dead_leaves_squares_pretraining, dead_leaves_squares_pretraining_gray\n",
    "import numpy as np\n",
    "import torch.optim as optim\n",
    "import matplotlib.pyplot as plt\n",
    "\n",
    "torch.cuda.is_available()"
   ]
  },
  {
   "cell_type": "code",
   "execution_count": 7,
   "metadata": {},
   "outputs": [
    {
     "name": "stdout",
     "output_type": "stream",
     "text": [
      "-------------------------------------------------- benchmark normal training --------------------------------------------------\n",
      "Epoch 1 [0 / 50000]       loss: 2.3191401958465576\n"
     ]
    },
    {
     "name": "stderr",
     "output_type": "stream",
     "text": [
      "c:\\Users\\QbaSo\\AppData\\Local\\Programs\\Python\\Python39\\lib\\site-packages\\torch\\nn\\_reduction.py:42: UserWarning: size_average and reduce args will be deprecated, please use reduction='sum' instead.\n",
      "  warnings.warn(warning.format(ret))\n"
     ]
    },
    {
     "name": "stdout",
     "output_type": "stream",
     "text": [
      "Epoch 1 [6400 / 50000]       loss: 0.46042588353157043\n",
      "Epoch 1 [12800 / 50000]       loss: 0.07335315644741058\n",
      "Epoch 1 [19200 / 50000]       loss: 0.26224854588508606\n",
      "Epoch 1 [25600 / 50000]       loss: 0.0938493087887764\n",
      "Epoch 1 [32000 / 50000]       loss: 0.02689550630748272\n",
      "Epoch 1 [38400 / 50000]       loss: 0.045085061341524124\n",
      "Epoch 1 [44800 / 50000]       loss: 0.03255324065685272\n",
      "\n",
      "Test set: Avg. loss: 0.0792, Accuracy: 9743/10000 (97%)\n",
      "\n"
     ]
    },
    {
     "data": {
      "text/plain": [
       "tensor(97.4300)"
      ]
     },
     "execution_count": 7,
     "metadata": {},
     "output_type": "execute_result"
    },
    {
     "data": {
      "image/png": "[encoded data removed]",
      "text/plain": [
       "<Figure size 432x288 with 1 Axes>"
      ]
     },
     "metadata": {
      "needs_background": "light"
     },
     "output_type": "display_data"
    }
   ],
   "source": [
    "print('-'*50, 'benchmark normal training', '-'*50)\n",
    "train_loader, val_loader, test_loader = MNIST()\n",
    "model = Net(10)\n",
    "optimizer = optim.SGD(model.parameters(), lr=0.1)\n",
    "train_losses, val_losses, exemplers = train(model, optimizer, train_loader, val_loader)\n",
    "\n",
    "plt.plot(exemplers, train_losses)\n",
    "test(model, test_loader)"
   ]
  },
  {
   "cell_type": "code",
   "execution_count": 8,
   "metadata": {},
   "outputs": [
    {
     "data": {
      "text/plain": [
       "[tensor(13.9600),\n",
       " tensor(84.9700),\n",
       " tensor(94.9400),\n",
       " tensor(95.1100),\n",
       " tensor(96.3100),\n",
       " tensor(97.1800),\n",
       " tensor(97.3300),\n",
       " tensor(97.5900)]"
      ]
     },
     "execution_count": 8,
     "metadata": {},
     "output_type": "execute_result"
    }
   ],
   "source": [
    "val_losses"
   ]
  },
  {
   "cell_type": "code",
   "execution_count": 9,
   "metadata": {},
   "outputs": [
    {
     "name": "stdout",
     "output_type": "stream",
     "text": [
      "-------------------------------------------------- pretraining --------------------------------------------------\n",
      "Epoch 1 [0 / 60000]       loss: 2.316779851913452\n",
      "Epoch 1 [6400 / 60000]       loss: 0.6771554350852966\n",
      "Epoch 1 [12800 / 60000]       loss: 0.4089907705783844\n",
      "Epoch 1 [19200 / 60000]       loss: 0.18190017342567444\n",
      "Epoch 1 [25600 / 60000]       loss: 0.5469334721565247\n",
      "Epoch 1 [32000 / 60000]       loss: 0.5350354909896851\n",
      "Epoch 1 [38400 / 60000]       loss: 0.2023833692073822\n",
      "Epoch 1 [44800 / 60000]       loss: 0.18707333505153656\n",
      "Epoch 1 [51200 / 60000]       loss: 0.2565968930721283\n",
      "Epoch 1 [57600 / 60000]       loss: 0.2506862282752991\n",
      "\n",
      "Test set: Avg. loss: 14.5289, Accuracy: 30/10000 (0%)\n",
      "\n",
      "-------------------------------------------------- training only last layer --------------------------------------------------\n",
      "Epoch 1 [0 / 50000]       loss: 16.189821243286133\n",
      "Epoch 1 [6400 / 50000]       loss: 0.18215405941009521\n",
      "Epoch 1 [12800 / 50000]       loss: 0.12385248392820358\n",
      "Epoch 1 [19200 / 50000]       loss: 0.1345466524362564\n",
      "Epoch 1 [25600 / 50000]       loss: 0.03840261697769165\n",
      "Epoch 1 [32000 / 50000]       loss: 0.1498129963874817\n",
      "Epoch 1 [38400 / 50000]       loss: 0.1446465253829956\n",
      "Epoch 1 [44800 / 50000]       loss: 0.20126062631607056\n",
      "\n",
      "Test set: Avg. loss: 0.1232, Accuracy: 9638/10000 (96%)\n",
      "\n"
     ]
    },
    {
     "data": {
      "text/plain": [
       "tensor(96.3800)"
      ]
     },
     "execution_count": 9,
     "metadata": {},
     "output_type": "execute_result"
    },
    {
     "data": {
      "image/png": "[encoded data removed]",
      "text/plain": [
       "<Figure size 432x288 with 1 Axes>"
      ]
     },
     "metadata": {
      "needs_background": "light"
     },
     "output_type": "display_data"
    }
   ],
   "source": [
    "print('-'*50, 'pretraining', '-'*50)\n",
    "train_loader_random_lebels = MNIST_train_random_lebels()\n",
    "train_loader, val_loader, test_loader = MNIST()\n",
    "\n",
    "model = Net(10)\n",
    "optimizer = optim.SGD(model.parameters(), lr=0.1)\n",
    "train_losses, val_losses, exemplers = train(model, optimizer, train_loader_random_lebels)\n",
    "plt.plot(exemplers, train_losses)\n",
    "test(model, test_loader)\n",
    "\n",
    "print('-'*50, 'training only last layer', '-'*50)\n",
    "model.conv1.requires_grad_(False)\n",
    "model.conv2.requires_grad_(False)\n",
    "model.conv2_drop.requires_grad_(False)\n",
    "model.fc1.requires_grad_(False)\n",
    "\n",
    "train_losses, val_losses, exemplers = train(model, optimizer, train_loader, val_loader)\n",
    "plt.plot(exemplers, train_losses)\n",
    "test(model, test_loader)"
   ]
  },
  {
   "cell_type": "code",
   "execution_count": 10,
   "metadata": {},
   "outputs": [
    {
     "data": {
      "text/plain": [
       "[tensor(0.4800),\n",
       " tensor(94.6800),\n",
       " tensor(95.3200),\n",
       " tensor(95.6800),\n",
       " tensor(95.6900),\n",
       " tensor(95.9100),\n",
       " tensor(95.9800),\n",
       " tensor(95.9100)]"
      ]
     },
     "execution_count": 10,
     "metadata": {},
     "output_type": "execute_result"
    }
   ],
   "source": [
    "val_losses"
   ]
  }
 ],
 "metadata": {
  "kernelspec": {
   "display_name": "Python 3",
   "language": "python",
   "name": "python3"
  },
  "language_info": {
   "codemirror_mode": {
    "name": "ipython",
    "version": 3
   },
   "file_extension": ".py",
   "mimetype": "text/x-python",
   "name": "python",
   "nbconvert_exporter": "python",
   "pygments_lexer": "ipython3",
   "version": "3.9.10"
  },
  "orig_nbformat": 4,
  "vscode": {
   "interpreter": {
    "hash": "4249f8e087ad731f5e338836e2eb79540285f90ed1dfcc5ccaf8d5c2082bb200"
   }
  }
 },
 "nbformat": 4,
 "nbformat_minor": 2
}
