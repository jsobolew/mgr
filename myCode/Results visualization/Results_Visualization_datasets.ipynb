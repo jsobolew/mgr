{
 "cells": [
  {
   "cell_type": "code",
   "execution_count": 1,
   "metadata": {},
   "outputs": [],
   "source": [
    "import wandb\n",
    "import numpy as np\n",
    "import matplotlib.pyplot as plt\n",
    "import pandas as pd\n",
    "import json\n",
    "from collections import Counter\n",
    "\n",
    "api = wandb.Api()"
   ]
  },
  {
   "cell_type": "code",
   "execution_count": 2,
   "metadata": {},
   "outputs": [],
   "source": [
    "runs = api.runs(\"qba/rehersal Alexnet MNIST Task IL tr-t split v2\")"
   ]
  },
  {
   "cell_type": "code",
   "execution_count": 3,
   "outputs": [],
   "source": [
    "runs_list = []\n",
    "\n",
    "for run in runs:\n",
    "    runs_list.append(run.config)\n",
    "\n",
    "df = pd.DataFrame(runs_list)"
   ],
   "metadata": {
    "collapsed": false
   }
  },
  {
   "cell_type": "code",
   "execution_count": 4,
   "outputs": [
    {
     "data": {
      "text/plain": "      setup  epochs  dataset         architecture  learning_rate  \\\n0   task IL       5  CIFAR10  SmallAlexNetTasklIL           0.01   \n1   task IL       5  CIFAR10  SmallAlexNetTasklIL           0.01   \n2   task IL       5  CIFAR10  SmallAlexNetTasklIL           0.01   \n3   task IL       5  CIFAR10  SmallAlexNetTasklIL           0.01   \n4   task IL       5  CIFAR10  SmallAlexNetTasklIL           0.01   \n..      ...     ...      ...                  ...            ...   \n56  task IL       5  CIFAR10  SmallAlexNetTasklIL           0.01   \n57  task IL       5  CIFAR10  SmallAlexNetTasklIL           0.01   \n58  task IL       5  CIFAR10  SmallAlexNetTasklIL           0.01   \n59  task IL       5  CIFAR10  SmallAlexNetTasklIL           0.01   \n60  task IL       5  CIFAR10  SmallAlexNetTasklIL           0.01   \n\n      rehearsal_dataset  \n0              stat-wmm  \n1              stat-wmm  \n2              stat-wmm  \n3              stat-wmm  \n4              stat-wmm  \n..                  ...  \n56    dead_leaves-mixed  \n57    dead_leaves-mixed  \n58    dead_leaves-mixed  \n59    dead_leaves-mixed  \n60  dead_leaves-squares  \n\n[61 rows x 6 columns]",
      "text/html": "<div>\n<style scoped>\n    .dataframe tbody tr th:only-of-type {\n        vertical-align: middle;\n    }\n\n    .dataframe tbody tr th {\n        vertical-align: top;\n    }\n\n    .dataframe thead th {\n        text-align: right;\n    }\n</style>\n<table border=\"1\" class=\"dataframe\">\n  <thead>\n    <tr style=\"text-align: right;\">\n      <th></th>\n      <th>setup</th>\n      <th>epochs</th>\n      <th>dataset</th>\n      <th>architecture</th>\n      <th>learning_rate</th>\n      <th>rehearsal_dataset</th>\n    </tr>\n  </thead>\n  <tbody>\n    <tr>\n      <th>0</th>\n      <td>task IL</td>\n      <td>5</td>\n      <td>CIFAR10</td>\n      <td>SmallAlexNetTasklIL</td>\n      <td>0.01</td>\n      <td>stat-wmm</td>\n    </tr>\n    <tr>\n      <th>1</th>\n      <td>task IL</td>\n      <td>5</td>\n      <td>CIFAR10</td>\n      <td>SmallAlexNetTasklIL</td>\n      <td>0.01</td>\n      <td>stat-wmm</td>\n    </tr>\n    <tr>\n      <th>2</th>\n      <td>task IL</td>\n      <td>5</td>\n      <td>CIFAR10</td>\n      <td>SmallAlexNetTasklIL</td>\n      <td>0.01</td>\n      <td>stat-wmm</td>\n    </tr>\n    <tr>\n      <th>3</th>\n      <td>task IL</td>\n      <td>5</td>\n      <td>CIFAR10</td>\n      <td>SmallAlexNetTasklIL</td>\n      <td>0.01</td>\n      <td>stat-wmm</td>\n    </tr>\n    <tr>\n      <th>4</th>\n      <td>task IL</td>\n      <td>5</td>\n      <td>CIFAR10</td>\n      <td>SmallAlexNetTasklIL</td>\n      <td>0.01</td>\n      <td>stat-wmm</td>\n    </tr>\n    <tr>\n      <th>...</th>\n      <td>...</td>\n      <td>...</td>\n      <td>...</td>\n      <td>...</td>\n      <td>...</td>\n      <td>...</td>\n    </tr>\n    <tr>\n      <th>56</th>\n      <td>task IL</td>\n      <td>5</td>\n      <td>CIFAR10</td>\n      <td>SmallAlexNetTasklIL</td>\n      <td>0.01</td>\n      <td>dead_leaves-mixed</td>\n    </tr>\n    <tr>\n      <th>57</th>\n      <td>task IL</td>\n      <td>5</td>\n      <td>CIFAR10</td>\n      <td>SmallAlexNetTasklIL</td>\n      <td>0.01</td>\n      <td>dead_leaves-mixed</td>\n    </tr>\n    <tr>\n      <th>58</th>\n      <td>task IL</td>\n      <td>5</td>\n      <td>CIFAR10</td>\n      <td>SmallAlexNetTasklIL</td>\n      <td>0.01</td>\n      <td>dead_leaves-mixed</td>\n    </tr>\n    <tr>\n      <th>59</th>\n      <td>task IL</td>\n      <td>5</td>\n      <td>CIFAR10</td>\n      <td>SmallAlexNetTasklIL</td>\n      <td>0.01</td>\n      <td>dead_leaves-mixed</td>\n    </tr>\n    <tr>\n      <th>60</th>\n      <td>task IL</td>\n      <td>5</td>\n      <td>CIFAR10</td>\n      <td>SmallAlexNetTasklIL</td>\n      <td>0.01</td>\n      <td>dead_leaves-squares</td>\n    </tr>\n  </tbody>\n</table>\n<p>61 rows × 6 columns</p>\n</div>"
     },
     "execution_count": 4,
     "metadata": {},
     "output_type": "execute_result"
    }
   ],
   "source": [
    "df"
   ],
   "metadata": {
    "collapsed": false
   }
  },
  {
   "cell_type": "code",
   "execution_count": 5,
   "outputs": [],
   "source": [
    "df = runs[0].history(samples=10000)"
   ],
   "metadata": {
    "collapsed": false
   }
  },
  {
   "cell_type": "code",
   "execution_count": 6,
   "metadata": {},
   "outputs": [],
   "source": [
    "acc_col = ['acc_task_0', 'acc_task_1', 'acc_task_2', 'acc_task_3', 'acc_task_4']\n",
    "acc_test_col = ['acc_test_task_0', 'acc_test_task_1', 'acc_test_task_2', 'acc_test_task_3', 'acc_test_task_4']\n",
    "cols = ['acc_task_0', 'acc_task_1', 'acc_task_2', 'acc_task_3', 'acc_task_4', '_step']"
   ]
  },
  {
   "cell_type": "code",
   "execution_count": 7,
   "outputs": [],
   "source": [
    "dfs = {}\n",
    "dfs_test = {}\n",
    "\n",
    "counter = Counter()\n",
    "\n",
    "for run in runs:\n",
    "    curr_dataset = run.config['rehearsal_dataset']\n",
    "    try:\n",
    "        curr_run = run.history(samples=10000)\n",
    "        if curr_dataset in list(dfs.keys()):\n",
    "            dfs[curr_dataset] += curr_run[acc_test_col].dropna().reset_index().drop(columns='index')\n",
    "            dfs_test[curr_dataset] += curr_run[acc_col].dropna().reset_index().drop(columns='index')\n",
    "        else:\n",
    "            dfs[curr_dataset] = curr_run[acc_test_col].dropna().reset_index().drop(columns='index')\n",
    "            dfs_test[curr_dataset] = curr_run[acc_col].dropna().reset_index().drop(columns='index')\n",
    "\n",
    "        counter.update({curr_dataset:1})\n",
    "    except:\n",
    "        pass\n",
    "\n",
    "for k, v in counter.items():\n",
    "    dfs[k] /= v\n",
    "    dfs_test[k] /= v"
   ],
   "metadata": {
    "collapsed": false
   }
  },
  {
   "cell_type": "code",
   "execution_count": 8,
   "outputs": [
    {
     "data": {
      "text/plain": "      acc_test_task_1  _step  acc_test_task_4  acc_task_3  acc_task_4  \\\n0                 NaN      0              NaN       49.98        50.0   \n1           49.549999      1             50.0         NaN         NaN   \n2                 NaN      2              NaN         NaN         NaN   \n3                 NaN      3              NaN         NaN         NaN   \n4                 NaN      4              NaN         NaN         NaN   \n...               ...    ...              ...         ...         ...   \n2370              NaN   2370              NaN         NaN         NaN   \n2371              NaN   2371              NaN         NaN         NaN   \n2372              NaN   2372              NaN         NaN         NaN   \n2373              NaN   2373              NaN         NaN         NaN   \n2374              NaN   2374              NaN         NaN         NaN   \n\n      acc_task_0  acc_test_task_3     _runtime    _timestamp  acc_test_task_0  \\\n0           50.0              NaN    16.724322  1.694993e+09              NaN   \n1            NaN        49.950001    16.724717  1.694993e+09             50.0   \n2            NaN              NaN    16.726207  1.694993e+09              NaN   \n3            NaN              NaN    16.764580  1.694993e+09              NaN   \n4            NaN              NaN    16.807667  1.694993e+09              NaN   \n...          ...              ...          ...           ...              ...   \n2370         NaN              NaN  2040.199616  1.694995e+09              NaN   \n2371         NaN              NaN  2040.250165  1.694995e+09              NaN   \n2372         NaN              NaN  2040.290174  1.694995e+09              NaN   \n2373         NaN              NaN  2040.329785  1.694995e+09              NaN   \n2374         NaN              NaN  2040.347422  1.694995e+09              NaN   \n\n      acc_task_1      loss  acc_task_2  acc_test_task_2  \n0      49.150002       NaN        50.0              NaN  \n1            NaN       NaN         NaN             50.0  \n2            NaN  1.474298         NaN              NaN  \n3            NaN  2.529776         NaN              NaN  \n4            NaN  9.054437         NaN              NaN  \n...          ...       ...         ...              ...  \n2370         NaN  0.743245         NaN              NaN  \n2371         NaN  0.781047         NaN              NaN  \n2372         NaN  0.766497         NaN              NaN  \n2373         NaN  0.758231         NaN              NaN  \n2374         NaN  1.114613         NaN              NaN  \n\n[2375 rows x 14 columns]",
      "text/html": "<div>\n<style scoped>\n    .dataframe tbody tr th:only-of-type {\n        vertical-align: middle;\n    }\n\n    .dataframe tbody tr th {\n        vertical-align: top;\n    }\n\n    .dataframe thead th {\n        text-align: right;\n    }\n</style>\n<table border=\"1\" class=\"dataframe\">\n  <thead>\n    <tr style=\"text-align: right;\">\n      <th></th>\n      <th>acc_test_task_1</th>\n      <th>_step</th>\n      <th>acc_test_task_4</th>\n      <th>acc_task_3</th>\n      <th>acc_task_4</th>\n      <th>acc_task_0</th>\n      <th>acc_test_task_3</th>\n      <th>_runtime</th>\n      <th>_timestamp</th>\n      <th>acc_test_task_0</th>\n      <th>acc_task_1</th>\n      <th>loss</th>\n      <th>acc_task_2</th>\n      <th>acc_test_task_2</th>\n    </tr>\n  </thead>\n  <tbody>\n    <tr>\n      <th>0</th>\n      <td>NaN</td>\n      <td>0</td>\n      <td>NaN</td>\n      <td>49.98</td>\n      <td>50.0</td>\n      <td>50.0</td>\n      <td>NaN</td>\n      <td>16.724322</td>\n      <td>1.694993e+09</td>\n      <td>NaN</td>\n      <td>49.150002</td>\n      <td>NaN</td>\n      <td>50.0</td>\n      <td>NaN</td>\n    </tr>\n    <tr>\n      <th>1</th>\n      <td>49.549999</td>\n      <td>1</td>\n      <td>50.0</td>\n      <td>NaN</td>\n      <td>NaN</td>\n      <td>NaN</td>\n      <td>49.950001</td>\n      <td>16.724717</td>\n      <td>1.694993e+09</td>\n      <td>50.0</td>\n      <td>NaN</td>\n      <td>NaN</td>\n      <td>NaN</td>\n      <td>50.0</td>\n    </tr>\n    <tr>\n      <th>2</th>\n      <td>NaN</td>\n      <td>2</td>\n      <td>NaN</td>\n      <td>NaN</td>\n      <td>NaN</td>\n      <td>NaN</td>\n      <td>NaN</td>\n      <td>16.726207</td>\n      <td>1.694993e+09</td>\n      <td>NaN</td>\n      <td>NaN</td>\n      <td>1.474298</td>\n      <td>NaN</td>\n      <td>NaN</td>\n    </tr>\n    <tr>\n      <th>3</th>\n      <td>NaN</td>\n      <td>3</td>\n      <td>NaN</td>\n      <td>NaN</td>\n      <td>NaN</td>\n      <td>NaN</td>\n      <td>NaN</td>\n      <td>16.764580</td>\n      <td>1.694993e+09</td>\n      <td>NaN</td>\n      <td>NaN</td>\n      <td>2.529776</td>\n      <td>NaN</td>\n      <td>NaN</td>\n    </tr>\n    <tr>\n      <th>4</th>\n      <td>NaN</td>\n      <td>4</td>\n      <td>NaN</td>\n      <td>NaN</td>\n      <td>NaN</td>\n      <td>NaN</td>\n      <td>NaN</td>\n      <td>16.807667</td>\n      <td>1.694993e+09</td>\n      <td>NaN</td>\n      <td>NaN</td>\n      <td>9.054437</td>\n      <td>NaN</td>\n      <td>NaN</td>\n    </tr>\n    <tr>\n      <th>...</th>\n      <td>...</td>\n      <td>...</td>\n      <td>...</td>\n      <td>...</td>\n      <td>...</td>\n      <td>...</td>\n      <td>...</td>\n      <td>...</td>\n      <td>...</td>\n      <td>...</td>\n      <td>...</td>\n      <td>...</td>\n      <td>...</td>\n      <td>...</td>\n    </tr>\n    <tr>\n      <th>2370</th>\n      <td>NaN</td>\n      <td>2370</td>\n      <td>NaN</td>\n      <td>NaN</td>\n      <td>NaN</td>\n      <td>NaN</td>\n      <td>NaN</td>\n      <td>2040.199616</td>\n      <td>1.694995e+09</td>\n      <td>NaN</td>\n      <td>NaN</td>\n      <td>0.743245</td>\n      <td>NaN</td>\n      <td>NaN</td>\n    </tr>\n    <tr>\n      <th>2371</th>\n      <td>NaN</td>\n      <td>2371</td>\n      <td>NaN</td>\n      <td>NaN</td>\n      <td>NaN</td>\n      <td>NaN</td>\n      <td>NaN</td>\n      <td>2040.250165</td>\n      <td>1.694995e+09</td>\n      <td>NaN</td>\n      <td>NaN</td>\n      <td>0.781047</td>\n      <td>NaN</td>\n      <td>NaN</td>\n    </tr>\n    <tr>\n      <th>2372</th>\n      <td>NaN</td>\n      <td>2372</td>\n      <td>NaN</td>\n      <td>NaN</td>\n      <td>NaN</td>\n      <td>NaN</td>\n      <td>NaN</td>\n      <td>2040.290174</td>\n      <td>1.694995e+09</td>\n      <td>NaN</td>\n      <td>NaN</td>\n      <td>0.766497</td>\n      <td>NaN</td>\n      <td>NaN</td>\n    </tr>\n    <tr>\n      <th>2373</th>\n      <td>NaN</td>\n      <td>2373</td>\n      <td>NaN</td>\n      <td>NaN</td>\n      <td>NaN</td>\n      <td>NaN</td>\n      <td>NaN</td>\n      <td>2040.329785</td>\n      <td>1.694995e+09</td>\n      <td>NaN</td>\n      <td>NaN</td>\n      <td>0.758231</td>\n      <td>NaN</td>\n      <td>NaN</td>\n    </tr>\n    <tr>\n      <th>2374</th>\n      <td>NaN</td>\n      <td>2374</td>\n      <td>NaN</td>\n      <td>NaN</td>\n      <td>NaN</td>\n      <td>NaN</td>\n      <td>NaN</td>\n      <td>2040.347422</td>\n      <td>1.694995e+09</td>\n      <td>NaN</td>\n      <td>NaN</td>\n      <td>1.114613</td>\n      <td>NaN</td>\n      <td>NaN</td>\n    </tr>\n  </tbody>\n</table>\n<p>2375 rows × 14 columns</p>\n</div>"
     },
     "execution_count": 8,
     "metadata": {},
     "output_type": "execute_result"
    }
   ],
   "source": [
    "curr_run"
   ],
   "metadata": {
    "collapsed": false
   }
  },
  {
   "cell_type": "code",
   "execution_count": 9,
   "outputs": [
    {
     "ename": "NameError",
     "evalue": "name 'dataset' is not defined",
     "output_type": "error",
     "traceback": [
      "\u001B[1;31m---------------------------------------------------------------------------\u001B[0m",
      "\u001B[1;31mNameError\u001B[0m                                 Traceback (most recent call last)",
      "Input \u001B[1;32mIn [9]\u001B[0m, in \u001B[0;36m<cell line: 1>\u001B[1;34m()\u001B[0m\n\u001B[1;32m----> 1\u001B[0m dfs[\u001B[43mdataset\u001B[49m]\n",
      "\u001B[1;31mNameError\u001B[0m: name 'dataset' is not defined"
     ]
    }
   ],
   "source": [
    "dfs[dataset]"
   ],
   "metadata": {
    "collapsed": false
   }
  },
  {
   "cell_type": "code",
   "execution_count": null,
   "outputs": [],
   "source": [
    "dfs_test[dataset]"
   ],
   "metadata": {
    "collapsed": false
   }
  },
  {
   "cell_type": "code",
   "execution_count": null,
   "outputs": [],
   "source": [
    "for dataset in list(dfs.keys()):\n",
    "    fig, ax = plt.subplots(2,1)\n",
    "    fig.set_figheight(10)\n",
    "    fig.set_figwidth(10)\n",
    "    dfs[dataset].plot(ax=ax[0], grid=True ,ylim=[0, 100],title=dataset)\n",
    "    plt.ylim([0,100])\n",
    "    dfs_test[dataset].plot(ax=ax[1], grid=True ,ylim=[0, 100])\n",
    "    plt.ylim([0,100])"
   ],
   "metadata": {
    "collapsed": false
   }
  },
  {
   "cell_type": "markdown",
   "source": [
    "None compare to stat-spectrum"
   ],
   "metadata": {
    "collapsed": false
   }
  },
  {
   "cell_type": "code",
   "execution_count": null,
   "outputs": [],
   "source": [
    "list(dfs.keys())"
   ],
   "metadata": {
    "collapsed": false
   }
  },
  {
   "cell_type": "code",
   "execution_count": null,
   "outputs": [],
   "source": [
    "dataset = 'stat-wmm'\n",
    "\n",
    "fig, ax = plt.subplots(2,1)\n",
    "fig.set_figheight(10)\n",
    "fig.set_figwidth(10)\n",
    "dfs[dataset].plot(ax=ax[0], grid=True, ylim=[70, 100], title=dataset)\n",
    "dfs[''].plot(ax=ax[1], grid=True, ylim=[70, 100], title='')"
   ],
   "metadata": {
    "collapsed": false
   }
  },
  {
   "cell_type": "markdown",
   "source": [
    "\n",
    "# MESS"
   ],
   "metadata": {
    "collapsed": false
   }
  },
  {
   "cell_type": "code",
   "execution_count": null,
   "metadata": {},
   "outputs": [],
   "source": [
    "# dfs = {}\n",
    "\n",
    "# for i in range(len(runs)):\n",
    "#     print(f\"{runs[i].name}\")\n",
    "#     dfs[i] = runs[i].history(samples=10000)\n",
    "#     print(len(dfs[i][cols].dropna().sort_values(by='_step').set_index('_step')))"
   ]
  },
  {
   "cell_type": "code",
   "execution_count": null,
   "metadata": {},
   "outputs": [],
   "source": [
    "dfs = {}\n",
    "\n",
    "for i in range(len(runs)):\n",
    "    print(f\"{runs[i].name}\")\n",
    "    if runs[i].name in noise_rehersal_runs:\n",
    "        dfs[i] = runs[i].history(samples=10000)\n",
    "        print(len(dfs[i][cols].dropna().sort_values(by='_step').set_index('_step')))"
   ]
  },
  {
   "cell_type": "code",
   "execution_count": null,
   "metadata": {},
   "outputs": [],
   "source": [
    "df = dfs[1]\n",
    "\n",
    "for i in range(len(acc_col)):\n",
    "    plt.plot(df[[acc_col[i],'_step']].dropna().sort_values(by='_step').set_index('_step'))\n",
    "\n",
    "plt.legend(acc_col)\n",
    "plt.show()"
   ]
  },
  {
   "cell_type": "code",
   "execution_count": null,
   "metadata": {},
   "outputs": [],
   "source": [
    "df_all_runs = pd.DataFrame()\n",
    "\n",
    "for i in dfs.keys():\n",
    "    df_all_runs = pd.concat([df_all_runs, dfs[i][acc_col].dropna()])\n",
    "\n",
    "df_all_runs.reset_index().groupby(\"index\").mean().plot()"
   ]
  },
  {
   "attachments": {},
   "cell_type": "markdown",
   "metadata": {},
   "source": [
    "# REHERSAL"
   ]
  },
  {
   "cell_type": "code",
   "execution_count": null,
   "metadata": {},
   "outputs": [],
   "source": [
    "runs = api.runs(\"qba/rehersal small net MNIST Task IL\")"
   ]
  },
  {
   "cell_type": "code",
   "execution_count": null,
   "metadata": {},
   "outputs": [],
   "source": [
    "noise_rehersal_runs = [\n",
    "'vibrant-sunset-34',\n",
    "'eager-smoke-33',\n",
    "'magic-glade-32'\n",
    "]\n",
    "\n",
    "acc_col = ['acc_task_0', 'acc_task_1', 'acc_task_2', 'acc_task_3', 'acc_task_4']\n",
    "cols = ['acc_task_0', 'acc_task_1', 'acc_task_2', 'acc_task_3', 'acc_task_4', '_step']"
   ]
  },
  {
   "cell_type": "code",
   "execution_count": null,
   "metadata": {},
   "outputs": [],
   "source": [
    "dfs_rehersal = {}\n",
    "\n",
    "for i in range(len(runs)):\n",
    "    print(f\"{runs[i].name}\")\n",
    "    if runs[i].name in noise_rehersal_runs:\n",
    "        dfs_rehersal[i] = runs[i].history(samples=10000)\n",
    "        print(len(dfs[i][cols].dropna().sort_values(by='_step').set_index('_step')))"
   ]
  },
  {
   "attachments": {},
   "cell_type": "markdown",
   "metadata": {},
   "source": [
    "# Single run"
   ]
  },
  {
   "cell_type": "code",
   "execution_count": null,
   "metadata": {},
   "outputs": [],
   "source": [
    "df = dfs_rehersal[1]\n",
    "\n",
    "for i in range(len(acc_col)):\n",
    "    plt.plot(df[[acc_col[i],'_step']].dropna().sort_values(by='_step').set_index('_step'))\n",
    "\n",
    "plt.legend(acc_col)\n",
    "plt.show()"
   ]
  },
  {
   "attachments": {},
   "cell_type": "markdown",
   "metadata": {},
   "source": [
    "# All runs mean"
   ]
  },
  {
   "cell_type": "code",
   "execution_count": null,
   "metadata": {},
   "outputs": [],
   "source": [
    "df_all_runs_rehersal = pd.DataFrame()\n",
    "\n",
    "for i in dfs_rehersal.keys():\n",
    "    df_all_runs_rehersal = pd.concat([df_all_runs_rehersal, dfs_rehersal[i][acc_col].dropna()])\n",
    "\n",
    "df_all_runs_rehersal.reset_index().groupby(\"index\").mean().plot()"
   ]
  },
  {
   "attachments": {},
   "cell_type": "markdown",
   "metadata": {},
   "source": [
    "# Comparison"
   ]
  },
  {
   "cell_type": "code",
   "execution_count": null,
   "metadata": {},
   "outputs": [],
   "source": [
    "plt.figure(figsize=(20,10))\n",
    "legend = []\n",
    "\n",
    "for task_num in range(5):\n",
    "    plt.plot(df_all_runs.reset_index().groupby(\"index\").mean()[acc_col[task_num]])\n",
    "    plt.plot(df_all_runs_rehersal.reset_index().groupby(\"index\").mean()[acc_col[task_num]])\n",
    "    legend.extend(([f\"no rehersal task {task_num}\", f\"rehersal task {task_num}\"]))\n",
    "    plt.title(f\"task {task_num}\")\n",
    "plt.legend(legend)\n",
    "plt.show()"
   ]
  },
  {
   "cell_type": "code",
   "execution_count": null,
   "metadata": {},
   "outputs": [],
   "source": [
    "for task_num in range(5):\n",
    "    plt.figure(figsize=(20,10))\n",
    "    plt.plot(df_all_runs.reset_index().groupby(\"index\").mean()[acc_col[task_num]])\n",
    "    plt.plot(df_all_runs_rehersal.reset_index().groupby(\"index\").mean()[acc_col[task_num]])\n",
    "    plt.legend([f\"no rehersal task {task_num}\", f\"rehersal task {task_num}\"])\n",
    "    plt.title(f\"task {task_num}\")\n",
    "    plt.show()"
   ]
  }
 ],
 "metadata": {
  "kernelspec": {
   "display_name": "my_env",
   "language": "python",
   "name": "python3"
  },
  "language_info": {
   "codemirror_mode": {
    "name": "ipython",
    "version": 3
   },
   "file_extension": ".py",
   "mimetype": "text/x-python",
   "name": "python",
   "nbconvert_exporter": "python",
   "pygments_lexer": "ipython3",
   "version": "3.8.16"
  },
  "orig_nbformat": 4
 },
 "nbformat": 4,
 "nbformat_minor": 2
}
