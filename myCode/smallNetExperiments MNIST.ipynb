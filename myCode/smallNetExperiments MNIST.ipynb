{
 "cells": [
  {
   "cell_type": "code",
   "execution_count": 1,
   "metadata": {},
   "outputs": [
    {
     "name": "stderr",
     "output_type": "stream",
     "text": [
      "c:\\Users\\QbaSo\\AppData\\Local\\Programs\\Python\\Python39\\lib\\site-packages\\requests\\__init__.py:102: RequestsDependencyWarning: urllib3 (1.26.9) or chardet (5.1.0)/charset_normalizer (2.0.12) doesn't match a supported version!\n",
      "  warnings.warn(\"urllib3 ({}) or chardet ({})/charset_normalizer ({}) doesn't match a supported \"\n"
     ]
    },
    {
     "data": {
      "text/plain": [
       "True"
      ]
     },
     "execution_count": 1,
     "metadata": {},
     "output_type": "execute_result"
    }
   ],
   "source": [
    "import torch\n",
    "from Nets import Net, NetNoise\n",
    "from functions import train, test\n",
    "from dataloaders import MNIST, MNIST_train_random_lebels, dead_leaves_squares_pretraining, ImageNetKaggle\n",
    "import numpy as np\n",
    "import torch.optim as optim\n",
    "import matplotlib.pyplot as plt\n",
    "\n",
    "torch.cuda.is_available()"
   ]
  },
  {
   "cell_type": "code",
   "execution_count": 2,
   "metadata": {},
   "outputs": [
    {
     "name": "stdout",
     "output_type": "stream",
     "text": [
      "-------------------------------------------------- pretraining --------------------------------------------------\n",
      "Epoch 1 [0 / 60000]       loss: 2.307539463043213\n",
      "Epoch 1 [6400 / 60000]       loss: 1.0011746883392334\n",
      "Epoch 1 [12800 / 60000]       loss: 0.5906047821044922\n",
      "Epoch 1 [19200 / 60000]       loss: 0.31852397322654724\n",
      "Epoch 1 [25600 / 60000]       loss: 0.27822962403297424\n",
      "Epoch 1 [32000 / 60000]       loss: 0.45530369877815247\n",
      "Epoch 1 [38400 / 60000]       loss: 0.36645498871803284\n",
      "Epoch 1 [44800 / 60000]       loss: 0.2383306473493576\n",
      "Epoch 1 [51200 / 60000]       loss: 0.3692533075809479\n",
      "Epoch 1 [57600 / 60000]       loss: 0.1583719104528427\n"
     ]
    },
    {
     "name": "stderr",
     "output_type": "stream",
     "text": [
      "c:\\Users\\QbaSo\\AppData\\Local\\Programs\\Python\\Python39\\lib\\site-packages\\torch\\nn\\_reduction.py:42: UserWarning: size_average and reduce args will be deprecated, please use reduction='sum' instead.\n",
      "  warnings.warn(warning.format(ret))\n"
     ]
    },
    {
     "name": "stdout",
     "output_type": "stream",
     "text": [
      "\n",
      "Test set: Avg. loss: 11.8451, Accuracy: 945/10000 (9%)\n",
      "\n",
      "-------------------------------------------------- training only last layer --------------------------------------------------\n",
      "Epoch 1 [0 / 60000]       loss: 12.262153625488281\n",
      "Epoch 1 [6400 / 60000]       loss: 0.3598383069038391\n",
      "Epoch 1 [12800 / 60000]       loss: 0.5985853672027588\n",
      "Epoch 1 [19200 / 60000]       loss: 0.29520383477211\n",
      "Epoch 1 [25600 / 60000]       loss: 0.21222689747810364\n",
      "Epoch 1 [32000 / 60000]       loss: 0.22639170289039612\n",
      "Epoch 1 [38400 / 60000]       loss: 0.2977801561355591\n",
      "Epoch 1 [44800 / 60000]       loss: 0.4869020879268646\n",
      "Epoch 1 [51200 / 60000]       loss: 0.30775582790374756\n",
      "Epoch 1 [57600 / 60000]       loss: 0.23543207347393036\n",
      "\n",
      "Test set: Avg. loss: 0.1398, Accuracy: 9532/10000 (95%)\n",
      "\n"
     ]
    },
    {
     "data": {
      "image/png": "[encoded data removed]",
      "text/plain": [
       "<Figure size 432x288 with 1 Axes>"
      ]
     },
     "metadata": {
      "needs_background": "light"
     },
     "output_type": "display_data"
    }
   ],
   "source": [
    "print('-'*50, 'pretraining', '-'*50)\n",
    "train_loader_random_lebels = MNIST_train_random_lebels()\n",
    "train_loader, test_loader = MNIST()\n",
    "\n",
    "model = Net()\n",
    "optimizer = optim.SGD(model.parameters(), lr=0.1)\n",
    "train_losses = train(model, optimizer, train_loader_random_lebels)\n",
    "plt.plot(train_losses)\n",
    "test(model, test_loader)\n",
    "\n",
    "print('-'*50, 'training only last layer', '-'*50)\n",
    "model.conv1.requires_grad_(False)\n",
    "model.conv2.requires_grad_(False)\n",
    "model.conv2_drop.requires_grad_(False)\n",
    "model.fc1.requires_grad_(False)\n",
    "\n",
    "train_losses = train(model, optimizer, train_loader)\n",
    "plt.plot(train_losses)\n",
    "test(model, test_loader)"
   ]
  },
  {
   "cell_type": "code",
   "execution_count": 2,
   "metadata": {},
   "outputs": [
    {
     "name": "stdout",
     "output_type": "stream",
     "text": [
      "-------------------------------------------------- pretraining --------------------------------------------------\n",
      "Loading data from data/dead_leaves-squares/ as imagefolder\n",
      "Epoch 1 [0 / 105000]       loss: 4.659185886383057\n",
      "Epoch 1 [12800 / 105000]       loss: 4.651777744293213\n"
     ]
    },
    {
     "ename": "KeyboardInterrupt",
     "evalue": "",
     "output_type": "error",
     "traceback": [
      "\u001b[1;31m---------------------------------------------------------------------------\u001b[0m",
      "\u001b[1;31mKeyboardInterrupt\u001b[0m                         Traceback (most recent call last)",
      "\u001b[1;32mc:\\Users\\QbaSo\\Desktop\\praca magisterska\\myCode\\smallNetExperiments.ipynb Cell 3\u001b[0m in \u001b[0;36m<cell line: 7>\u001b[1;34m()\u001b[0m\n\u001b[0;32m      <a href='vscode-notebook-cell:/c%3A/Users/QbaSo/Desktop/praca%20magisterska/myCode/smallNetExperiments.ipynb#X16sZmlsZQ%3D%3D?line=4'>5</a>\u001b[0m model \u001b[39m=\u001b[39m NetNoise()\n\u001b[0;32m      <a href='vscode-notebook-cell:/c%3A/Users/QbaSo/Desktop/praca%20magisterska/myCode/smallNetExperiments.ipynb#X16sZmlsZQ%3D%3D?line=5'>6</a>\u001b[0m optimizer \u001b[39m=\u001b[39m optim\u001b[39m.\u001b[39mSGD(model\u001b[39m.\u001b[39mparameters(), lr\u001b[39m=\u001b[39m\u001b[39m0.1\u001b[39m)\n\u001b[1;32m----> <a href='vscode-notebook-cell:/c%3A/Users/QbaSo/Desktop/praca%20magisterska/myCode/smallNetExperiments.ipynb#X16sZmlsZQ%3D%3D?line=6'>7</a>\u001b[0m train_losses \u001b[39m=\u001b[39m train(model, optimizer, train_loader_random_lebels)\n\u001b[0;32m      <a href='vscode-notebook-cell:/c%3A/Users/QbaSo/Desktop/praca%20magisterska/myCode/smallNetExperiments.ipynb#X16sZmlsZQ%3D%3D?line=7'>8</a>\u001b[0m plt\u001b[39m.\u001b[39mplot(train_losses)\n\u001b[0;32m      <a href='vscode-notebook-cell:/c%3A/Users/QbaSo/Desktop/praca%20magisterska/myCode/smallNetExperiments.ipynb#X16sZmlsZQ%3D%3D?line=8'>9</a>\u001b[0m test(model, test_loader)\n",
      "File \u001b[1;32mc:\\Users\\QbaSo\\Desktop\\praca magisterska\\myCode\\functions.py:25\u001b[0m, in \u001b[0;36mtrain\u001b[1;34m(model, optimizer, train_loader, epoch, log_interval)\u001b[0m\n\u001b[0;32m     23\u001b[0m output \u001b[39m=\u001b[39m model(data)\n\u001b[0;32m     24\u001b[0m loss \u001b[39m=\u001b[39m F\u001b[39m.\u001b[39mcross_entropy(output, target)\n\u001b[1;32m---> 25\u001b[0m loss\u001b[39m.\u001b[39;49mbackward()\n\u001b[0;32m     26\u001b[0m optimizer\u001b[39m.\u001b[39mstep()\n\u001b[0;32m     27\u001b[0m \u001b[39mif\u001b[39;00m batch_idx \u001b[39m%\u001b[39m log_interval \u001b[39m==\u001b[39m \u001b[39m0\u001b[39m:\n",
      "File \u001b[1;32mc:\\Users\\QbaSo\\AppData\\Local\\Programs\\Python\\Python39\\lib\\site-packages\\torch\\_tensor.py:487\u001b[0m, in \u001b[0;36mTensor.backward\u001b[1;34m(self, gradient, retain_graph, create_graph, inputs)\u001b[0m\n\u001b[0;32m    477\u001b[0m \u001b[39mif\u001b[39;00m has_torch_function_unary(\u001b[39mself\u001b[39m):\n\u001b[0;32m    478\u001b[0m     \u001b[39mreturn\u001b[39;00m handle_torch_function(\n\u001b[0;32m    479\u001b[0m         Tensor\u001b[39m.\u001b[39mbackward,\n\u001b[0;32m    480\u001b[0m         (\u001b[39mself\u001b[39m,),\n\u001b[1;32m   (...)\u001b[0m\n\u001b[0;32m    485\u001b[0m         inputs\u001b[39m=\u001b[39minputs,\n\u001b[0;32m    486\u001b[0m     )\n\u001b[1;32m--> 487\u001b[0m torch\u001b[39m.\u001b[39;49mautograd\u001b[39m.\u001b[39;49mbackward(\n\u001b[0;32m    488\u001b[0m     \u001b[39mself\u001b[39;49m, gradient, retain_graph, create_graph, inputs\u001b[39m=\u001b[39;49minputs\n\u001b[0;32m    489\u001b[0m )\n",
      "File \u001b[1;32mc:\\Users\\QbaSo\\AppData\\Local\\Programs\\Python\\Python39\\lib\\site-packages\\torch\\autograd\\__init__.py:197\u001b[0m, in \u001b[0;36mbackward\u001b[1;34m(tensors, grad_tensors, retain_graph, create_graph, grad_variables, inputs)\u001b[0m\n\u001b[0;32m    192\u001b[0m     retain_graph \u001b[39m=\u001b[39m create_graph\n\u001b[0;32m    194\u001b[0m \u001b[39m# The reason we repeat same the comment below is that\u001b[39;00m\n\u001b[0;32m    195\u001b[0m \u001b[39m# some Python versions print out the first line of a multi-line function\u001b[39;00m\n\u001b[0;32m    196\u001b[0m \u001b[39m# calls in the traceback and some print out the last line\u001b[39;00m\n\u001b[1;32m--> 197\u001b[0m Variable\u001b[39m.\u001b[39;49m_execution_engine\u001b[39m.\u001b[39;49mrun_backward(  \u001b[39m# Calls into the C++ engine to run the backward pass\u001b[39;49;00m\n\u001b[0;32m    198\u001b[0m     tensors, grad_tensors_, retain_graph, create_graph, inputs,\n\u001b[0;32m    199\u001b[0m     allow_unreachable\u001b[39m=\u001b[39;49m\u001b[39mTrue\u001b[39;49;00m, accumulate_grad\u001b[39m=\u001b[39;49m\u001b[39mTrue\u001b[39;49;00m)\n",
      "\u001b[1;31mKeyboardInterrupt\u001b[0m: "
     ]
    }
   ],
   "source": [
    "print('-'*50, 'pretraining', '-'*50)\n",
    "train_loader_random_lebels = dead_leaves_squares_pretraining()\n",
    "# train_loader, test_loader = MNIST() Imagnet100\n",
    "\n",
    "model = NetNoise()\n",
    "optimizer = optim.SGD(model.parameters(), lr=0.1)\n",
    "train_losses = train(model, optimizer, train_loader_random_lebels)\n",
    "plt.plot(train_losses)\n",
    "test(model, test_loader)\n",
    "\n",
    "print('-'*50, 'training only last layer', '-'*50)\n",
    "\n",
    "\n",
    "train_losses = train(model, optimizer, train_loader)\n",
    "plt.plot(train_losses)\n",
    "test(model, test_loader)"
   ]
  }
 ],
 "metadata": {
  "kernelspec": {
   "display_name": "Python 3",
   "language": "python",
   "name": "python3"
  },
  "language_info": {
   "codemirror_mode": {
    "name": "ipython",
    "version": 3
   },
   "file_extension": ".py",
   "mimetype": "text/x-python",
   "name": "python",
   "nbconvert_exporter": "python",
   "pygments_lexer": "ipython3",
   "version": "3.9.10"
  },
  "orig_nbformat": 4,
  "vscode": {
   "interpreter": {
    "hash": "4249f8e087ad731f5e338836e2eb79540285f90ed1dfcc5ccaf8d5c2082bb200"
   }
  }
 },
 "nbformat": 4,
 "nbformat_minor": 2
}
