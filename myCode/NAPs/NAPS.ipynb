{
 "cells": [
  {
   "cell_type": "code",
   "execution_count": 11,
   "metadata": {
    "collapsed": true
   },
   "outputs": [],
   "source": [
    "import torch\n",
    "import torchvision\n",
    "from torchvision.models.feature_extraction import get_graph_node_names\n",
    "\n",
    "import os\n",
    "os.chdir(\"../\")\n",
    "from classification_models.models.resnet import ResNet18"
   ]
  },
  {
   "cell_type": "code",
   "execution_count": 13,
   "outputs": [
    {
     "ename": "AttributeError",
     "evalue": "'NoneType' object has no attribute 'Input'",
     "output_type": "error",
     "traceback": [
      "\u001B[1;31m---------------------------------------------------------------------------\u001B[0m",
      "\u001B[1;31mAttributeError\u001B[0m                            Traceback (most recent call last)",
      "Input \u001B[1;32mIn [13]\u001B[0m, in \u001B[0;36m<cell line: 1>\u001B[1;34m()\u001B[0m\n\u001B[1;32m----> 1\u001B[0m model \u001B[38;5;241m=\u001B[39m \u001B[43mResNet18\u001B[49m\u001B[43m(\u001B[49m\u001B[43m(\u001B[49m\u001B[38;5;241;43m200\u001B[39;49m\u001B[43m,\u001B[49m\u001B[38;5;241;43m200\u001B[39;49m\u001B[43m)\u001B[49m\u001B[43m)\u001B[49m\n",
      "File \u001B[1;32m~\\AppData\\Local\\Programs\\Python\\Python39\\lib\\site-packages\\classification_models\\models\\resnet.py:302\u001B[0m, in \u001B[0;36mResNet18\u001B[1;34m(input_shape, input_tensor, weights, classes, include_top, **kwargs)\u001B[0m\n\u001B[0;32m    301\u001B[0m \u001B[38;5;28;01mdef\u001B[39;00m \u001B[38;5;21mResNet18\u001B[39m(input_shape\u001B[38;5;241m=\u001B[39m\u001B[38;5;28;01mNone\u001B[39;00m, input_tensor\u001B[38;5;241m=\u001B[39m\u001B[38;5;28;01mNone\u001B[39;00m, weights\u001B[38;5;241m=\u001B[39m\u001B[38;5;28;01mNone\u001B[39;00m, classes\u001B[38;5;241m=\u001B[39m\u001B[38;5;241m1000\u001B[39m, include_top\u001B[38;5;241m=\u001B[39m\u001B[38;5;28;01mTrue\u001B[39;00m, \u001B[38;5;241m*\u001B[39m\u001B[38;5;241m*\u001B[39mkwargs):\n\u001B[1;32m--> 302\u001B[0m     \u001B[38;5;28;01mreturn\u001B[39;00m ResNet(\n\u001B[0;32m    303\u001B[0m         MODELS_PARAMS[\u001B[38;5;124m'\u001B[39m\u001B[38;5;124mresnet18\u001B[39m\u001B[38;5;124m'\u001B[39m],\n\u001B[0;32m    304\u001B[0m         input_shape\u001B[38;5;241m=\u001B[39minput_shape,\n\u001B[0;32m    305\u001B[0m         input_tensor\u001B[38;5;241m=\u001B[39minput_tensor,\n\u001B[0;32m    306\u001B[0m         include_top\u001B[38;5;241m=\u001B[39minclude_top,\n\u001B[0;32m    307\u001B[0m         classes\u001B[38;5;241m=\u001B[39mclasses,\n\u001B[0;32m    308\u001B[0m         weights\u001B[38;5;241m=\u001B[39mweights,\n\u001B[0;32m    309\u001B[0m         \u001B[38;5;241m*\u001B[39m\u001B[38;5;241m*\u001B[39mkwargs\n\u001B[0;32m    310\u001B[0m     )\n",
      "File \u001B[1;32m~\\AppData\\Local\\Programs\\Python\\Python39\\lib\\site-packages\\classification_models\\models\\resnet.py:210\u001B[0m, in \u001B[0;36mResNet\u001B[1;34m(model_params, input_shape, input_tensor, include_top, classes, weights, **kwargs)\u001B[0m\n\u001B[0;32m    207\u001B[0m backend, layers, models, keras_utils \u001B[38;5;241m=\u001B[39m get_submodules_from_kwargs(kwargs)\n\u001B[0;32m    209\u001B[0m \u001B[38;5;28;01mif\u001B[39;00m input_tensor \u001B[38;5;129;01mis\u001B[39;00m \u001B[38;5;28;01mNone\u001B[39;00m:\n\u001B[1;32m--> 210\u001B[0m     img_input \u001B[38;5;241m=\u001B[39m \u001B[43mlayers\u001B[49m\u001B[38;5;241;43m.\u001B[39;49m\u001B[43mInput\u001B[49m(shape\u001B[38;5;241m=\u001B[39minput_shape, name\u001B[38;5;241m=\u001B[39m\u001B[38;5;124m'\u001B[39m\u001B[38;5;124mdata\u001B[39m\u001B[38;5;124m'\u001B[39m)\n\u001B[0;32m    211\u001B[0m \u001B[38;5;28;01melse\u001B[39;00m:\n\u001B[0;32m    212\u001B[0m     \u001B[38;5;28;01mif\u001B[39;00m \u001B[38;5;129;01mnot\u001B[39;00m backend\u001B[38;5;241m.\u001B[39mis_keras_tensor(input_tensor):\n",
      "\u001B[1;31mAttributeError\u001B[0m: 'NoneType' object has no attribute 'Input'"
     ]
    }
   ],
   "source": [
    "model = ResNet18((200,200))"
   ],
   "metadata": {
    "collapsed": false
   }
  },
  {
   "cell_type": "code",
   "execution_count": 9,
   "outputs": [
    {
     "ename": "AttributeError",
     "evalue": "'function' object has no attribute 'training'",
     "output_type": "error",
     "traceback": [
      "\u001B[1;31m---------------------------------------------------------------------------\u001B[0m",
      "\u001B[1;31mAttributeError\u001B[0m                            Traceback (most recent call last)",
      "Input \u001B[1;32mIn [9]\u001B[0m, in \u001B[0;36m<cell line: 1>\u001B[1;34m()\u001B[0m\n\u001B[1;32m----> 1\u001B[0m \u001B[43mget_graph_node_names\u001B[49m\u001B[43m(\u001B[49m\u001B[43mmodel\u001B[49m\u001B[43m)\u001B[49m\n",
      "File \u001B[1;32m~\\AppData\\Local\\Programs\\Python\\Python39\\lib\\site-packages\\torchvision\\models\\feature_extraction.py:250\u001B[0m, in \u001B[0;36mget_graph_node_names\u001B[1;34m(model, tracer_kwargs, suppress_diff_warning)\u001B[0m\n\u001B[0;32m    208\u001B[0m \u001B[38;5;250m\u001B[39m\u001B[38;5;124;03m\"\"\"\u001B[39;00m\n\u001B[0;32m    209\u001B[0m \u001B[38;5;124;03mDev utility to return node names in order of execution. See note on node\u001B[39;00m\n\u001B[0;32m    210\u001B[0m \u001B[38;5;124;03mnames under :func:`create_feature_extractor`. Useful for seeing which node\u001B[39;00m\n\u001B[1;32m   (...)\u001B[0m\n\u001B[0;32m    247\u001B[0m \u001B[38;5;124;03m    >>> train_nodes, eval_nodes = get_graph_node_names(model)\u001B[39;00m\n\u001B[0;32m    248\u001B[0m \u001B[38;5;124;03m\"\"\"\u001B[39;00m\n\u001B[0;32m    249\u001B[0m tracer_kwargs \u001B[38;5;241m=\u001B[39m _set_default_tracer_kwargs(tracer_kwargs)\n\u001B[1;32m--> 250\u001B[0m is_training \u001B[38;5;241m=\u001B[39m \u001B[43mmodel\u001B[49m\u001B[38;5;241;43m.\u001B[39;49m\u001B[43mtraining\u001B[49m\n\u001B[0;32m    251\u001B[0m train_tracer \u001B[38;5;241m=\u001B[39m NodePathTracer(\u001B[38;5;241m*\u001B[39m\u001B[38;5;241m*\u001B[39mtracer_kwargs)\n\u001B[0;32m    252\u001B[0m train_tracer\u001B[38;5;241m.\u001B[39mtrace(model\u001B[38;5;241m.\u001B[39mtrain())\n",
      "\u001B[1;31mAttributeError\u001B[0m: 'function' object has no attribute 'training'"
     ]
    }
   ],
   "source": [
    "get_graph_node_names(model)"
   ],
   "metadata": {
    "collapsed": false
   }
  }
 ],
 "metadata": {
  "kernelspec": {
   "display_name": "Python 3",
   "language": "python",
   "name": "python3"
  },
  "language_info": {
   "codemirror_mode": {
    "name": "ipython",
    "version": 2
   },
   "file_extension": ".py",
   "mimetype": "text/x-python",
   "name": "python",
   "nbconvert_exporter": "python",
   "pygments_lexer": "ipython2",
   "version": "2.7.6"
  }
 },
 "nbformat": 4,
 "nbformat_minor": 0
}
