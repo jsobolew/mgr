{
 "cells": [
  {
   "cell_type": "code",
   "execution_count": 19,
   "metadata": {
    "collapsed": true
   },
   "outputs": [
    {
     "ename": "ImportError",
     "evalue": "cannot import name 'ResNet18' from 'torchvision.models' (C:\\Users\\QbaSo\\AppData\\Local\\Programs\\Python\\Python39\\lib\\site-packages\\torchvision\\models\\__init__.py)",
     "output_type": "error",
     "traceback": [
      "\u001B[1;31m---------------------------------------------------------------------------\u001B[0m",
      "\u001B[1;31mImportError\u001B[0m                               Traceback (most recent call last)",
      "Input \u001B[1;32mIn [19]\u001B[0m, in \u001B[0;36m<cell line: 8>\u001B[1;34m()\u001B[0m\n\u001B[0;32m      6\u001B[0m \u001B[38;5;28;01mimport\u001B[39;00m \u001B[38;5;21;01mos\u001B[39;00m\n\u001B[0;32m      7\u001B[0m os\u001B[38;5;241m.\u001B[39mchdir(\u001B[38;5;124m\"\u001B[39m\u001B[38;5;124m../\u001B[39m\u001B[38;5;124m\"\u001B[39m)\n\u001B[1;32m----> 8\u001B[0m \u001B[38;5;28;01mfrom\u001B[39;00m \u001B[38;5;21;01mtorchvision\u001B[39;00m\u001B[38;5;21;01m.\u001B[39;00m\u001B[38;5;21;01mmodels\u001B[39;00m \u001B[38;5;28;01mimport\u001B[39;00m ResNet18\n",
      "\u001B[1;31mImportError\u001B[0m: cannot import name 'ResNet18' from 'torchvision.models' (C:\\Users\\QbaSo\\AppData\\Local\\Programs\\Python\\Python39\\lib\\site-packages\\torchvision\\models\\__init__.py)"
     ]
    }
   ],
   "source": [
    "import classification_models.models.resnet\n",
    "import torch\n",
    "import torchvision\n",
    "from torchvision.models.feature_extraction import get_graph_node_names\n",
    "\n",
    "import os\n",
    "os.chdir(\"../\")"
   ]
  },
  {
   "cell_type": "code",
   "execution_count": 20,
   "outputs": [
    {
     "name": "stderr",
     "output_type": "stream",
     "text": [
      "Using cache found in C:\\Users\\QbaSo/.cache\\torch\\hub\\pytorch_vision_v0.10.0\n",
      "C:\\Users\\QbaSo\\AppData\\Local\\Programs\\Python\\Python39\\lib\\site-packages\\torchvision\\models\\_utils.py:208: UserWarning: The parameter 'pretrained' is deprecated since 0.13 and may be removed in the future, please use 'weights' instead.\n",
      "  warnings.warn(\n",
      "C:\\Users\\QbaSo\\AppData\\Local\\Programs\\Python\\Python39\\lib\\site-packages\\torchvision\\models\\_utils.py:223: UserWarning: Arguments other than a weight enum or `None` for 'weights' are deprecated since 0.13 and may be removed in the future. The current behavior is equivalent to passing `weights=ResNet18_Weights.IMAGENET1K_V1`. You can also use `weights=ResNet18_Weights.DEFAULT` to get the most up-to-date weights.\n",
      "  warnings.warn(msg)\n"
     ]
    }
   ],
   "source": [
    "model = torch.hub.load('pytorch/vision:v0.10.0', 'resnet18', pretrained=True)"
   ],
   "metadata": {
    "collapsed": false
   }
  },
  {
   "cell_type": "code",
   "execution_count": 22,
   "outputs": [
    {
     "data": {
      "text/plain": "ResNet(\n  (conv1): Conv2d(3, 64, kernel_size=(7, 7), stride=(2, 2), padding=(3, 3), bias=False)\n  (bn1): BatchNorm2d(64, eps=1e-05, momentum=0.1, affine=True, track_running_stats=True)\n  (relu): ReLU(inplace=True)\n  (maxpool): MaxPool2d(kernel_size=3, stride=2, padding=1, dilation=1, ceil_mode=False)\n  (layer1): Sequential(\n    (0): BasicBlock(\n      (conv1): Conv2d(64, 64, kernel_size=(3, 3), stride=(1, 1), padding=(1, 1), bias=False)\n      (bn1): BatchNorm2d(64, eps=1e-05, momentum=0.1, affine=True, track_running_stats=True)\n      (relu): ReLU(inplace=True)\n      (conv2): Conv2d(64, 64, kernel_size=(3, 3), stride=(1, 1), padding=(1, 1), bias=False)\n      (bn2): BatchNorm2d(64, eps=1e-05, momentum=0.1, affine=True, track_running_stats=True)\n    )\n    (1): BasicBlock(\n      (conv1): Conv2d(64, 64, kernel_size=(3, 3), stride=(1, 1), padding=(1, 1), bias=False)\n      (bn1): BatchNorm2d(64, eps=1e-05, momentum=0.1, affine=True, track_running_stats=True)\n      (relu): ReLU(inplace=True)\n      (conv2): Conv2d(64, 64, kernel_size=(3, 3), stride=(1, 1), padding=(1, 1), bias=False)\n      (bn2): BatchNorm2d(64, eps=1e-05, momentum=0.1, affine=True, track_running_stats=True)\n    )\n  )\n  (layer2): Sequential(\n    (0): BasicBlock(\n      (conv1): Conv2d(64, 128, kernel_size=(3, 3), stride=(2, 2), padding=(1, 1), bias=False)\n      (bn1): BatchNorm2d(128, eps=1e-05, momentum=0.1, affine=True, track_running_stats=True)\n      (relu): ReLU(inplace=True)\n      (conv2): Conv2d(128, 128, kernel_size=(3, 3), stride=(1, 1), padding=(1, 1), bias=False)\n      (bn2): BatchNorm2d(128, eps=1e-05, momentum=0.1, affine=True, track_running_stats=True)\n      (downsample): Sequential(\n        (0): Conv2d(64, 128, kernel_size=(1, 1), stride=(2, 2), bias=False)\n        (1): BatchNorm2d(128, eps=1e-05, momentum=0.1, affine=True, track_running_stats=True)\n      )\n    )\n    (1): BasicBlock(\n      (conv1): Conv2d(128, 128, kernel_size=(3, 3), stride=(1, 1), padding=(1, 1), bias=False)\n      (bn1): BatchNorm2d(128, eps=1e-05, momentum=0.1, affine=True, track_running_stats=True)\n      (relu): ReLU(inplace=True)\n      (conv2): Conv2d(128, 128, kernel_size=(3, 3), stride=(1, 1), padding=(1, 1), bias=False)\n      (bn2): BatchNorm2d(128, eps=1e-05, momentum=0.1, affine=True, track_running_stats=True)\n    )\n  )\n  (layer3): Sequential(\n    (0): BasicBlock(\n      (conv1): Conv2d(128, 256, kernel_size=(3, 3), stride=(2, 2), padding=(1, 1), bias=False)\n      (bn1): BatchNorm2d(256, eps=1e-05, momentum=0.1, affine=True, track_running_stats=True)\n      (relu): ReLU(inplace=True)\n      (conv2): Conv2d(256, 256, kernel_size=(3, 3), stride=(1, 1), padding=(1, 1), bias=False)\n      (bn2): BatchNorm2d(256, eps=1e-05, momentum=0.1, affine=True, track_running_stats=True)\n      (downsample): Sequential(\n        (0): Conv2d(128, 256, kernel_size=(1, 1), stride=(2, 2), bias=False)\n        (1): BatchNorm2d(256, eps=1e-05, momentum=0.1, affine=True, track_running_stats=True)\n      )\n    )\n    (1): BasicBlock(\n      (conv1): Conv2d(256, 256, kernel_size=(3, 3), stride=(1, 1), padding=(1, 1), bias=False)\n      (bn1): BatchNorm2d(256, eps=1e-05, momentum=0.1, affine=True, track_running_stats=True)\n      (relu): ReLU(inplace=True)\n      (conv2): Conv2d(256, 256, kernel_size=(3, 3), stride=(1, 1), padding=(1, 1), bias=False)\n      (bn2): BatchNorm2d(256, eps=1e-05, momentum=0.1, affine=True, track_running_stats=True)\n    )\n  )\n  (layer4): Sequential(\n    (0): BasicBlock(\n      (conv1): Conv2d(256, 512, kernel_size=(3, 3), stride=(2, 2), padding=(1, 1), bias=False)\n      (bn1): BatchNorm2d(512, eps=1e-05, momentum=0.1, affine=True, track_running_stats=True)\n      (relu): ReLU(inplace=True)\n      (conv2): Conv2d(512, 512, kernel_size=(3, 3), stride=(1, 1), padding=(1, 1), bias=False)\n      (bn2): BatchNorm2d(512, eps=1e-05, momentum=0.1, affine=True, track_running_stats=True)\n      (downsample): Sequential(\n        (0): Conv2d(256, 512, kernel_size=(1, 1), stride=(2, 2), bias=False)\n        (1): BatchNorm2d(512, eps=1e-05, momentum=0.1, affine=True, track_running_stats=True)\n      )\n    )\n    (1): BasicBlock(\n      (conv1): Conv2d(512, 512, kernel_size=(3, 3), stride=(1, 1), padding=(1, 1), bias=False)\n      (bn1): BatchNorm2d(512, eps=1e-05, momentum=0.1, affine=True, track_running_stats=True)\n      (relu): ReLU(inplace=True)\n      (conv2): Conv2d(512, 512, kernel_size=(3, 3), stride=(1, 1), padding=(1, 1), bias=False)\n      (bn2): BatchNorm2d(512, eps=1e-05, momentum=0.1, affine=True, track_running_stats=True)\n    )\n  )\n  (avgpool): AdaptiveAvgPool2d(output_size=(1, 1))\n  (fc): Linear(in_features=512, out_features=1000, bias=True)\n)"
     },
     "execution_count": 22,
     "metadata": {},
     "output_type": "execute_result"
    }
   ],
   "source": [
    "model"
   ],
   "metadata": {
    "collapsed": false
   }
  },
  {
   "cell_type": "code",
   "execution_count": 21,
   "outputs": [
    {
     "data": {
      "text/plain": "(['x',\n  'conv1',\n  'bn1',\n  'relu',\n  'maxpool',\n  'layer1.0.conv1',\n  'layer1.0.bn1',\n  'layer1.0.relu',\n  'layer1.0.conv2',\n  'layer1.0.bn2',\n  'layer1.0.add',\n  'layer1.0.relu_1',\n  'layer1.1.conv1',\n  'layer1.1.bn1',\n  'layer1.1.relu',\n  'layer1.1.conv2',\n  'layer1.1.bn2',\n  'layer1.1.add',\n  'layer1.1.relu_1',\n  'layer2.0.conv1',\n  'layer2.0.bn1',\n  'layer2.0.relu',\n  'layer2.0.conv2',\n  'layer2.0.bn2',\n  'layer2.0.downsample.0',\n  'layer2.0.downsample.1',\n  'layer2.0.add',\n  'layer2.0.relu_1',\n  'layer2.1.conv1',\n  'layer2.1.bn1',\n  'layer2.1.relu',\n  'layer2.1.conv2',\n  'layer2.1.bn2',\n  'layer2.1.add',\n  'layer2.1.relu_1',\n  'layer3.0.conv1',\n  'layer3.0.bn1',\n  'layer3.0.relu',\n  'layer3.0.conv2',\n  'layer3.0.bn2',\n  'layer3.0.downsample.0',\n  'layer3.0.downsample.1',\n  'layer3.0.add',\n  'layer3.0.relu_1',\n  'layer3.1.conv1',\n  'layer3.1.bn1',\n  'layer3.1.relu',\n  'layer3.1.conv2',\n  'layer3.1.bn2',\n  'layer3.1.add',\n  'layer3.1.relu_1',\n  'layer4.0.conv1',\n  'layer4.0.bn1',\n  'layer4.0.relu',\n  'layer4.0.conv2',\n  'layer4.0.bn2',\n  'layer4.0.downsample.0',\n  'layer4.0.downsample.1',\n  'layer4.0.add',\n  'layer4.0.relu_1',\n  'layer4.1.conv1',\n  'layer4.1.bn1',\n  'layer4.1.relu',\n  'layer4.1.conv2',\n  'layer4.1.bn2',\n  'layer4.1.add',\n  'layer4.1.relu_1',\n  'avgpool',\n  'flatten',\n  'fc'],\n ['x',\n  'conv1',\n  'bn1',\n  'relu',\n  'maxpool',\n  'layer1.0.conv1',\n  'layer1.0.bn1',\n  'layer1.0.relu',\n  'layer1.0.conv2',\n  'layer1.0.bn2',\n  'layer1.0.add',\n  'layer1.0.relu_1',\n  'layer1.1.conv1',\n  'layer1.1.bn1',\n  'layer1.1.relu',\n  'layer1.1.conv2',\n  'layer1.1.bn2',\n  'layer1.1.add',\n  'layer1.1.relu_1',\n  'layer2.0.conv1',\n  'layer2.0.bn1',\n  'layer2.0.relu',\n  'layer2.0.conv2',\n  'layer2.0.bn2',\n  'layer2.0.downsample.0',\n  'layer2.0.downsample.1',\n  'layer2.0.add',\n  'layer2.0.relu_1',\n  'layer2.1.conv1',\n  'layer2.1.bn1',\n  'layer2.1.relu',\n  'layer2.1.conv2',\n  'layer2.1.bn2',\n  'layer2.1.add',\n  'layer2.1.relu_1',\n  'layer3.0.conv1',\n  'layer3.0.bn1',\n  'layer3.0.relu',\n  'layer3.0.conv2',\n  'layer3.0.bn2',\n  'layer3.0.downsample.0',\n  'layer3.0.downsample.1',\n  'layer3.0.add',\n  'layer3.0.relu_1',\n  'layer3.1.conv1',\n  'layer3.1.bn1',\n  'layer3.1.relu',\n  'layer3.1.conv2',\n  'layer3.1.bn2',\n  'layer3.1.add',\n  'layer3.1.relu_1',\n  'layer4.0.conv1',\n  'layer4.0.bn1',\n  'layer4.0.relu',\n  'layer4.0.conv2',\n  'layer4.0.bn2',\n  'layer4.0.downsample.0',\n  'layer4.0.downsample.1',\n  'layer4.0.add',\n  'layer4.0.relu_1',\n  'layer4.1.conv1',\n  'layer4.1.bn1',\n  'layer4.1.relu',\n  'layer4.1.conv2',\n  'layer4.1.bn2',\n  'layer4.1.add',\n  'layer4.1.relu_1',\n  'avgpool',\n  'flatten',\n  'fc'])"
     },
     "execution_count": 21,
     "metadata": {},
     "output_type": "execute_result"
    }
   ],
   "source": [
    "get_graph_node_names(model)"
   ],
   "metadata": {
    "collapsed": false
   }
  }
 ],
 "metadata": {
  "kernelspec": {
   "display_name": "Python 3",
   "language": "python",
   "name": "python3"
  },
  "language_info": {
   "codemirror_mode": {
    "name": "ipython",
    "version": 2
   },
   "file_extension": ".py",
   "mimetype": "text/x-python",
   "name": "python",
   "nbconvert_exporter": "python",
   "pygments_lexer": "ipython2",
   "version": "2.7.6"
  }
 },
 "nbformat": 4,
 "nbformat_minor": 0
}
