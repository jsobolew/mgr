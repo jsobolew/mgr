{
 "cells": [
  {
   "cell_type": "code",
   "execution_count": 2,
   "metadata": {},
   "outputs": [],
   "source": [
    "import os\n",
    "import zipfile\n",
    "import wget"
   ]
  },
  {
   "cell_type": "code",
   "execution_count": 6,
   "metadata": {},
   "outputs": [],
   "source": [
    "# datasets = ['dead_leaves-squares']\n",
    "datasets =  ['dead_leaves-oriented' ,\n",
    "          'dead_leaves-mixed' ,\n",
    "          'dead_leaves-textures' ,\n",
    "\n",
    "          'stat-spectrum' ,\n",
    "          'stat-wmm' ,\n",
    "          'stat-spectrum_color' ,\n",
    "          'stat-spectrum_color_wmm' ,\n",
    "\n",
    "          'stylegan-random' ,\n",
    "          'stylegan-highfreq' ,\n",
    "          'stylegan-sparse' ,\n",
    "          'stylegan-oriented' ,\n",
    "\n",
    "          'feature_vis-random' ,\n",
    "          'feature_vis-dead_leaves']"
   ]
  },
  {
   "cell_type": "code",
   "execution_count": 8,
   "metadata": {},
   "outputs": [],
   "source": [
    "for i in range(len(datasets)):\n",
    "    dataset = datasets[i]\n",
    "    url = f\"http://data.csail.mit.edu/noiselearning/zipped_data/small_scale/{dataset}.zip\"\n",
    "\n",
    "\n",
    "    wget.download(url)\n",
    "\n",
    "    with zipfile.ZipFile(dataset+'.zip', 'r') as zip_ref:\n",
    "        zip_ref.extractall(dataset)\n",
    "    os.remove(dataset+'.zip')"
   ]
  }
 ],
 "metadata": {
  "kernelspec": {
   "display_name": "Python 3",
   "language": "python",
   "name": "python3"
  },
  "language_info": {
   "codemirror_mode": {
    "name": "ipython",
    "version": 3
   },
   "file_extension": ".py",
   "mimetype": "text/x-python",
   "name": "python",
   "nbconvert_exporter": "python",
   "pygments_lexer": "ipython3",
   "version": "3.8.16"
  },
  "orig_nbformat": 4,
  "vscode": {
   "interpreter": {
    "hash": "4249f8e087ad731f5e338836e2eb79540285f90ed1dfcc5ccaf8d5c2082bb200"
   }
  }
 },
 "nbformat": 4,
 "nbformat_minor": 2
}
