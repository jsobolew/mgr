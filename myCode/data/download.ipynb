{
 "cells": [
  {
   "cell_type": "code",
   "execution_count": 1,
   "metadata": {},
   "outputs": [
    {
     "ename": "ModuleNotFoundError",
     "evalue": "No module named 'wget'",
     "output_type": "error",
     "traceback": [
      "\u001b[0;31m---------------------------------------------------------------------------\u001b[0m",
      "\u001b[0;31mModuleNotFoundError\u001b[0m                       Traceback (most recent call last)",
      "Cell \u001b[0;32mIn[1], line 3\u001b[0m\n\u001b[1;32m      1\u001b[0m \u001b[39mimport\u001b[39;00m \u001b[39mos\u001b[39;00m\n\u001b[1;32m      2\u001b[0m \u001b[39mimport\u001b[39;00m \u001b[39mzipfile\u001b[39;00m\n\u001b[0;32m----> 3\u001b[0m \u001b[39mimport\u001b[39;00m \u001b[39mwget\u001b[39;00m\n",
      "\u001b[0;31mModuleNotFoundError\u001b[0m: No module named 'wget'"
     ]
    }
   ],
   "source": [
    "import os\n",
    "import zipfile\n",
    "import wget"
   ]
  },
  {
   "cell_type": "code",
   "execution_count": null,
   "metadata": {},
   "outputs": [],
   "source": [
    "datasets = ['dead_leaves-squares']\n",
    "# datasets =  ['dead_leaves-oriented' ,\n",
    "#           'dead_leaves-mixed' ,\n",
    "#           'dead_leaves-textures' ,\n",
    "\n",
    "#           'stat-spectrum' ,\n",
    "#           'stat-wmm' ,\n",
    "#           'stat-spectrum_color' ,\n",
    "#           'stat-spectrum_color_wmm' ,\n",
    "\n",
    "#           'stylegan-random' ,\n",
    "#           'stylegan-highfreq' ,\n",
    "#           'stylegan-sparse' ,\n",
    "#           'stylegan-oriented' ,\n",
    "\n",
    "#           'feature_vis-random' ,\n",
    "#           'feature_vis-dead_leaves']"
   ]
  },
  {
   "cell_type": "code",
   "execution_count": null,
   "metadata": {},
   "outputs": [],
   "source": [
    "for i in range(len(datasets)):\n",
    "    dataset = datasets[i]\n",
    "    url = f\"http://data.csail.mit.edu/noiselearning/zipped_data/small_scale/{dataset}.zip\"\n",
    "\n",
    "\n",
    "    wget.download(url)\n",
    "\n",
    "    with zipfile.ZipFile(dataset+'.zip', 'r') as zip_ref:\n",
    "        zip_ref.extractall(dataset)\n",
    "    os.remove(dataset+'.zip')"
   ]
  }
 ],
 "metadata": {
  "kernelspec": {
   "display_name": "Python 3",
   "language": "python",
   "name": "python3"
  },
  "language_info": {
   "codemirror_mode": {
    "name": "ipython",
    "version": 3
   },
   "file_extension": ".py",
   "mimetype": "text/x-python",
   "name": "python",
   "nbconvert_exporter": "python",
   "pygments_lexer": "ipython3",
   "version": "3.10.10"
  },
  "orig_nbformat": 4,
  "vscode": {
   "interpreter": {
    "hash": "4249f8e087ad731f5e338836e2eb79540285f90ed1dfcc5ccaf8d5c2082bb200"
   }
  }
 },
 "nbformat": 4,
 "nbformat_minor": 2
}
