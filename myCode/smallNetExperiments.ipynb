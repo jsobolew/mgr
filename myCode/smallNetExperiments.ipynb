{
 "cells": [
  {
   "cell_type": "code",
   "execution_count": 1,
   "metadata": {},
   "outputs": [
    {
     "name": "stderr",
     "output_type": "stream",
     "text": [
      "c:\\Users\\QbaSo\\AppData\\Local\\Programs\\Python\\Python39\\lib\\site-packages\\requests\\__init__.py:102: RequestsDependencyWarning: urllib3 (1.26.9) or chardet (5.1.0)/charset_normalizer (2.0.12) doesn't match a supported version!\n",
      "  warnings.warn(\"urllib3 ({}) or chardet ({})/charset_normalizer ({}) doesn't match a supported \"\n"
     ]
    },
    {
     "data": {
      "text/plain": [
       "True"
      ]
     },
     "execution_count": 1,
     "metadata": {},
     "output_type": "execute_result"
    }
   ],
   "source": [
    "import torch\n",
    "from Nets import Net, NetNoise\n",
    "from functions import train, test\n",
    "from dataloaders import MNIST, MNIST_train_random_lebels, dead_leaves_squares_pretraining\n",
    "import numpy as np\n",
    "import torch.optim as optim\n",
    "import matplotlib.pyplot as plt\n",
    "\n",
    "torch.cuda.is_available()"
   ]
  },
  {
   "cell_type": "code",
   "execution_count": 100,
   "metadata": {},
   "outputs": [],
   "source": [
    "from torch.utils.data import Dataset\n",
    "import os\n",
    "import json\n",
    "from skimage import io\n",
    "import torchvision\n",
    "from PIL import Image\n",
    "\n",
    "resize_image = True\n",
    "\n",
    "transform_array = []\n",
    "if resize_image:\n",
    "    transform_array.append(\n",
    "        torchvision.transforms.Resize((96,96))\n",
    "    )\n",
    "\n",
    "transform_array += [\n",
    "    torchvision.transforms.RandomResizedCrop(64, scale=(0.08, 1)),\n",
    "    torchvision.transforms.RandomHorizontalFlip(),\n",
    "    torchvision.transforms.ColorJitter(0.4, 0.4, 0.4, 0.4),\n",
    "    torchvision.transforms.RandomGrayscale(p=0.2),\n",
    "    torchvision.transforms.ToTensor(),\n",
    "    torchvision.transforms.Normalize(\n",
    "        (0.44087801806139126, 0.42790631331699347, 0.3867879370752931),\n",
    "        (0.26826768628079806, 0.2610450402318512, 0.26866836876860795),\n",
    "    ),\n",
    "]\n",
    "\n",
    "transform = torchvision.transforms.Compose(transform_array)\n",
    "\n",
    "class ImageNet100(Dataset):\n",
    "    def __init__(self, data_root, transform=None):\n",
    "        train_folders = [\"train.X1\",\"train.X2\",\"train.X3\",\"train.X4\"]\n",
    "        f = open(\"labels.json\")\n",
    "        labels_dict = json.load(f)\n",
    "        self.data_root = data_root\n",
    "        self.images = []\n",
    "        self.labels = []\n",
    "        self.transform = transform\n",
    "\n",
    "        for train_folder in train_folders:\n",
    "            for label in os.listdir(data_root+'\\\\'+train_folder):\n",
    "                for img in os.listdir(data_root+'\\\\'+train_folder+'\\\\'+label):\n",
    "                    self.images.append(data_root+'\\\\'+train_folder+'\\\\'+label+'\\\\'+img)\n",
    "                    self.labels.append(labels_dict[label])\n",
    "        self.labels = torch.tensor(self.labels)\n",
    "\n",
    "    def __len__(self):\n",
    "        return len(self.images)\n",
    "\n",
    "    def __getitem__(self, idx):\n",
    "            x = io.imread(\"E:\\\\Datasets\\\\Imagenet100\\\\train.X1\\\\n01440764\\\\n01440764_10026.JPEG\").T\n",
    "            x = torchvision.io.read_image(\"E:\\\\Datasets\\\\Imagenet100\\\\train.X1\\\\n01440764\\\\n01440764_10026.JPEG\")\n",
    "            x = Image.open(\"E:\\\\Datasets\\\\Imagenet100\\\\train.X1\\\\n01440764\\\\n01440764_10026.JPEG\")\n",
    "            x = cv2.imread(\"E:\\\\Datasets\\\\Imagenet100\\\\train.X1\\\\n01440764\\\\n01440764_10026.JPEG\")\n",
    "\n",
    "            if self.transform:\n",
    "                x = self.transform(x)\n",
    "            return x, self.labels[idx]"
   ]
  },
  {
   "cell_type": "code",
   "execution_count": 101,
   "metadata": {},
   "outputs": [],
   "source": [
    "# io.imread(\"E:\\\\Datasets\\\\Imagenet100\\\\train.X1\\\\n01440764\\\\n01440764_10026.JPEG\").T"
   ]
  },
  {
   "cell_type": "code",
   "execution_count": 102,
   "metadata": {},
   "outputs": [],
   "source": [
    "# torchvision.io.read_image(\"E:\\\\Datasets\\\\Imagenet100\\\\train.X1\\\\n01440764\\\\n01440764_10026.JPEG\")"
   ]
  },
  {
   "cell_type": "code",
   "execution_count": 103,
   "metadata": {},
   "outputs": [],
   "source": [
    "# Image.open(\"E:\\\\Datasets\\\\Imagenet100\\\\train.X1\\\\n01440764\\\\n01440764_10026.JPEG\")"
   ]
  },
  {
   "cell_type": "code",
   "execution_count": 104,
   "metadata": {},
   "outputs": [],
   "source": [
    "# import cv2\n",
    "# cv2.imread(\"E:\\\\Datasets\\\\Imagenet100\\\\train.X1\\\\n01440764\\\\n01440764_10026.JPEG\")"
   ]
  },
  {
   "cell_type": "code",
   "execution_count": 105,
   "metadata": {},
   "outputs": [],
   "source": [
    "# plt.imread(\"E:\\\\Datasets\\\\Imagenet100\\\\train.X1\\\\n01440764\\\\n01440764_10026.JPEG\").T"
   ]
  },
  {
   "cell_type": "code",
   "execution_count": 106,
   "metadata": {},
   "outputs": [
    {
     "name": "stdout",
     "output_type": "stream",
     "text": [
      "-------------------------------------------------- pretraining --------------------------------------------------\n",
      "Loading data from data/dead_leaves-squares/ as imagefolder\n"
     ]
    },
    {
     "data": {
      "text/plain": [
       "<All keys matched successfully>"
      ]
     },
     "execution_count": 106,
     "metadata": {},
     "output_type": "execute_result"
    }
   ],
   "source": [
    "print('-'*50, 'pretraining', '-'*50)\n",
    "train_loader_random_lebels = dead_leaves_squares_pretraining()\n",
    "\n",
    "model = NetNoise()\n",
    "optimizer = optim.SGD(model.parameters(), lr=0.1)\n",
    "# train_losses = train(model, optimizer, train_loader_random_lebels)\n",
    "# plt.plot(train_losses)\n",
    "\n",
    "model.load_state_dict(torch.load(\"pretrained_dead_leaves_squares.pt\"))"
   ]
  },
  {
   "cell_type": "code",
   "execution_count": 107,
   "metadata": {},
   "outputs": [
    {
     "name": "stdout",
     "output_type": "stream",
     "text": [
      "-------------------------------------------------- training only last layer --------------------------------------------------\n"
     ]
    }
   ],
   "source": [
    "print('-'*50, 'training only last layer', '-'*50)\n",
    "dl = ImageNet100(\"E:\\Datasets\\Imagenet100\", transform)\n",
    "train_loader = torch.utils.data.DataLoader(dl, batch_size=1, num_workers=2, shuffle=False)\n",
    "\n",
    "newModel = model.return_pretrained_model(100)\n",
    "# train_losses = train(model, optimizer, train_loader)\n",
    "# test(model, test_loader)"
   ]
  },
  {
   "cell_type": "code",
   "execution_count": 108,
   "metadata": {},
   "outputs": [
    {
     "ename": "TypeError",
     "evalue": "pic should be PIL Image or ndarray. Got <class 'torch.Tensor'>",
     "output_type": "error",
     "traceback": [
      "\u001b[1;31m---------------------------------------------------------------------------\u001b[0m",
      "\u001b[1;31mTypeError\u001b[0m                                 Traceback (most recent call last)",
      "\u001b[1;32mc:\\Users\\QbaSo\\Desktop\\praca magisterska\\myCode\\smallNetExperiments.ipynb Cell 10\u001b[0m in \u001b[0;36m<cell line: 1>\u001b[1;34m()\u001b[0m\n\u001b[1;32m----> <a href='vscode-notebook-cell:/c%3A/Users/QbaSo/Desktop/praca%20magisterska/myCode/smallNetExperiments.ipynb#Y123sZmlsZQ%3D%3D?line=0'>1</a>\u001b[0m newModel(dl[\u001b[39m0\u001b[39;49m][\u001b[39m0\u001b[39m])\n",
      "\u001b[1;32mc:\\Users\\QbaSo\\Desktop\\praca magisterska\\myCode\\smallNetExperiments.ipynb Cell 10\u001b[0m in \u001b[0;36mImageNet100.__getitem__\u001b[1;34m(self, idx)\u001b[0m\n\u001b[0;32m     <a href='vscode-notebook-cell:/c%3A/Users/QbaSo/Desktop/praca%20magisterska/myCode/smallNetExperiments.ipynb#Y123sZmlsZQ%3D%3D?line=51'>52</a>\u001b[0m x \u001b[39m=\u001b[39m torchvision\u001b[39m.\u001b[39mio\u001b[39m.\u001b[39mread_image(\u001b[39m\"\u001b[39m\u001b[39mE:\u001b[39m\u001b[39m\\\\\u001b[39;00m\u001b[39mDatasets\u001b[39m\u001b[39m\\\\\u001b[39;00m\u001b[39mImagenet100\u001b[39m\u001b[39m\\\\\u001b[39;00m\u001b[39mtrain.X1\u001b[39m\u001b[39m\\\\\u001b[39;00m\u001b[39mn01440764\u001b[39m\u001b[39m\\\\\u001b[39;00m\u001b[39mn01440764_10026.JPEG\u001b[39m\u001b[39m\"\u001b[39m)\n\u001b[0;32m     <a href='vscode-notebook-cell:/c%3A/Users/QbaSo/Desktop/praca%20magisterska/myCode/smallNetExperiments.ipynb#Y123sZmlsZQ%3D%3D?line=52'>53</a>\u001b[0m \u001b[39mif\u001b[39;00m \u001b[39mself\u001b[39m\u001b[39m.\u001b[39mtransform:\n\u001b[1;32m---> <a href='vscode-notebook-cell:/c%3A/Users/QbaSo/Desktop/praca%20magisterska/myCode/smallNetExperiments.ipynb#Y123sZmlsZQ%3D%3D?line=53'>54</a>\u001b[0m     x \u001b[39m=\u001b[39m \u001b[39mself\u001b[39;49m\u001b[39m.\u001b[39;49mtransform(x)\n\u001b[0;32m     <a href='vscode-notebook-cell:/c%3A/Users/QbaSo/Desktop/praca%20magisterska/myCode/smallNetExperiments.ipynb#Y123sZmlsZQ%3D%3D?line=54'>55</a>\u001b[0m \u001b[39mreturn\u001b[39;00m x, \u001b[39mself\u001b[39m\u001b[39m.\u001b[39mlabels[idx]\n",
      "File \u001b[1;32mc:\\Users\\QbaSo\\AppData\\Local\\Programs\\Python\\Python39\\lib\\site-packages\\torchvision\\transforms\\transforms.py:95\u001b[0m, in \u001b[0;36mCompose.__call__\u001b[1;34m(self, img)\u001b[0m\n\u001b[0;32m     93\u001b[0m \u001b[39mdef\u001b[39;00m \u001b[39m__call__\u001b[39m(\u001b[39mself\u001b[39m, img):\n\u001b[0;32m     94\u001b[0m     \u001b[39mfor\u001b[39;00m t \u001b[39min\u001b[39;00m \u001b[39mself\u001b[39m\u001b[39m.\u001b[39mtransforms:\n\u001b[1;32m---> 95\u001b[0m         img \u001b[39m=\u001b[39m t(img)\n\u001b[0;32m     96\u001b[0m     \u001b[39mreturn\u001b[39;00m img\n",
      "File \u001b[1;32mc:\\Users\\QbaSo\\AppData\\Local\\Programs\\Python\\Python39\\lib\\site-packages\\torchvision\\transforms\\transforms.py:135\u001b[0m, in \u001b[0;36mToTensor.__call__\u001b[1;34m(self, pic)\u001b[0m\n\u001b[0;32m    127\u001b[0m \u001b[39mdef\u001b[39;00m \u001b[39m__call__\u001b[39m(\u001b[39mself\u001b[39m, pic):\n\u001b[0;32m    128\u001b[0m     \u001b[39m\"\"\"\u001b[39;00m\n\u001b[0;32m    129\u001b[0m \u001b[39m    Args:\u001b[39;00m\n\u001b[0;32m    130\u001b[0m \u001b[39m        pic (PIL Image or numpy.ndarray): Image to be converted to tensor.\u001b[39;00m\n\u001b[1;32m   (...)\u001b[0m\n\u001b[0;32m    133\u001b[0m \u001b[39m        Tensor: Converted image.\u001b[39;00m\n\u001b[0;32m    134\u001b[0m \u001b[39m    \"\"\"\u001b[39;00m\n\u001b[1;32m--> 135\u001b[0m     \u001b[39mreturn\u001b[39;00m F\u001b[39m.\u001b[39;49mto_tensor(pic)\n",
      "File \u001b[1;32mc:\\Users\\QbaSo\\AppData\\Local\\Programs\\Python\\Python39\\lib\\site-packages\\torchvision\\transforms\\functional.py:137\u001b[0m, in \u001b[0;36mto_tensor\u001b[1;34m(pic)\u001b[0m\n\u001b[0;32m    135\u001b[0m     _log_api_usage_once(to_tensor)\n\u001b[0;32m    136\u001b[0m \u001b[39mif\u001b[39;00m \u001b[39mnot\u001b[39;00m (F_pil\u001b[39m.\u001b[39m_is_pil_image(pic) \u001b[39mor\u001b[39;00m _is_numpy(pic)):\n\u001b[1;32m--> 137\u001b[0m     \u001b[39mraise\u001b[39;00m \u001b[39mTypeError\u001b[39;00m(\u001b[39mf\u001b[39m\u001b[39m\"\u001b[39m\u001b[39mpic should be PIL Image or ndarray. Got \u001b[39m\u001b[39m{\u001b[39;00m\u001b[39mtype\u001b[39m(pic)\u001b[39m}\u001b[39;00m\u001b[39m\"\u001b[39m)\n\u001b[0;32m    139\u001b[0m \u001b[39mif\u001b[39;00m _is_numpy(pic) \u001b[39mand\u001b[39;00m \u001b[39mnot\u001b[39;00m _is_numpy_image(pic):\n\u001b[0;32m    140\u001b[0m     \u001b[39mraise\u001b[39;00m \u001b[39mValueError\u001b[39;00m(\u001b[39mf\u001b[39m\u001b[39m\"\u001b[39m\u001b[39mpic should be 2/3 dimensional. Got \u001b[39m\u001b[39m{\u001b[39;00mpic\u001b[39m.\u001b[39mndim\u001b[39m}\u001b[39;00m\u001b[39m dimensions.\u001b[39m\u001b[39m\"\u001b[39m)\n",
      "\u001b[1;31mTypeError\u001b[0m: pic should be PIL Image or ndarray. Got <class 'torch.Tensor'>"
     ]
    }
   ],
   "source": [
    "newModel(dl[0][0])"
   ]
  },
  {
   "cell_type": "code",
   "execution_count": 95,
   "metadata": {},
   "outputs": [
    {
     "ename": "TypeError",
     "evalue": "Unexpected type <class 'numpy.ndarray'>",
     "output_type": "error",
     "traceback": [
      "\u001b[1;31m---------------------------------------------------------------------------\u001b[0m",
      "\u001b[1;31mTypeError\u001b[0m                                 Traceback (most recent call last)",
      "\u001b[1;32mc:\\Users\\QbaSo\\Desktop\\praca magisterska\\myCode\\smallNetExperiments.ipynb Cell 11\u001b[0m in \u001b[0;36m<cell line: 1>\u001b[1;34m()\u001b[0m\n\u001b[1;32m----> <a href='vscode-notebook-cell:/c%3A/Users/QbaSo/Desktop/praca%20magisterska/myCode/smallNetExperiments.ipynb#Y131sZmlsZQ%3D%3D?line=0'>1</a>\u001b[0m dl[\u001b[39m0\u001b[39;49m][\u001b[39m0\u001b[39m]\n",
      "\u001b[1;32mc:\\Users\\QbaSo\\Desktop\\praca magisterska\\myCode\\smallNetExperiments.ipynb Cell 11\u001b[0m in \u001b[0;36mImageNet100.__getitem__\u001b[1;34m(self, idx)\u001b[0m\n\u001b[0;32m     <a href='vscode-notebook-cell:/c%3A/Users/QbaSo/Desktop/praca%20magisterska/myCode/smallNetExperiments.ipynb#Y131sZmlsZQ%3D%3D?line=50'>51</a>\u001b[0m x \u001b[39m=\u001b[39m io\u001b[39m.\u001b[39mimread(\u001b[39m\"\u001b[39m\u001b[39mE:\u001b[39m\u001b[39m\\\\\u001b[39;00m\u001b[39mDatasets\u001b[39m\u001b[39m\\\\\u001b[39;00m\u001b[39mImagenet100\u001b[39m\u001b[39m\\\\\u001b[39;00m\u001b[39mtrain.X1\u001b[39m\u001b[39m\\\\\u001b[39;00m\u001b[39mn01440764\u001b[39m\u001b[39m\\\\\u001b[39;00m\u001b[39mn01440764_10026.JPEG\u001b[39m\u001b[39m\"\u001b[39m)\u001b[39m.\u001b[39mT\n\u001b[0;32m     <a href='vscode-notebook-cell:/c%3A/Users/QbaSo/Desktop/praca%20magisterska/myCode/smallNetExperiments.ipynb#Y131sZmlsZQ%3D%3D?line=51'>52</a>\u001b[0m \u001b[39mif\u001b[39;00m \u001b[39mself\u001b[39m\u001b[39m.\u001b[39mtransform:\n\u001b[1;32m---> <a href='vscode-notebook-cell:/c%3A/Users/QbaSo/Desktop/praca%20magisterska/myCode/smallNetExperiments.ipynb#Y131sZmlsZQ%3D%3D?line=52'>53</a>\u001b[0m     x \u001b[39m=\u001b[39m torch\u001b[39m.\u001b[39mtensor(\u001b[39mself\u001b[39;49m\u001b[39m.\u001b[39;49mtransform(x))\n\u001b[0;32m     <a href='vscode-notebook-cell:/c%3A/Users/QbaSo/Desktop/praca%20magisterska/myCode/smallNetExperiments.ipynb#Y131sZmlsZQ%3D%3D?line=53'>54</a>\u001b[0m \u001b[39mreturn\u001b[39;00m x, \u001b[39mself\u001b[39m\u001b[39m.\u001b[39mlabels[idx]\n",
      "File \u001b[1;32mc:\\Users\\QbaSo\\AppData\\Local\\Programs\\Python\\Python39\\lib\\site-packages\\torchvision\\transforms\\transforms.py:95\u001b[0m, in \u001b[0;36mCompose.__call__\u001b[1;34m(self, img)\u001b[0m\n\u001b[0;32m     93\u001b[0m \u001b[39mdef\u001b[39;00m \u001b[39m__call__\u001b[39m(\u001b[39mself\u001b[39m, img):\n\u001b[0;32m     94\u001b[0m     \u001b[39mfor\u001b[39;00m t \u001b[39min\u001b[39;00m \u001b[39mself\u001b[39m\u001b[39m.\u001b[39mtransforms:\n\u001b[1;32m---> 95\u001b[0m         img \u001b[39m=\u001b[39m t(img)\n\u001b[0;32m     96\u001b[0m     \u001b[39mreturn\u001b[39;00m img\n",
      "File \u001b[1;32mc:\\Users\\QbaSo\\AppData\\Local\\Programs\\Python\\Python39\\lib\\site-packages\\torch\\nn\\modules\\module.py:1190\u001b[0m, in \u001b[0;36mModule._call_impl\u001b[1;34m(self, *input, **kwargs)\u001b[0m\n\u001b[0;32m   1186\u001b[0m \u001b[39m# If we don't have any hooks, we want to skip the rest of the logic in\u001b[39;00m\n\u001b[0;32m   1187\u001b[0m \u001b[39m# this function, and just call forward.\u001b[39;00m\n\u001b[0;32m   1188\u001b[0m \u001b[39mif\u001b[39;00m \u001b[39mnot\u001b[39;00m (\u001b[39mself\u001b[39m\u001b[39m.\u001b[39m_backward_hooks \u001b[39mor\u001b[39;00m \u001b[39mself\u001b[39m\u001b[39m.\u001b[39m_forward_hooks \u001b[39mor\u001b[39;00m \u001b[39mself\u001b[39m\u001b[39m.\u001b[39m_forward_pre_hooks \u001b[39mor\u001b[39;00m _global_backward_hooks\n\u001b[0;32m   1189\u001b[0m         \u001b[39mor\u001b[39;00m _global_forward_hooks \u001b[39mor\u001b[39;00m _global_forward_pre_hooks):\n\u001b[1;32m-> 1190\u001b[0m     \u001b[39mreturn\u001b[39;00m forward_call(\u001b[39m*\u001b[39m\u001b[39minput\u001b[39m, \u001b[39m*\u001b[39m\u001b[39m*\u001b[39mkwargs)\n\u001b[0;32m   1191\u001b[0m \u001b[39m# Do not call functions when jit is used\u001b[39;00m\n\u001b[0;32m   1192\u001b[0m full_backward_hooks, non_full_backward_hooks \u001b[39m=\u001b[39m [], []\n",
      "File \u001b[1;32mc:\\Users\\QbaSo\\AppData\\Local\\Programs\\Python\\Python39\\lib\\site-packages\\torchvision\\transforms\\transforms.py:346\u001b[0m, in \u001b[0;36mResize.forward\u001b[1;34m(self, img)\u001b[0m\n\u001b[0;32m    338\u001b[0m \u001b[39mdef\u001b[39;00m \u001b[39mforward\u001b[39m(\u001b[39mself\u001b[39m, img):\n\u001b[0;32m    339\u001b[0m     \u001b[39m\"\"\"\u001b[39;00m\n\u001b[0;32m    340\u001b[0m \u001b[39m    Args:\u001b[39;00m\n\u001b[0;32m    341\u001b[0m \u001b[39m        img (PIL Image or Tensor): Image to be scaled.\u001b[39;00m\n\u001b[1;32m   (...)\u001b[0m\n\u001b[0;32m    344\u001b[0m \u001b[39m        PIL Image or Tensor: Rescaled image.\u001b[39;00m\n\u001b[0;32m    345\u001b[0m \u001b[39m    \"\"\"\u001b[39;00m\n\u001b[1;32m--> 346\u001b[0m     \u001b[39mreturn\u001b[39;00m F\u001b[39m.\u001b[39;49mresize(img, \u001b[39mself\u001b[39;49m\u001b[39m.\u001b[39;49msize, \u001b[39mself\u001b[39;49m\u001b[39m.\u001b[39;49minterpolation, \u001b[39mself\u001b[39;49m\u001b[39m.\u001b[39;49mmax_size, \u001b[39mself\u001b[39;49m\u001b[39m.\u001b[39;49mantialias)\n",
      "File \u001b[1;32mc:\\Users\\QbaSo\\AppData\\Local\\Programs\\Python\\Python39\\lib\\site-packages\\torchvision\\transforms\\functional.py:462\u001b[0m, in \u001b[0;36mresize\u001b[1;34m(img, size, interpolation, max_size, antialias)\u001b[0m\n\u001b[0;32m    456\u001b[0m     \u001b[39mif\u001b[39;00m max_size \u001b[39mis\u001b[39;00m \u001b[39mnot\u001b[39;00m \u001b[39mNone\u001b[39;00m \u001b[39mand\u001b[39;00m \u001b[39mlen\u001b[39m(size) \u001b[39m!=\u001b[39m \u001b[39m1\u001b[39m:\n\u001b[0;32m    457\u001b[0m         \u001b[39mraise\u001b[39;00m \u001b[39mValueError\u001b[39;00m(\n\u001b[0;32m    458\u001b[0m             \u001b[39m\"\u001b[39m\u001b[39mmax_size should only be passed if size specifies the length of the smaller edge, \u001b[39m\u001b[39m\"\u001b[39m\n\u001b[0;32m    459\u001b[0m             \u001b[39m\"\u001b[39m\u001b[39mi.e. size should be an int or a sequence of length 1 in torchscript mode.\u001b[39m\u001b[39m\"\u001b[39m\n\u001b[0;32m    460\u001b[0m         )\n\u001b[1;32m--> 462\u001b[0m _, image_height, image_width \u001b[39m=\u001b[39m get_dimensions(img)\n\u001b[0;32m    463\u001b[0m \u001b[39mif\u001b[39;00m \u001b[39misinstance\u001b[39m(size, \u001b[39mint\u001b[39m):\n\u001b[0;32m    464\u001b[0m     size \u001b[39m=\u001b[39m [size]\n",
      "File \u001b[1;32mc:\\Users\\QbaSo\\AppData\\Local\\Programs\\Python\\Python39\\lib\\site-packages\\torchvision\\transforms\\functional.py:75\u001b[0m, in \u001b[0;36mget_dimensions\u001b[1;34m(img)\u001b[0m\n\u001b[0;32m     72\u001b[0m \u001b[39mif\u001b[39;00m \u001b[39misinstance\u001b[39m(img, torch\u001b[39m.\u001b[39mTensor):\n\u001b[0;32m     73\u001b[0m     \u001b[39mreturn\u001b[39;00m F_t\u001b[39m.\u001b[39mget_dimensions(img)\n\u001b[1;32m---> 75\u001b[0m \u001b[39mreturn\u001b[39;00m F_pil\u001b[39m.\u001b[39;49mget_dimensions(img)\n",
      "File \u001b[1;32mc:\\Users\\QbaSo\\AppData\\Local\\Programs\\Python\\Python39\\lib\\site-packages\\torchvision\\transforms\\functional_pil.py:33\u001b[0m, in \u001b[0;36mget_dimensions\u001b[1;34m(img)\u001b[0m\n\u001b[0;32m     31\u001b[0m     width, height \u001b[39m=\u001b[39m img\u001b[39m.\u001b[39msize\n\u001b[0;32m     32\u001b[0m     \u001b[39mreturn\u001b[39;00m [channels, height, width]\n\u001b[1;32m---> 33\u001b[0m \u001b[39mraise\u001b[39;00m \u001b[39mTypeError\u001b[39;00m(\u001b[39mf\u001b[39m\u001b[39m\"\u001b[39m\u001b[39mUnexpected type \u001b[39m\u001b[39m{\u001b[39;00m\u001b[39mtype\u001b[39m(img)\u001b[39m}\u001b[39;00m\u001b[39m\"\u001b[39m)\n",
      "\u001b[1;31mTypeError\u001b[0m: Unexpected type <class 'numpy.ndarray'>"
     ]
    }
   ],
   "source": [
    "dl[0][0]"
   ]
  },
  {
   "cell_type": "code",
   "execution_count": 28,
   "metadata": {},
   "outputs": [
    {
     "data": {
      "text/plain": [
       "torch.Tensor"
      ]
     },
     "execution_count": 28,
     "metadata": {},
     "output_type": "execute_result"
    }
   ],
   "source": [
    "type(dl[0][0])"
   ]
  },
  {
   "cell_type": "code",
   "execution_count": 33,
   "metadata": {},
   "outputs": [
    {
     "data": {
      "text/plain": [
       "torch.Size([3, 64, 64])"
      ]
     },
     "execution_count": 33,
     "metadata": {},
     "output_type": "execute_result"
    }
   ],
   "source": [
    "train_loader_random_lebels.dataset[0][0].shape"
   ]
  },
  {
   "cell_type": "code",
   "execution_count": 19,
   "metadata": {},
   "outputs": [
    {
     "data": {
      "text/plain": [
       "NetNoise(\n",
       "  (conv1): Conv2d(3, 10, kernel_size=(5, 5), stride=(1, 1))\n",
       "  (conv2): Conv2d(10, 20, kernel_size=(5, 5), stride=(1, 1))\n",
       "  (conv2_drop): Dropout2d(p=0.5, inplace=False)\n",
       "  (fc1): Linear(in_features=3380, out_features=50, bias=True)\n",
       "  (fc2): Linear(in_features=50, out_features=105, bias=True)\n",
       ")"
      ]
     },
     "execution_count": 19,
     "metadata": {},
     "output_type": "execute_result"
    }
   ],
   "source": [
    "model"
   ]
  },
  {
   "cell_type": "code",
   "execution_count": 10,
   "metadata": {},
   "outputs": [],
   "source": [
    "import torchvision\n",
    "train_path = \"E:\\Datasets\\Imagenet100\\\\train.X1\"\n",
    "\n",
    "dataset = torchvision.datasets.ImageFolder(\n",
    "    train_path,\n",
    "    transform=None)"
   ]
  },
  {
   "cell_type": "code",
   "execution_count": 11,
   "metadata": {},
   "outputs": [
    {
     "data": {
      "text/plain": [
       "Dataset ImageFolder\n",
       "    Number of datapoints: 32500\n",
       "    Root location: E:\\Datasets\\Imagenet100\\train.X1"
      ]
     },
     "execution_count": 11,
     "metadata": {},
     "output_type": "execute_result"
    }
   ],
   "source": [
    "dataset"
   ]
  },
  {
   "cell_type": "code",
   "execution_count": 5,
   "metadata": {},
   "outputs": [],
   "source": [
    "dl = ImageNet100(\"E:\\Datasets\\Imagenet100\")\n",
    "train_loader = torch.utils.data.DataLoader(dl, batch_size=1, num_workers=2, shuffle=False)"
   ]
  },
  {
   "cell_type": "code",
   "execution_count": 36,
   "metadata": {},
   "outputs": [],
   "source": [
    "# unique_labels = np.unique(dl.labels)\n",
    "\n",
    "# labels_dict = dict()\n",
    "\n",
    "# for i in range(len(unique_labels)):\n",
    "#     labels_dict[unique_labels[i]] = i\n",
    "    \n",
    "# f = open(\"labels.json\", \"w\")\n",
    "\n",
    "# json.dump(labels_dict, f)\n",
    "# f.close()\n"
   ]
  },
  {
   "cell_type": "code",
   "execution_count": 68,
   "metadata": {},
   "outputs": [],
   "source": [
    "train_loader = torch.utils.data.DataLoader(dl, batch_size=1, num_workers=2, shuffle=False)"
   ]
  },
  {
   "cell_type": "code",
   "execution_count": 69,
   "metadata": {},
   "outputs": [
    {
     "data": {
      "text/plain": [
       "(array([[[255, 255, 255],\n",
       "         [255, 255, 255],\n",
       "         [255, 255, 255],\n",
       "         ...,\n",
       "         [255, 255, 255],\n",
       "         [255, 255, 255],\n",
       "         [255, 255, 255]],\n",
       " \n",
       "        [[255, 255, 255],\n",
       "         [255, 255, 255],\n",
       "         [255, 255, 255],\n",
       "         ...,\n",
       "         [255, 255, 255],\n",
       "         [255, 255, 255],\n",
       "         [255, 255, 255]],\n",
       " \n",
       "        [[255, 255, 255],\n",
       "         [255, 255, 255],\n",
       "         [255, 255, 255],\n",
       "         ...,\n",
       "         [255, 255, 255],\n",
       "         [255, 255, 255],\n",
       "         [255, 255, 255]],\n",
       " \n",
       "        ...,\n",
       " \n",
       "        [[255, 255, 255],\n",
       "         [255, 255, 255],\n",
       "         [255, 255, 255],\n",
       "         ...,\n",
       "         [255, 255, 255],\n",
       "         [255, 255, 255],\n",
       "         [255, 255, 255]],\n",
       " \n",
       "        [[255, 255, 255],\n",
       "         [255, 255, 255],\n",
       "         [255, 255, 255],\n",
       "         ...,\n",
       "         [255, 255, 255],\n",
       "         [255, 255, 255],\n",
       "         [255, 255, 255]],\n",
       " \n",
       "        [[255, 255, 255],\n",
       "         [255, 255, 255],\n",
       "         [255, 255, 255],\n",
       "         ...,\n",
       "         [255, 255, 255],\n",
       "         [255, 255, 255],\n",
       "         [255, 255, 255]]], dtype=uint8),\n",
       " tensor(0))"
      ]
     },
     "execution_count": 69,
     "metadata": {},
     "output_type": "execute_result"
    }
   ],
   "source": [
    "train_loader.dataset[0]"
   ]
  },
  {
   "cell_type": "code",
   "execution_count": 70,
   "metadata": {},
   "outputs": [],
   "source": [
    "iter(train_loader)"
   ]
  },
  {
   "cell_type": "code",
   "execution_count": 25,
   "metadata": {},
   "outputs": [
    {
     "name": "stdout",
     "output_type": "stream",
     "text": [
      "Loading data from data/dead_leaves-squares/ as imagefolder\n"
     ]
    }
   ],
   "source": [
    "train_loader_random_lebels = dead_leaves_squares_pretraining()"
   ]
  },
  {
   "cell_type": "code",
   "execution_count": 50,
   "metadata": {},
   "outputs": [
    {
     "data": {
      "text/plain": [
       "<torch.utils.data.dataloader.DataLoader at 0x17ccab57eb0>"
      ]
     },
     "execution_count": 50,
     "metadata": {},
     "output_type": "execute_result"
    }
   ],
   "source": [
    "train_loader_random_lebels"
   ]
  },
  {
   "cell_type": "code",
   "execution_count": 40,
   "metadata": {},
   "outputs": [
    {
     "data": {
      "text/plain": [
       "(tensor([[[-0.7810, -0.7956, -0.5324,  ...,  0.2862,  0.2862,  0.2862],\n",
       "          [-0.4155, -0.4594, -0.4886,  ...,  0.2862,  0.2862,  0.2862],\n",
       "          [ 0.0815,  0.0815, -0.1378,  ...,  0.2862,  0.2862,  0.2862],\n",
       "          ...,\n",
       "          [ 0.3593,  0.3593,  0.3593,  ...,  0.3593,  0.3593,  0.3593],\n",
       "          [ 0.3593,  0.3593,  0.3593,  ...,  0.3593,  0.3593,  0.3593],\n",
       "          [ 0.3593,  0.3593,  0.3593,  ...,  0.3593,  0.3593,  0.3593]],\n",
       " \n",
       "         [[-0.7529, -0.7679, -0.4975,  ...,  0.3438,  0.3438,  0.3438],\n",
       "          [-0.3773, -0.4224, -0.4524,  ...,  0.3438,  0.3438,  0.3438],\n",
       "          [ 0.1335,  0.1335, -0.0919,  ...,  0.3438,  0.3438,  0.3438],\n",
       "          ...,\n",
       "          [ 0.4189,  0.4189,  0.4189,  ...,  0.4189,  0.4189,  0.4189],\n",
       "          [ 0.4189,  0.4189,  0.4189,  ...,  0.4189,  0.4189,  0.4189],\n",
       "          [ 0.4189,  0.4189,  0.4189,  ...,  0.4189,  0.4189,  0.4189]],\n",
       " \n",
       "         [[-0.5785, -0.5931, -0.3303,  ...,  0.4871,  0.4871,  0.4871],\n",
       "          [-0.2136, -0.2573, -0.2865,  ...,  0.4871,  0.4871,  0.4871],\n",
       "          [ 0.2827,  0.2827,  0.0638,  ...,  0.4871,  0.4871,  0.4871],\n",
       "          ...,\n",
       "          [ 0.5600,  0.5600,  0.5600,  ...,  0.5600,  0.5600,  0.5600],\n",
       "          [ 0.5600,  0.5600,  0.5600,  ...,  0.5600,  0.5600,  0.5600],\n",
       "          [ 0.5600,  0.5600,  0.5600,  ...,  0.5600,  0.5600,  0.5600]]]),\n",
       " 0)"
      ]
     },
     "execution_count": 40,
     "metadata": {},
     "output_type": "execute_result"
    }
   ],
   "source": [
    "train_loader_random_lebels.dataset[0]"
   ]
  },
  {
   "cell_type": "code",
   "execution_count": 2,
   "metadata": {},
   "outputs": [],
   "source": [
    "model = NetNoise()"
   ]
  },
  {
   "cell_type": "code",
   "execution_count": 3,
   "metadata": {},
   "outputs": [],
   "source": [
    "newModel = model.return_pretrained_model(100)"
   ]
  },
  {
   "cell_type": "code",
   "execution_count": 7,
   "metadata": {},
   "outputs": [
    {
     "data": {
      "text/plain": [
       "NetNoise(\n",
       "  (conv1): Conv2d(3, 10, kernel_size=(5, 5), stride=(1, 1))\n",
       "  (conv2): Conv2d(10, 20, kernel_size=(5, 5), stride=(1, 1))\n",
       "  (conv2_drop): Dropout2d(p=0.5, inplace=False)\n",
       "  (fc1): Linear(in_features=3380, out_features=50, bias=True)\n",
       "  (fc2): Linear(in_features=50, out_features=105, bias=True)\n",
       ")"
      ]
     },
     "execution_count": 7,
     "metadata": {},
     "output_type": "execute_result"
    }
   ],
   "source": [
    "model"
   ]
  },
  {
   "cell_type": "code",
   "execution_count": 6,
   "metadata": {},
   "outputs": [
    {
     "data": {
      "text/plain": [
       "Sequential(\n",
       "  (0): Conv2d(3, 10, kernel_size=(5, 5), stride=(1, 1))\n",
       "  (1): Conv2d(10, 20, kernel_size=(5, 5), stride=(1, 1))\n",
       "  (2): Dropout2d(p=0.5, inplace=False)\n",
       "  (3): Linear(in_features=3380, out_features=50, bias=True)\n",
       ")"
      ]
     },
     "execution_count": 6,
     "metadata": {},
     "output_type": "execute_result"
    }
   ],
   "source": [
    "import torch.nn as nn\n",
    "newModel.append(nn.Linear())"
   ]
  },
  {
   "cell_type": "code",
   "execution_count": 43,
   "metadata": {},
   "outputs": [],
   "source": [
    "import torch.nn as nn\n",
    "last_layer_in_features = list(list(model.children())[-1].parameters())[0].shape[1]\n",
    "no_classes = 100\n",
    "\n",
    "newModel = nn.Sequential(\n",
    "    *list(model.children())[:-1],\n",
    "    nn.Linear(last_layer_in_features, no_classes))"
   ]
  },
  {
   "cell_type": "code",
   "execution_count": 44,
   "metadata": {},
   "outputs": [
    {
     "data": {
      "text/plain": [
       "Sequential(\n",
       "  (0): Conv2d(3, 10, kernel_size=(5, 5), stride=(1, 1))\n",
       "  (1): Conv2d(10, 20, kernel_size=(5, 5), stride=(1, 1))\n",
       "  (2): Dropout2d(p=0.5, inplace=False)\n",
       "  (3): Linear(in_features=3380, out_features=50, bias=True)\n",
       "  (4): Linear(in_features=50, out_features=100, bias=True)\n",
       ")"
      ]
     },
     "execution_count": 44,
     "metadata": {},
     "output_type": "execute_result"
    }
   ],
   "source": [
    "newModel"
   ]
  },
  {
   "cell_type": "code",
   "execution_count": 25,
   "metadata": {},
   "outputs": [
    {
     "data": {
      "text/plain": [
       "NetNoise(\n",
       "  (conv1): Conv2d(3, 10, kernel_size=(5, 5), stride=(1, 1))\n",
       "  (conv2): Conv2d(10, 20, kernel_size=(5, 5), stride=(1, 1))\n",
       "  (conv2_drop): Dropout2d(p=0.5, inplace=False)\n",
       "  (fc1): Linear(in_features=3380, out_features=50, bias=True)\n",
       "  (fc2): Linear(in_features=50, out_features=105, bias=True)\n",
       ")"
      ]
     },
     "execution_count": 25,
     "metadata": {},
     "output_type": "execute_result"
    }
   ],
   "source": [
    "model"
   ]
  },
  {
   "cell_type": "code",
   "execution_count": 38,
   "metadata": {},
   "outputs": [
    {
     "data": {
      "text/plain": [
       "50"
      ]
     },
     "execution_count": 38,
     "metadata": {},
     "output_type": "execute_result"
    }
   ],
   "source": [
    "list(list(model.children())[-1].parameters())[0].shape[1]"
   ]
  }
 ],
 "metadata": {
  "kernelspec": {
   "display_name": "Python 3",
   "language": "python",
   "name": "python3"
  },
  "language_info": {
   "codemirror_mode": {
    "name": "ipython",
    "version": 3
   },
   "file_extension": ".py",
   "mimetype": "text/x-python",
   "name": "python",
   "nbconvert_exporter": "python",
   "pygments_lexer": "ipython3",
   "version": "3.9.10"
  },
  "orig_nbformat": 4,
  "vscode": {
   "interpreter": {
    "hash": "4249f8e087ad731f5e338836e2eb79540285f90ed1dfcc5ccaf8d5c2082bb200"
   }
  }
 },
 "nbformat": 4,
 "nbformat_minor": 2
}
